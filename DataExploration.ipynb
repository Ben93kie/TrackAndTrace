{
  "nbformat": 4,
  "nbformat_minor": 0,
  "metadata": {
    "colab": {
      "provenance": [],
      "collapsed_sections": [],
      "authorship_tag": "ABX9TyP6TpYOG3kU+IuVfhpAA4RO",
      "include_colab_link": true
    },
    "kernelspec": {
      "name": "python3",
      "display_name": "Python 3"
    },
    "language_info": {
      "name": "python"
    },
    "widgets": {
      "application/vnd.jupyter.widget-state+json": {
        "f719ca1c3b904ac1b48236ac6a742579": {
          "model_module": "jupyter-gmaps",
          "model_name": "FigureModel",
          "model_module_version": "0.9.0",
          "state": {
            "_dom_classes": [],
            "_errors_box": "IPY_MODEL_33cbe60eb9fd45689b9204224593dc51",
            "_map": "IPY_MODEL_5401bb1df47248cba4902d40b472ec27",
            "_model_module": "jupyter-gmaps",
            "_model_module_version": "0.9.0",
            "_model_name": "FigureModel",
            "_toolbar": "IPY_MODEL_d0cfbf0aa1e04b52ab93c3c79b5166cf",
            "_view_count": null,
            "_view_module": "jupyter-gmaps",
            "_view_module_version": "0.9.0",
            "_view_name": "FigureView",
            "layout": "IPY_MODEL_b88b9b7e540e43378729136580ebfb5f"
          }
        },
        "33cbe60eb9fd45689b9204224593dc51": {
          "model_module": "jupyter-gmaps",
          "model_name": "ErrorsBoxModel",
          "model_module_version": "0.9.0",
          "state": {
            "_dom_classes": [],
            "_model_module": "jupyter-gmaps",
            "_model_module_version": "0.9.0",
            "_model_name": "ErrorsBoxModel",
            "_view_count": null,
            "_view_module": "jupyter-gmaps",
            "_view_module_version": "0.9.0",
            "_view_name": "ErrorsBoxView",
            "errors": [],
            "layout": "IPY_MODEL_6c4d810218624e04b04c1ebc3013254b"
          }
        },
        "5401bb1df47248cba4902d40b472ec27": {
          "model_module": "jupyter-gmaps",
          "model_name": "PlainmapModel",
          "model_module_version": "0.9.0",
          "state": {
            "_dom_classes": [],
            "_model_module": "jupyter-gmaps",
            "_model_module_version": "0.9.0",
            "_model_name": "PlainmapModel",
            "_view_count": null,
            "_view_module": "jupyter-gmaps",
            "_view_module_version": "0.9.0",
            "_view_name": "PlainmapView",
            "configuration": {
              "api_key": "INSERT_GOOGLE_API_KEY_FOR_MAPS"
            },
            "data_bounds": [
              [
                15.557224880729006,
                -145.45404337011436
              ],
              [
                64.83538311927099,
                63.61462024873012
              ]
            ],
            "initial_viewport": {
              "type": "ZOOM_CENTER",
              "center": [
                39.607331,
                -43.851283
              ],
              "zoom_level": 3.5
            },
            "layers": [
              "IPY_MODEL_8ff16c156d75467c8ab7120df1fd99e6",
              "IPY_MODEL_912d417fb48e4d0bb5b747fd6b822959"
            ],
            "layout": "IPY_MODEL_4b6f57ba52b84891af093013cf340046",
            "map_type": "ROADMAP",
            "mouse_handling": "COOPERATIVE",
            "tilt": 45
          }
        },
        "d0cfbf0aa1e04b52ab93c3c79b5166cf": {
          "model_module": "jupyter-gmaps",
          "model_name": "ToolbarModel",
          "model_module_version": "0.9.0",
          "state": {
            "_dom_classes": [],
            "_model_module": "jupyter-gmaps",
            "_model_module_version": "0.9.0",
            "_model_name": "ToolbarModel",
            "_view_count": null,
            "_view_module": "jupyter-gmaps",
            "_view_module_version": "0.9.0",
            "_view_name": "ToolbarView",
            "layer_controls": [
              "IPY_MODEL_8f100903182e4e4eb1dc57c42bc429ce"
            ],
            "layout": "IPY_MODEL_46920cec423244ce81fde4c74a9175ae"
          }
        },
        "b88b9b7e540e43378729136580ebfb5f": {
          "model_module": "@jupyter-widgets/base",
          "model_name": "LayoutModel",
          "model_module_version": "1.2.0",
          "state": {
            "_model_module": "@jupyter-widgets/base",
            "_model_module_version": "1.2.0",
            "_model_name": "LayoutModel",
            "_view_count": null,
            "_view_module": "@jupyter-widgets/base",
            "_view_module_version": "1.2.0",
            "_view_name": "LayoutView",
            "align_content": null,
            "align_items": null,
            "align_self": null,
            "border": null,
            "bottom": null,
            "display": null,
            "flex": null,
            "flex_flow": null,
            "grid_area": null,
            "grid_auto_columns": null,
            "grid_auto_flow": null,
            "grid_auto_rows": null,
            "grid_column": null,
            "grid_gap": null,
            "grid_row": null,
            "grid_template_areas": null,
            "grid_template_columns": null,
            "grid_template_rows": null,
            "height": "420px",
            "justify_content": null,
            "justify_items": null,
            "left": null,
            "margin": null,
            "max_height": null,
            "max_width": null,
            "min_height": null,
            "min_width": null,
            "object_fit": null,
            "object_position": null,
            "order": null,
            "overflow": null,
            "overflow_x": null,
            "overflow_y": null,
            "padding": null,
            "right": null,
            "top": null,
            "visibility": null,
            "width": null
          }
        },
        "6c4d810218624e04b04c1ebc3013254b": {
          "model_module": "@jupyter-widgets/base",
          "model_name": "LayoutModel",
          "model_module_version": "1.2.0",
          "state": {
            "_model_module": "@jupyter-widgets/base",
            "_model_module_version": "1.2.0",
            "_model_name": "LayoutModel",
            "_view_count": null,
            "_view_module": "@jupyter-widgets/base",
            "_view_module_version": "1.2.0",
            "_view_name": "LayoutView",
            "align_content": null,
            "align_items": null,
            "align_self": null,
            "border": null,
            "bottom": null,
            "display": null,
            "flex": null,
            "flex_flow": null,
            "grid_area": null,
            "grid_auto_columns": null,
            "grid_auto_flow": null,
            "grid_auto_rows": null,
            "grid_column": null,
            "grid_gap": null,
            "grid_row": null,
            "grid_template_areas": null,
            "grid_template_columns": null,
            "grid_template_rows": null,
            "height": null,
            "justify_content": null,
            "justify_items": null,
            "left": null,
            "margin": null,
            "max_height": null,
            "max_width": null,
            "min_height": null,
            "min_width": null,
            "object_fit": null,
            "object_position": null,
            "order": null,
            "overflow": null,
            "overflow_x": null,
            "overflow_y": null,
            "padding": null,
            "right": null,
            "top": null,
            "visibility": null,
            "width": null
          }
        },
        "8ff16c156d75467c8ab7120df1fd99e6": {
          "model_module": "jupyter-gmaps",
          "model_name": "MarkerLayerModel",
          "model_module_version": "0.9.0",
          "state": {
            "_model_module": "jupyter-gmaps",
            "_model_module_version": "0.9.0",
            "_model_name": "MarkerLayerModel",
            "_view_count": null,
            "_view_module": "jupyter-gmaps",
            "_view_module_version": "0.9.0",
            "_view_name": "MarkerLayerView",
            "data_bounds": [
              [
                15.557224880729006,
                -145.45404337011436
              ],
              [
                64.83538311927099,
                63.61462024873012
              ]
            ],
            "markers": [
              "IPY_MODEL_cc119131b44b4fe8b4ffeb9a7a245493",
              "IPY_MODEL_f1b64418baac48ba8edb01e55e23d95e",
              "IPY_MODEL_4955883b681a4a9da801ce2a723f4893",
              "IPY_MODEL_d5ff56fc2f8d408f9e6a7c0e69128699",
              "IPY_MODEL_5e0500ee597d40a089b389fd0e871373",
              "IPY_MODEL_52c7c2fed2a64c67965974ed00100caa",
              "IPY_MODEL_bf5777230cc247e185f0f32a4aba9eb6",
              "IPY_MODEL_ed3e7308b29746ef8975e822e1a58a42",
              "IPY_MODEL_ef04b061667e4de5a766e32adde3e175",
              "IPY_MODEL_3ce704ee0a1645c3adec6801b8b70d41"
            ]
          }
        },
        "912d417fb48e4d0bb5b747fd6b822959": {
          "model_module": "jupyter-gmaps",
          "model_name": "DrawingLayerModel",
          "model_module_version": "0.9.0",
          "state": {
            "_model_module": "jupyter-gmaps",
            "_model_module_version": "0.9.0",
            "_model_name": "DrawingLayerModel",
            "_view_count": null,
            "_view_module": "jupyter-gmaps",
            "_view_module_version": "0.9.0",
            "_view_name": "DrawingLayerView",
            "features": [
              "IPY_MODEL_7140cec249984c77a712eed8aa47e466",
              "IPY_MODEL_b8653f4dd456487c9454faadce945377",
              "IPY_MODEL_9f18909bf04044eeb5f9fa2057457194",
              "IPY_MODEL_8843c50727ae4aa39c007dfa0dd67800",
              "IPY_MODEL_c26d09e120704e4784f6f02128a888f4",
              "IPY_MODEL_8be7892b510240a29d13e46814ed8f51"
            ],
            "mode": "MARKER",
            "toolbar_controls": "IPY_MODEL_8f100903182e4e4eb1dc57c42bc429ce"
          }
        },
        "4b6f57ba52b84891af093013cf340046": {
          "model_module": "@jupyter-widgets/base",
          "model_name": "LayoutModel",
          "model_module_version": "1.2.0",
          "state": {
            "_model_module": "@jupyter-widgets/base",
            "_model_module_version": "1.2.0",
            "_model_name": "LayoutModel",
            "_view_count": null,
            "_view_module": "@jupyter-widgets/base",
            "_view_module_version": "1.2.0",
            "_view_name": "LayoutView",
            "align_content": null,
            "align_items": null,
            "align_self": null,
            "border": null,
            "bottom": null,
            "display": null,
            "flex": null,
            "flex_flow": null,
            "grid_area": null,
            "grid_auto_columns": null,
            "grid_auto_flow": null,
            "grid_auto_rows": null,
            "grid_column": null,
            "grid_gap": null,
            "grid_row": null,
            "grid_template_areas": null,
            "grid_template_columns": null,
            "grid_template_rows": null,
            "height": "100%",
            "justify_content": null,
            "justify_items": null,
            "left": null,
            "margin": null,
            "max_height": null,
            "max_width": null,
            "min_height": null,
            "min_width": null,
            "object_fit": null,
            "object_position": null,
            "order": null,
            "overflow": null,
            "overflow_x": null,
            "overflow_y": null,
            "padding": null,
            "right": null,
            "top": null,
            "visibility": null,
            "width": "100%"
          }
        },
        "8f100903182e4e4eb1dc57c42bc429ce": {
          "model_module": "jupyter-gmaps",
          "model_name": "DrawingControlsModel",
          "model_module_version": "0.9.0",
          "state": {
            "_dom_classes": [],
            "_model_module": "jupyter-gmaps",
            "_model_module_version": "0.9.0",
            "_model_name": "DrawingControlsModel",
            "_view_count": null,
            "_view_module": "jupyter-gmaps",
            "_view_module_version": "0.9.0",
            "_view_name": "DrawingControlsView",
            "layout": "IPY_MODEL_5776624cfc20407fb09c68ba5dce2058",
            "show_controls": true
          }
        },
        "46920cec423244ce81fde4c74a9175ae": {
          "model_module": "@jupyter-widgets/base",
          "model_name": "LayoutModel",
          "model_module_version": "1.2.0",
          "state": {
            "_model_module": "@jupyter-widgets/base",
            "_model_module_version": "1.2.0",
            "_model_name": "LayoutModel",
            "_view_count": null,
            "_view_module": "@jupyter-widgets/base",
            "_view_module_version": "1.2.0",
            "_view_name": "LayoutView",
            "align_content": null,
            "align_items": null,
            "align_self": null,
            "border": null,
            "bottom": null,
            "display": null,
            "flex": null,
            "flex_flow": null,
            "grid_area": null,
            "grid_auto_columns": null,
            "grid_auto_flow": null,
            "grid_auto_rows": null,
            "grid_column": null,
            "grid_gap": null,
            "grid_row": null,
            "grid_template_areas": null,
            "grid_template_columns": null,
            "grid_template_rows": null,
            "height": null,
            "justify_content": null,
            "justify_items": null,
            "left": null,
            "margin": null,
            "max_height": null,
            "max_width": null,
            "min_height": null,
            "min_width": null,
            "object_fit": null,
            "object_position": null,
            "order": null,
            "overflow": null,
            "overflow_x": null,
            "overflow_y": null,
            "padding": null,
            "right": null,
            "top": null,
            "visibility": null,
            "width": null
          }
        },
        "cc119131b44b4fe8b4ffeb9a7a245493": {
          "model_module": "jupyter-gmaps",
          "model_name": "MarkerModel",
          "model_module_version": "0.9.0",
          "state": {
            "_model_module": "jupyter-gmaps",
            "_model_module_version": "0.9.0",
            "_model_name": "MarkerModel",
            "_view_count": null,
            "_view_module": "jupyter-gmaps",
            "_view_module_version": "0.9.0",
            "_view_name": "MarkerView",
            "display_info_box": true,
            "hover_text": "",
            "info_box_content": "\n<dl>\n<dt>Name</dt><dd>Hafen Rotterdam</dd>\n<dt>Id</dt><dd>urn:jaif:id:loc:26LNLRTM</dd>\n</dl>\n",
            "label": "",
            "location": [
              51.9496,
              4.14526
            ]
          }
        },
        "f1b64418baac48ba8edb01e55e23d95e": {
          "model_module": "jupyter-gmaps",
          "model_name": "MarkerModel",
          "model_module_version": "0.9.0",
          "state": {
            "_model_module": "jupyter-gmaps",
            "_model_module_version": "0.9.0",
            "_model_name": "MarkerModel",
            "_view_count": null,
            "_view_module": "jupyter-gmaps",
            "_view_module_version": "0.9.0",
            "_view_name": "MarkerView",
            "display_info_box": true,
            "hover_text": "",
            "info_box_content": "\n<dl>\n<dt>Name</dt><dd>Hafen Charleston</dd>\n<dt>Id</dt><dd>urn:jaif:id:loc:26LUSCHS</dd>\n</dl>\n",
            "label": "",
            "location": [
              32.76677,
              -79.89591
            ]
          }
        },
        "4955883b681a4a9da801ce2a723f4893": {
          "model_module": "jupyter-gmaps",
          "model_name": "MarkerModel",
          "model_module_version": "0.9.0",
          "state": {
            "_model_module": "jupyter-gmaps",
            "_model_module_version": "0.9.0",
            "_model_name": "MarkerModel",
            "_view_count": null,
            "_view_module": "jupyter-gmaps",
            "_view_module_version": "0.9.0",
            "_view_name": "MarkerView",
            "display_info_box": true,
            "hover_text": "",
            "info_box_content": "\n<dl>\n<dt>Name</dt><dd>Consolidation Center Speyer</dd>\n<dt>Id</dt><dd>urn:jaif:id:loc:26LDESPE</dd>\n</dl>\n",
            "label": "",
            "location": [
              49.29613,
              8.47613
            ]
          }
        },
        "d5ff56fc2f8d408f9e6a7c0e69128699": {
          "model_module": "jupyter-gmaps",
          "model_name": "MarkerModel",
          "model_module_version": "0.9.0",
          "state": {
            "_model_module": "jupyter-gmaps",
            "_model_module_version": "0.9.0",
            "_model_name": "MarkerModel",
            "_view_count": null,
            "_view_module": "jupyter-gmaps",
            "_view_module_version": "0.9.0",
            "_view_name": "MarkerView",
            "display_info_box": true,
            "hover_text": "",
            "info_box_content": "\n<dl>\n<dt>Name</dt><dd>Hafen Antwerpen</dd>\n<dt>Id</dt><dd>urn:jaif:id:loc:26LBEANR</dd>\n</dl>\n",
            "label": "",
            "location": [
              51.24075,
              4.40776
            ]
          }
        },
        "5e0500ee597d40a089b389fd0e871373": {
          "model_module": "jupyter-gmaps",
          "model_name": "MarkerModel",
          "model_module_version": "0.9.0",
          "state": {
            "_model_module": "jupyter-gmaps",
            "_model_module_version": "0.9.0",
            "_model_name": "MarkerModel",
            "_view_count": null,
            "_view_module": "jupyter-gmaps",
            "_view_module_version": "0.9.0",
            "_view_name": "MarkerView",
            "display_info_box": true,
            "hover_text": "",
            "info_box_content": "\n<dl>\n<dt>Name</dt><dd>Bahnterminal Savannah</dd>\n<dt>Id</dt><dd>urn:jaif:id:loc:26LUSSAV</dd>\n</dl>\n",
            "label": "",
            "location": [
              32.08361,
              -81.14841
            ]
          }
        },
        "52c7c2fed2a64c67965974ed00100caa": {
          "model_module": "jupyter-gmaps",
          "model_name": "MarkerModel",
          "model_module_version": "0.9.0",
          "state": {
            "_model_module": "jupyter-gmaps",
            "_model_module_version": "0.9.0",
            "_model_name": "MarkerModel",
            "_view_count": null,
            "_view_module": "jupyter-gmaps",
            "_view_module_version": "0.9.0",
            "_view_name": "MarkerView",
            "display_info_box": true,
            "hover_text": "",
            "info_box_content": "\n<dl>\n<dt>Name</dt><dd>Werk Tuscaloosa</dd>\n<dt>Id</dt><dd>urn:jaif:id:loc:25LUN498999044W0138</dd>\n</dl>\n",
            "label": "",
            "location": [
              33.18639,
              -87.26082
            ]
          }
        },
        "bf5777230cc247e185f0f32a4aba9eb6": {
          "model_module": "jupyter-gmaps",
          "model_name": "MarkerModel",
          "model_module_version": "0.9.0",
          "state": {
            "_model_module": "jupyter-gmaps",
            "_model_module_version": "0.9.0",
            "_model_name": "MarkerModel",
            "_view_count": null,
            "_view_module": "jupyter-gmaps",
            "_view_module_version": "0.9.0",
            "_view_name": "MarkerView",
            "display_info_box": true,
            "hover_text": "",
            "info_box_content": "\n<dl>\n<dt>Name</dt><dd>Hafen Bremerhaven</dd>\n<dt>Id</dt><dd>urn:jaif:id:loc:26LDEBRV</dd>\n</dl>\n",
            "label": "",
            "location": [
              53.55948,
              8.56244
            ]
          }
        },
        "ed3e7308b29746ef8975e822e1a58a42": {
          "model_module": "jupyter-gmaps",
          "model_name": "MarkerModel",
          "model_module_version": "0.9.0",
          "state": {
            "_model_module": "jupyter-gmaps",
            "_model_module_version": "0.9.0",
            "_model_name": "MarkerModel",
            "_view_count": null,
            "_view_module": "jupyter-gmaps",
            "_view_module_version": "0.9.0",
            "_view_name": "MarkerView",
            "display_info_box": true,
            "hover_text": "",
            "info_box_content": "\n<dl>\n<dt>Name</dt><dd>Hafen Hamburg</dd>\n<dt>Id</dt><dd>urn:jaif:id:loc:26LDEHAM</dd>\n</dl>\n",
            "label": "",
            "location": [
              53.50709,
              9.96792
            ]
          }
        },
        "ef04b061667e4de5a766e32adde3e175": {
          "model_module": "jupyter-gmaps",
          "model_name": "MarkerModel",
          "model_module_version": "0.9.0",
          "state": {
            "_model_module": "jupyter-gmaps",
            "_model_module_version": "0.9.0",
            "_model_name": "MarkerModel",
            "_view_count": null,
            "_view_module": "jupyter-gmaps",
            "_view_module_version": "0.9.0",
            "_view_name": "MarkerView",
            "display_info_box": true,
            "hover_text": "",
            "info_box_content": "\n<dl>\n<dt>Name</dt><dd>Hafen Altamira</dd>\n<dt>Id</dt><dd>urn:jaif:id:loc:26LMXATM</dd>\n</dl>\n",
            "label": "",
            "location": [
              22.48797,
              -97.8844
            ]
          }
        },
        "3ce704ee0a1645c3adec6801b8b70d41": {
          "model_module": "jupyter-gmaps",
          "model_name": "MarkerModel",
          "model_module_version": "0.9.0",
          "state": {
            "_model_module": "jupyter-gmaps",
            "_model_module_version": "0.9.0",
            "_model_name": "MarkerModel",
            "_view_count": null,
            "_view_module": "jupyter-gmaps",
            "_view_module_version": "0.9.0",
            "_view_name": "MarkerView",
            "display_info_box": true,
            "hover_text": "",
            "info_box_content": "\n<dl>\n<dt>Name</dt><dd>Hafen Aguascalientes</dd>\n<dt>Id</dt><dd>urn:jaif:id:loc:26LMXAGU</dd>\n</dl>\n",
            "label": "",
            "location": [
              21.88525,
              -102.29156
            ]
          }
        },
        "7140cec249984c77a712eed8aa47e466": {
          "model_module": "jupyter-gmaps",
          "model_name": "LineModel",
          "model_module_version": "0.9.0",
          "state": {
            "_model_module": "jupyter-gmaps",
            "_model_module_version": "0.9.0",
            "_model_name": "LineModel",
            "_view_count": null,
            "_view_module": "jupyter-gmaps",
            "_view_module_version": "0.9.0",
            "_view_name": "LineView",
            "end": [
              53.55948,
              8.56244
            ],
            "start": [
              53.55948,
              8.56244
            ],
            "stroke_color": "red",
            "stroke_opacity": 0.6,
            "stroke_weight": 3
          }
        },
        "b8653f4dd456487c9454faadce945377": {
          "model_module": "jupyter-gmaps",
          "model_name": "LineModel",
          "model_module_version": "0.9.0",
          "state": {
            "_model_module": "jupyter-gmaps",
            "_model_module_version": "0.9.0",
            "_model_name": "LineModel",
            "_view_count": null,
            "_view_module": "jupyter-gmaps",
            "_view_module_version": "0.9.0",
            "_view_name": "LineView",
            "end": [
              53.55948,
              8.56244
            ],
            "start": [
              53.55948,
              8.56244
            ],
            "stroke_color": "red",
            "stroke_opacity": 0.6,
            "stroke_weight": 3
          }
        },
        "9f18909bf04044eeb5f9fa2057457194": {
          "model_module": "jupyter-gmaps",
          "model_name": "LineModel",
          "model_module_version": "0.9.0",
          "state": {
            "_model_module": "jupyter-gmaps",
            "_model_module_version": "0.9.0",
            "_model_name": "LineModel",
            "_view_count": null,
            "_view_module": "jupyter-gmaps",
            "_view_module_version": "0.9.0",
            "_view_name": "LineView",
            "end": [
              32.76677,
              -79.89591
            ],
            "start": [
              53.55948,
              8.56244
            ],
            "stroke_color": "red",
            "stroke_opacity": 0.6,
            "stroke_weight": 3
          }
        },
        "8843c50727ae4aa39c007dfa0dd67800": {
          "model_module": "jupyter-gmaps",
          "model_name": "LineModel",
          "model_module_version": "0.9.0",
          "state": {
            "_model_module": "jupyter-gmaps",
            "_model_module_version": "0.9.0",
            "_model_name": "LineModel",
            "_view_count": null,
            "_view_module": "jupyter-gmaps",
            "_view_module_version": "0.9.0",
            "_view_name": "LineView",
            "end": [
              32.76677,
              -79.89591
            ],
            "start": [
              32.76677,
              -79.89591
            ],
            "stroke_color": "red",
            "stroke_opacity": 0.6,
            "stroke_weight": 3
          }
        },
        "c26d09e120704e4784f6f02128a888f4": {
          "model_module": "jupyter-gmaps",
          "model_name": "LineModel",
          "model_module_version": "0.9.0",
          "state": {
            "_model_module": "jupyter-gmaps",
            "_model_module_version": "0.9.0",
            "_model_name": "LineModel",
            "_view_count": null,
            "_view_module": "jupyter-gmaps",
            "_view_module_version": "0.9.0",
            "_view_name": "LineView",
            "end": [
              32.76677,
              -79.89591
            ],
            "start": [
              32.76677,
              -79.89591
            ],
            "stroke_color": "red",
            "stroke_opacity": 0.6,
            "stroke_weight": 3
          }
        },
        "8be7892b510240a29d13e46814ed8f51": {
          "model_module": "jupyter-gmaps",
          "model_name": "LineModel",
          "model_module_version": "0.9.0",
          "state": {
            "_model_module": "jupyter-gmaps",
            "_model_module_version": "0.9.0",
            "_model_name": "LineModel",
            "_view_count": null,
            "_view_module": "jupyter-gmaps",
            "_view_module_version": "0.9.0",
            "_view_name": "LineView",
            "end": [
              33.18639,
              -87.26082
            ],
            "start": [
              32.76677,
              -79.89591
            ],
            "stroke_color": "red",
            "stroke_opacity": 0.6,
            "stroke_weight": 3
          }
        },
        "5776624cfc20407fb09c68ba5dce2058": {
          "model_module": "@jupyter-widgets/base",
          "model_name": "LayoutModel",
          "model_module_version": "1.2.0",
          "state": {
            "_model_module": "@jupyter-widgets/base",
            "_model_module_version": "1.2.0",
            "_model_name": "LayoutModel",
            "_view_count": null,
            "_view_module": "@jupyter-widgets/base",
            "_view_module_version": "1.2.0",
            "_view_name": "LayoutView",
            "align_content": null,
            "align_items": null,
            "align_self": null,
            "border": null,
            "bottom": null,
            "display": null,
            "flex": null,
            "flex_flow": null,
            "grid_area": null,
            "grid_auto_columns": null,
            "grid_auto_flow": null,
            "grid_auto_rows": null,
            "grid_column": null,
            "grid_gap": null,
            "grid_row": null,
            "grid_template_areas": null,
            "grid_template_columns": null,
            "grid_template_rows": null,
            "height": null,
            "justify_content": null,
            "justify_items": null,
            "left": null,
            "margin": null,
            "max_height": null,
            "max_width": null,
            "min_height": null,
            "min_width": null,
            "object_fit": null,
            "object_position": null,
            "order": null,
            "overflow": null,
            "overflow_x": null,
            "overflow_y": null,
            "padding": null,
            "right": null,
            "top": null,
            "visibility": null,
            "width": null
          }
        }
      }
    }
  },
  "cells": [
    {
      "cell_type": "markdown",
      "metadata": {
        "id": "view-in-github",
        "colab_type": "text"
      },
      "source": [
        "<a href=\"https://colab.research.google.com/github/Ben93kie/TrackAndTrace/blob/main/DataExploration.ipynb\" target=\"_parent\"><img src=\"https://colab.research.google.com/assets/colab-badge.svg\" alt=\"Open In Colab\"/></a>"
      ]
    },
    {
      "cell_type": "markdown",
      "source": [
        "# **Track and Trace - Praktikum im Bereich Data Science - Case Study**\n",
        "\n",
        "---\n",
        "\n"
      ],
      "metadata": {
        "id": "pELrE8W34Nzj"
      }
    },
    {
      "cell_type": "markdown",
      "source": [
        "# 1 Prerequisites, Data Loading and Preprocessing"
      ],
      "metadata": {
        "id": "y_F3S79-4eln"
      }
    },
    {
      "cell_type": "markdown",
      "source": [
        "Load required libraries"
      ],
      "metadata": {
        "id": "AMRMNFfR5Rju"
      }
    },
    {
      "cell_type": "code",
      "execution_count": 1,
      "metadata": {
        "id": "KStGxHKL7iQY",
        "colab": {
          "base_uri": "https://localhost:8080/"
        },
        "outputId": "5e169393-ea92-417c-dd38-93fe50a34c18"
      },
      "outputs": [
        {
          "output_type": "stream",
          "name": "stdout",
          "text": [
            "Looking in indexes: https://pypi.org/simple, https://us-python.pkg.dev/colab-wheels/public/simple/\n",
            "Collecting gmaps\n",
            "  Downloading gmaps-0.9.0.tar.gz (1.1 MB)\n",
            "\u001b[K     |████████████████████████████████| 1.1 MB 3.6 MB/s \n",
            "\u001b[?25hRequirement already satisfied: ipython>=5.3.0 in /usr/local/lib/python3.7/dist-packages (from gmaps) (7.9.0)\n",
            "Requirement already satisfied: ipywidgets>=7.0.0 in /usr/local/lib/python3.7/dist-packages (from gmaps) (7.7.1)\n",
            "Requirement already satisfied: traitlets>=4.3.0 in /usr/local/lib/python3.7/dist-packages (from gmaps) (5.1.1)\n",
            "Collecting geojson>=2.0.0\n",
            "  Downloading geojson-2.5.0-py2.py3-none-any.whl (14 kB)\n",
            "Requirement already satisfied: six in /usr/local/lib/python3.7/dist-packages (from gmaps) (1.15.0)\n",
            "Requirement already satisfied: backcall in /usr/local/lib/python3.7/dist-packages (from ipython>=5.3.0->gmaps) (0.2.0)\n",
            "Requirement already satisfied: prompt-toolkit<2.1.0,>=2.0.0 in /usr/local/lib/python3.7/dist-packages (from ipython>=5.3.0->gmaps) (2.0.10)\n",
            "Requirement already satisfied: pickleshare in /usr/local/lib/python3.7/dist-packages (from ipython>=5.3.0->gmaps) (0.7.5)\n",
            "Requirement already satisfied: decorator in /usr/local/lib/python3.7/dist-packages (from ipython>=5.3.0->gmaps) (4.4.2)\n",
            "Requirement already satisfied: setuptools>=18.5 in /usr/local/lib/python3.7/dist-packages (from ipython>=5.3.0->gmaps) (57.4.0)\n",
            "Requirement already satisfied: pexpect in /usr/local/lib/python3.7/dist-packages (from ipython>=5.3.0->gmaps) (4.8.0)\n",
            "Requirement already satisfied: pygments in /usr/local/lib/python3.7/dist-packages (from ipython>=5.3.0->gmaps) (2.6.1)\n",
            "Collecting jedi>=0.10\n",
            "  Downloading jedi-0.18.1-py2.py3-none-any.whl (1.6 MB)\n",
            "\u001b[K     |████████████████████████████████| 1.6 MB 40.8 MB/s \n",
            "\u001b[?25hRequirement already satisfied: ipython-genutils~=0.2.0 in /usr/local/lib/python3.7/dist-packages (from ipywidgets>=7.0.0->gmaps) (0.2.0)\n",
            "Requirement already satisfied: jupyterlab-widgets>=1.0.0 in /usr/local/lib/python3.7/dist-packages (from ipywidgets>=7.0.0->gmaps) (3.0.3)\n",
            "Requirement already satisfied: widgetsnbextension~=3.6.0 in /usr/local/lib/python3.7/dist-packages (from ipywidgets>=7.0.0->gmaps) (3.6.1)\n",
            "Requirement already satisfied: ipykernel>=4.5.1 in /usr/local/lib/python3.7/dist-packages (from ipywidgets>=7.0.0->gmaps) (5.3.4)\n",
            "Requirement already satisfied: tornado>=4.2 in /usr/local/lib/python3.7/dist-packages (from ipykernel>=4.5.1->ipywidgets>=7.0.0->gmaps) (5.1.1)\n",
            "Requirement already satisfied: jupyter-client in /usr/local/lib/python3.7/dist-packages (from ipykernel>=4.5.1->ipywidgets>=7.0.0->gmaps) (6.1.12)\n",
            "Requirement already satisfied: parso<0.9.0,>=0.8.0 in /usr/local/lib/python3.7/dist-packages (from jedi>=0.10->ipython>=5.3.0->gmaps) (0.8.3)\n",
            "Requirement already satisfied: wcwidth in /usr/local/lib/python3.7/dist-packages (from prompt-toolkit<2.1.0,>=2.0.0->ipython>=5.3.0->gmaps) (0.2.5)\n",
            "Requirement already satisfied: notebook>=4.4.1 in /usr/local/lib/python3.7/dist-packages (from widgetsnbextension~=3.6.0->ipywidgets>=7.0.0->gmaps) (5.5.0)\n",
            "Requirement already satisfied: terminado>=0.8.1 in /usr/local/lib/python3.7/dist-packages (from notebook>=4.4.1->widgetsnbextension~=3.6.0->ipywidgets>=7.0.0->gmaps) (0.13.3)\n",
            "Requirement already satisfied: nbformat in /usr/local/lib/python3.7/dist-packages (from notebook>=4.4.1->widgetsnbextension~=3.6.0->ipywidgets>=7.0.0->gmaps) (5.7.0)\n",
            "Requirement already satisfied: jinja2 in /usr/local/lib/python3.7/dist-packages (from notebook>=4.4.1->widgetsnbextension~=3.6.0->ipywidgets>=7.0.0->gmaps) (2.11.3)\n",
            "Requirement already satisfied: jupyter-core>=4.4.0 in /usr/local/lib/python3.7/dist-packages (from notebook>=4.4.1->widgetsnbextension~=3.6.0->ipywidgets>=7.0.0->gmaps) (4.11.1)\n",
            "Requirement already satisfied: Send2Trash in /usr/local/lib/python3.7/dist-packages (from notebook>=4.4.1->widgetsnbextension~=3.6.0->ipywidgets>=7.0.0->gmaps) (1.8.0)\n",
            "Requirement already satisfied: nbconvert in /usr/local/lib/python3.7/dist-packages (from notebook>=4.4.1->widgetsnbextension~=3.6.0->ipywidgets>=7.0.0->gmaps) (5.6.1)\n",
            "Requirement already satisfied: pyzmq>=17 in /usr/local/lib/python3.7/dist-packages (from notebook>=4.4.1->widgetsnbextension~=3.6.0->ipywidgets>=7.0.0->gmaps) (23.2.1)\n",
            "Requirement already satisfied: python-dateutil>=2.1 in /usr/local/lib/python3.7/dist-packages (from jupyter-client->ipykernel>=4.5.1->ipywidgets>=7.0.0->gmaps) (2.8.2)\n",
            "Requirement already satisfied: ptyprocess in /usr/local/lib/python3.7/dist-packages (from terminado>=0.8.1->notebook>=4.4.1->widgetsnbextension~=3.6.0->ipywidgets>=7.0.0->gmaps) (0.7.0)\n",
            "Requirement already satisfied: MarkupSafe>=0.23 in /usr/local/lib/python3.7/dist-packages (from jinja2->notebook>=4.4.1->widgetsnbextension~=3.6.0->ipywidgets>=7.0.0->gmaps) (2.0.1)\n",
            "Requirement already satisfied: pandocfilters>=1.4.1 in /usr/local/lib/python3.7/dist-packages (from nbconvert->notebook>=4.4.1->widgetsnbextension~=3.6.0->ipywidgets>=7.0.0->gmaps) (1.5.0)\n",
            "Requirement already satisfied: mistune<2,>=0.8.1 in /usr/local/lib/python3.7/dist-packages (from nbconvert->notebook>=4.4.1->widgetsnbextension~=3.6.0->ipywidgets>=7.0.0->gmaps) (0.8.4)\n",
            "Requirement already satisfied: bleach in /usr/local/lib/python3.7/dist-packages (from nbconvert->notebook>=4.4.1->widgetsnbextension~=3.6.0->ipywidgets>=7.0.0->gmaps) (5.0.1)\n",
            "Requirement already satisfied: testpath in /usr/local/lib/python3.7/dist-packages (from nbconvert->notebook>=4.4.1->widgetsnbextension~=3.6.0->ipywidgets>=7.0.0->gmaps) (0.6.0)\n",
            "Requirement already satisfied: entrypoints>=0.2.2 in /usr/local/lib/python3.7/dist-packages (from nbconvert->notebook>=4.4.1->widgetsnbextension~=3.6.0->ipywidgets>=7.0.0->gmaps) (0.4)\n",
            "Requirement already satisfied: defusedxml in /usr/local/lib/python3.7/dist-packages (from nbconvert->notebook>=4.4.1->widgetsnbextension~=3.6.0->ipywidgets>=7.0.0->gmaps) (0.7.1)\n",
            "Requirement already satisfied: jsonschema>=2.6 in /usr/local/lib/python3.7/dist-packages (from nbformat->notebook>=4.4.1->widgetsnbextension~=3.6.0->ipywidgets>=7.0.0->gmaps) (4.3.3)\n",
            "Requirement already satisfied: fastjsonschema in /usr/local/lib/python3.7/dist-packages (from nbformat->notebook>=4.4.1->widgetsnbextension~=3.6.0->ipywidgets>=7.0.0->gmaps) (2.16.2)\n",
            "Requirement already satisfied: importlib-metadata>=3.6 in /usr/local/lib/python3.7/dist-packages (from nbformat->notebook>=4.4.1->widgetsnbextension~=3.6.0->ipywidgets>=7.0.0->gmaps) (4.13.0)\n",
            "Requirement already satisfied: zipp>=0.5 in /usr/local/lib/python3.7/dist-packages (from importlib-metadata>=3.6->nbformat->notebook>=4.4.1->widgetsnbextension~=3.6.0->ipywidgets>=7.0.0->gmaps) (3.9.0)\n",
            "Requirement already satisfied: typing-extensions>=3.6.4 in /usr/local/lib/python3.7/dist-packages (from importlib-metadata>=3.6->nbformat->notebook>=4.4.1->widgetsnbextension~=3.6.0->ipywidgets>=7.0.0->gmaps) (4.1.1)\n",
            "Requirement already satisfied: attrs>=17.4.0 in /usr/local/lib/python3.7/dist-packages (from jsonschema>=2.6->nbformat->notebook>=4.4.1->widgetsnbextension~=3.6.0->ipywidgets>=7.0.0->gmaps) (22.1.0)\n",
            "Requirement already satisfied: importlib-resources>=1.4.0 in /usr/local/lib/python3.7/dist-packages (from jsonschema>=2.6->nbformat->notebook>=4.4.1->widgetsnbextension~=3.6.0->ipywidgets>=7.0.0->gmaps) (5.10.0)\n",
            "Requirement already satisfied: pyrsistent!=0.17.0,!=0.17.1,!=0.17.2,>=0.14.0 in /usr/local/lib/python3.7/dist-packages (from jsonschema>=2.6->nbformat->notebook>=4.4.1->widgetsnbextension~=3.6.0->ipywidgets>=7.0.0->gmaps) (0.18.1)\n",
            "Requirement already satisfied: webencodings in /usr/local/lib/python3.7/dist-packages (from bleach->nbconvert->notebook>=4.4.1->widgetsnbextension~=3.6.0->ipywidgets>=7.0.0->gmaps) (0.5.1)\n",
            "Building wheels for collected packages: gmaps\n",
            "  Building wheel for gmaps (setup.py) ... \u001b[?25l\u001b[?25hdone\n",
            "  Created wheel for gmaps: filename=gmaps-0.9.0-py2.py3-none-any.whl size=2076111 sha256=3d81bd9d00ac84a47b11f116e97ce41d3035f51c81a9b832812a557e77564f59\n",
            "  Stored in directory: /root/.cache/pip/wheels/3d/1c/cb/c46f4199210e632b28d78d05a00bfdccbf6dfcd3f5b051d6bf\n",
            "Successfully built gmaps\n",
            "Installing collected packages: jedi, geojson, gmaps\n",
            "Successfully installed geojson-2.5.0 gmaps-0.9.0 jedi-0.18.1\n",
            "Looking in indexes: https://pypi.org/simple, https://us-python.pkg.dev/colab-wheels/public/simple/\n",
            "Collecting feature-engine\n",
            "  Downloading feature_engine-1.4.0-py2.py3-none-any.whl (276 kB)\n",
            "\u001b[K     |████████████████████████████████| 276 kB 4.0 MB/s \n",
            "\u001b[?25hRequirement already satisfied: scipy>=1.4.1 in /usr/local/lib/python3.7/dist-packages (from feature-engine) (1.7.3)\n",
            "Requirement already satisfied: numpy>=1.18.2 in /usr/local/lib/python3.7/dist-packages (from feature-engine) (1.21.6)\n",
            "Requirement already satisfied: scikit-learn>=1.0.0 in /usr/local/lib/python3.7/dist-packages (from feature-engine) (1.0.2)\n",
            "Requirement already satisfied: pandas>=1.0.3 in /usr/local/lib/python3.7/dist-packages (from feature-engine) (1.3.5)\n",
            "Requirement already satisfied: statsmodels>=0.11.1 in /usr/local/lib/python3.7/dist-packages (from feature-engine) (0.12.2)\n",
            "Requirement already satisfied: pytz>=2017.3 in /usr/local/lib/python3.7/dist-packages (from pandas>=1.0.3->feature-engine) (2022.4)\n",
            "Requirement already satisfied: python-dateutil>=2.7.3 in /usr/local/lib/python3.7/dist-packages (from pandas>=1.0.3->feature-engine) (2.8.2)\n",
            "Requirement already satisfied: six>=1.5 in /usr/local/lib/python3.7/dist-packages (from python-dateutil>=2.7.3->pandas>=1.0.3->feature-engine) (1.15.0)\n",
            "Requirement already satisfied: joblib>=0.11 in /usr/local/lib/python3.7/dist-packages (from scikit-learn>=1.0.0->feature-engine) (1.2.0)\n",
            "Requirement already satisfied: threadpoolctl>=2.0.0 in /usr/local/lib/python3.7/dist-packages (from scikit-learn>=1.0.0->feature-engine) (3.1.0)\n",
            "Requirement already satisfied: patsy>=0.5 in /usr/local/lib/python3.7/dist-packages (from statsmodels>=0.11.1->feature-engine) (0.5.3)\n",
            "Installing collected packages: feature-engine\n",
            "Successfully installed feature-engine-1.4.0\n"
          ]
        }
      ],
      "source": [
        "!pip install gmaps\n",
        "!pip install feature-engine\n",
        "import pandas as pd\n",
        "import os\n",
        "import gmaps\n",
        "from google.colab import output\n",
        "from datetime import datetime\n",
        "import time\n",
        "import matplotlib.pyplot as plt\n",
        "\n",
        "from sklearn.model_selection import cross_val_score\n",
        "from sklearn.model_selection import RepeatedKFold\n",
        "from sklearn.ensemble import GradientBoostingRegressor\n",
        "from feature_engine.creation import CyclicalFeatures\n",
        "from sklearn.preprocessing import StandardScaler\n",
        "from numpy import mean\n",
        "from numpy import std\n",
        "import numpy as np\n",
        "from sklearn.decomposition import PCA\n",
        "from sklearn.linear_model import LinearRegression\n",
        "output.enable_custom_widget_manager()\n"
      ]
    },
    {
      "cell_type": "markdown",
      "source": [
        "Provide csv data paths"
      ],
      "metadata": {
        "id": "k9Z1Qqmi5VmZ"
      }
    },
    {
      "cell_type": "code",
      "source": [
        "track_data_path = 'data.csv'\n",
        "event_locations_path = 'event_locations.csv'"
      ],
      "metadata": {
        "id": "E8J-j36p7nZF"
      },
      "execution_count": 2,
      "outputs": []
    },
    {
      "cell_type": "markdown",
      "source": [
        "Load csv data in Pandas dataframes"
      ],
      "metadata": {
        "id": "XXUqqWno5cRT"
      }
    },
    {
      "cell_type": "code",
      "source": [
        "track_data = pd.read_csv(track_data_path,delimiter=';') \n",
        "track_data2 = pd.read_csv(track_data_path,delimiter=';') \n",
        "event_locations = pd.read_csv(event_locations_path,delimiter=';')\n",
        "event_locations = event_locations.set_index('EventLocation')"
      ],
      "metadata": {
        "id": "9xA1WkwE7qnC"
      },
      "execution_count": 3,
      "outputs": []
    },
    {
      "cell_type": "markdown",
      "source": [
        "Have a first glance at the data points"
      ],
      "metadata": {
        "id": "9rkiBvnr5jWT"
      }
    },
    {
      "cell_type": "code",
      "source": [
        "track_data.head(10)"
      ],
      "metadata": {
        "colab": {
          "base_uri": "https://localhost:8080/",
          "height": 601
        },
        "id": "qDjv9bsleOfz",
        "outputId": "4ff050c3-f8cb-433f-8f08-d0aac1a2e232"
      },
      "execution_count": 4,
      "outputs": [
        {
          "output_type": "execute_result",
          "data": {
            "text/plain": [
              "  ContainerNumber  ShipmentNumber  PoCreationDate     Material  \\\n",
              "0     HLXU8170197         4868820  19.02.18 00:00  A2760101414   \n",
              "1     HLXU8170197         4868820  19.02.18 00:00  A2760101414   \n",
              "2     HLXU8170197         4868820  19.02.18 00:00  A2760101414   \n",
              "3     HLXU8170197         4868820  19.02.18 00:00  A2760101414   \n",
              "4     HLXU8170197         4868820  19.02.18 00:00  A2760101414   \n",
              "5     HLXU8170197         4868820  19.02.18 00:00  A2760101414   \n",
              "6     HLXU8170197         4868820  19.02.18 00:00  A2760101414   \n",
              "7     HLXU8170197         4868820  19.02.18 00:00  A2760101414   \n",
              "8     HLXU8170197         4868820  19.02.18 00:00  A2760101414   \n",
              "9     HLXU8170197         4868820  19.02.18 00:00  A2760101414   \n",
              "\n",
              "   ShipmentQuantity Controller          EventName       EventTime  \\\n",
              "0              72.0        T15       Loading Ship  07.04.18 13:58   \n",
              "1              72.0        T15     Departure Ship  07.04.18 19:05   \n",
              "2              72.0        T15     Unloading Ship  21.04.18 06:19   \n",
              "3              72.0        T15    Departure Truck  21.04.18 11:42   \n",
              "4              72.0        T15      Arrival Truck  08.05.18 18:12   \n",
              "5              72.0        T15      Arrival Truck  08.05.18 18:12   \n",
              "6              72.0        T15      Loading Truck  16.07.18 14:15   \n",
              "7              72.0        T15      Arrival Truck  24.07.18 02:03   \n",
              "8              72.0        T15       Arrival Ship  02.08.18 21:54   \n",
              "9              72.0        T15  Registration Yard  10.08.18 16:18   \n",
              "\n",
              "  EventMessageTime                        EventLocation   VesselName  \\\n",
              "0   08.04.18 03:19             urn:jaif:id:loc:26LNLRTM  NYK ROMULUS   \n",
              "1   09.04.18 16:29             urn:jaif:id:loc:26LNLRTM  NYK ROMULUS   \n",
              "2   21.04.18 11:59             urn:jaif:id:loc:26LUSCHS  NYK ROMULUS   \n",
              "3   21.04.18 13:29             urn:jaif:id:loc:26LUSCHS  NYK ROMULUS   \n",
              "4   23.05.18 22:04             urn:jaif:id:loc:26LUSCHS  NYK ROMULUS   \n",
              "5   23.05.18 17:32             urn:jaif:id:loc:26LUSCHS  NYK ROMULUS   \n",
              "6   16.07.18 16:47             urn:jaif:id:loc:26LDESPE  NYK ROMULUS   \n",
              "7   24.07.18 05:11             urn:jaif:id:loc:26LBEANR  NYK ROMULUS   \n",
              "8   03.08.18 01:03             urn:jaif:id:loc:26LUSSAV  NYK ROMULUS   \n",
              "9   10.08.18 23:18  urn:jaif:id:loc:25LUN498999044W0138  NYK ROMULUS   \n",
              "\n",
              "  PortofDischarge  Time2Arrival  \n",
              "0             NaN         125.0  \n",
              "1             NaN         125.0  \n",
              "2             NaN         111.0  \n",
              "3             NaN         111.0  \n",
              "4             NaN          94.0  \n",
              "5             NaN          94.0  \n",
              "6             NaN          25.0  \n",
              "7             NaN          17.0  \n",
              "8             NaN           7.0  \n",
              "9             NaN           0.0  "
            ],
            "text/html": [
              "\n",
              "  <div id=\"df-3404e923-300a-484b-96f2-c97d4db7080c\">\n",
              "    <div class=\"colab-df-container\">\n",
              "      <div>\n",
              "<style scoped>\n",
              "    .dataframe tbody tr th:only-of-type {\n",
              "        vertical-align: middle;\n",
              "    }\n",
              "\n",
              "    .dataframe tbody tr th {\n",
              "        vertical-align: top;\n",
              "    }\n",
              "\n",
              "    .dataframe thead th {\n",
              "        text-align: right;\n",
              "    }\n",
              "</style>\n",
              "<table border=\"1\" class=\"dataframe\">\n",
              "  <thead>\n",
              "    <tr style=\"text-align: right;\">\n",
              "      <th></th>\n",
              "      <th>ContainerNumber</th>\n",
              "      <th>ShipmentNumber</th>\n",
              "      <th>PoCreationDate</th>\n",
              "      <th>Material</th>\n",
              "      <th>ShipmentQuantity</th>\n",
              "      <th>Controller</th>\n",
              "      <th>EventName</th>\n",
              "      <th>EventTime</th>\n",
              "      <th>EventMessageTime</th>\n",
              "      <th>EventLocation</th>\n",
              "      <th>VesselName</th>\n",
              "      <th>PortofDischarge</th>\n",
              "      <th>Time2Arrival</th>\n",
              "    </tr>\n",
              "  </thead>\n",
              "  <tbody>\n",
              "    <tr>\n",
              "      <th>0</th>\n",
              "      <td>HLXU8170197</td>\n",
              "      <td>4868820</td>\n",
              "      <td>19.02.18 00:00</td>\n",
              "      <td>A2760101414</td>\n",
              "      <td>72.0</td>\n",
              "      <td>T15</td>\n",
              "      <td>Loading Ship</td>\n",
              "      <td>07.04.18 13:58</td>\n",
              "      <td>08.04.18 03:19</td>\n",
              "      <td>urn:jaif:id:loc:26LNLRTM</td>\n",
              "      <td>NYK ROMULUS</td>\n",
              "      <td>NaN</td>\n",
              "      <td>125.0</td>\n",
              "    </tr>\n",
              "    <tr>\n",
              "      <th>1</th>\n",
              "      <td>HLXU8170197</td>\n",
              "      <td>4868820</td>\n",
              "      <td>19.02.18 00:00</td>\n",
              "      <td>A2760101414</td>\n",
              "      <td>72.0</td>\n",
              "      <td>T15</td>\n",
              "      <td>Departure Ship</td>\n",
              "      <td>07.04.18 19:05</td>\n",
              "      <td>09.04.18 16:29</td>\n",
              "      <td>urn:jaif:id:loc:26LNLRTM</td>\n",
              "      <td>NYK ROMULUS</td>\n",
              "      <td>NaN</td>\n",
              "      <td>125.0</td>\n",
              "    </tr>\n",
              "    <tr>\n",
              "      <th>2</th>\n",
              "      <td>HLXU8170197</td>\n",
              "      <td>4868820</td>\n",
              "      <td>19.02.18 00:00</td>\n",
              "      <td>A2760101414</td>\n",
              "      <td>72.0</td>\n",
              "      <td>T15</td>\n",
              "      <td>Unloading Ship</td>\n",
              "      <td>21.04.18 06:19</td>\n",
              "      <td>21.04.18 11:59</td>\n",
              "      <td>urn:jaif:id:loc:26LUSCHS</td>\n",
              "      <td>NYK ROMULUS</td>\n",
              "      <td>NaN</td>\n",
              "      <td>111.0</td>\n",
              "    </tr>\n",
              "    <tr>\n",
              "      <th>3</th>\n",
              "      <td>HLXU8170197</td>\n",
              "      <td>4868820</td>\n",
              "      <td>19.02.18 00:00</td>\n",
              "      <td>A2760101414</td>\n",
              "      <td>72.0</td>\n",
              "      <td>T15</td>\n",
              "      <td>Departure Truck</td>\n",
              "      <td>21.04.18 11:42</td>\n",
              "      <td>21.04.18 13:29</td>\n",
              "      <td>urn:jaif:id:loc:26LUSCHS</td>\n",
              "      <td>NYK ROMULUS</td>\n",
              "      <td>NaN</td>\n",
              "      <td>111.0</td>\n",
              "    </tr>\n",
              "    <tr>\n",
              "      <th>4</th>\n",
              "      <td>HLXU8170197</td>\n",
              "      <td>4868820</td>\n",
              "      <td>19.02.18 00:00</td>\n",
              "      <td>A2760101414</td>\n",
              "      <td>72.0</td>\n",
              "      <td>T15</td>\n",
              "      <td>Arrival Truck</td>\n",
              "      <td>08.05.18 18:12</td>\n",
              "      <td>23.05.18 22:04</td>\n",
              "      <td>urn:jaif:id:loc:26LUSCHS</td>\n",
              "      <td>NYK ROMULUS</td>\n",
              "      <td>NaN</td>\n",
              "      <td>94.0</td>\n",
              "    </tr>\n",
              "    <tr>\n",
              "      <th>5</th>\n",
              "      <td>HLXU8170197</td>\n",
              "      <td>4868820</td>\n",
              "      <td>19.02.18 00:00</td>\n",
              "      <td>A2760101414</td>\n",
              "      <td>72.0</td>\n",
              "      <td>T15</td>\n",
              "      <td>Arrival Truck</td>\n",
              "      <td>08.05.18 18:12</td>\n",
              "      <td>23.05.18 17:32</td>\n",
              "      <td>urn:jaif:id:loc:26LUSCHS</td>\n",
              "      <td>NYK ROMULUS</td>\n",
              "      <td>NaN</td>\n",
              "      <td>94.0</td>\n",
              "    </tr>\n",
              "    <tr>\n",
              "      <th>6</th>\n",
              "      <td>HLXU8170197</td>\n",
              "      <td>4868820</td>\n",
              "      <td>19.02.18 00:00</td>\n",
              "      <td>A2760101414</td>\n",
              "      <td>72.0</td>\n",
              "      <td>T15</td>\n",
              "      <td>Loading Truck</td>\n",
              "      <td>16.07.18 14:15</td>\n",
              "      <td>16.07.18 16:47</td>\n",
              "      <td>urn:jaif:id:loc:26LDESPE</td>\n",
              "      <td>NYK ROMULUS</td>\n",
              "      <td>NaN</td>\n",
              "      <td>25.0</td>\n",
              "    </tr>\n",
              "    <tr>\n",
              "      <th>7</th>\n",
              "      <td>HLXU8170197</td>\n",
              "      <td>4868820</td>\n",
              "      <td>19.02.18 00:00</td>\n",
              "      <td>A2760101414</td>\n",
              "      <td>72.0</td>\n",
              "      <td>T15</td>\n",
              "      <td>Arrival Truck</td>\n",
              "      <td>24.07.18 02:03</td>\n",
              "      <td>24.07.18 05:11</td>\n",
              "      <td>urn:jaif:id:loc:26LBEANR</td>\n",
              "      <td>NYK ROMULUS</td>\n",
              "      <td>NaN</td>\n",
              "      <td>17.0</td>\n",
              "    </tr>\n",
              "    <tr>\n",
              "      <th>8</th>\n",
              "      <td>HLXU8170197</td>\n",
              "      <td>4868820</td>\n",
              "      <td>19.02.18 00:00</td>\n",
              "      <td>A2760101414</td>\n",
              "      <td>72.0</td>\n",
              "      <td>T15</td>\n",
              "      <td>Arrival Ship</td>\n",
              "      <td>02.08.18 21:54</td>\n",
              "      <td>03.08.18 01:03</td>\n",
              "      <td>urn:jaif:id:loc:26LUSSAV</td>\n",
              "      <td>NYK ROMULUS</td>\n",
              "      <td>NaN</td>\n",
              "      <td>7.0</td>\n",
              "    </tr>\n",
              "    <tr>\n",
              "      <th>9</th>\n",
              "      <td>HLXU8170197</td>\n",
              "      <td>4868820</td>\n",
              "      <td>19.02.18 00:00</td>\n",
              "      <td>A2760101414</td>\n",
              "      <td>72.0</td>\n",
              "      <td>T15</td>\n",
              "      <td>Registration Yard</td>\n",
              "      <td>10.08.18 16:18</td>\n",
              "      <td>10.08.18 23:18</td>\n",
              "      <td>urn:jaif:id:loc:25LUN498999044W0138</td>\n",
              "      <td>NYK ROMULUS</td>\n",
              "      <td>NaN</td>\n",
              "      <td>0.0</td>\n",
              "    </tr>\n",
              "  </tbody>\n",
              "</table>\n",
              "</div>\n",
              "      <button class=\"colab-df-convert\" onclick=\"convertToInteractive('df-3404e923-300a-484b-96f2-c97d4db7080c')\"\n",
              "              title=\"Convert this dataframe to an interactive table.\"\n",
              "              style=\"display:none;\">\n",
              "        \n",
              "  <svg xmlns=\"http://www.w3.org/2000/svg\" height=\"24px\"viewBox=\"0 0 24 24\"\n",
              "       width=\"24px\">\n",
              "    <path d=\"M0 0h24v24H0V0z\" fill=\"none\"/>\n",
              "    <path d=\"M18.56 5.44l.94 2.06.94-2.06 2.06-.94-2.06-.94-.94-2.06-.94 2.06-2.06.94zm-11 1L8.5 8.5l.94-2.06 2.06-.94-2.06-.94L8.5 2.5l-.94 2.06-2.06.94zm10 10l.94 2.06.94-2.06 2.06-.94-2.06-.94-.94-2.06-.94 2.06-2.06.94z\"/><path d=\"M17.41 7.96l-1.37-1.37c-.4-.4-.92-.59-1.43-.59-.52 0-1.04.2-1.43.59L10.3 9.45l-7.72 7.72c-.78.78-.78 2.05 0 2.83L4 21.41c.39.39.9.59 1.41.59.51 0 1.02-.2 1.41-.59l7.78-7.78 2.81-2.81c.8-.78.8-2.07 0-2.86zM5.41 20L4 18.59l7.72-7.72 1.47 1.35L5.41 20z\"/>\n",
              "  </svg>\n",
              "      </button>\n",
              "      \n",
              "  <style>\n",
              "    .colab-df-container {\n",
              "      display:flex;\n",
              "      flex-wrap:wrap;\n",
              "      gap: 12px;\n",
              "    }\n",
              "\n",
              "    .colab-df-convert {\n",
              "      background-color: #E8F0FE;\n",
              "      border: none;\n",
              "      border-radius: 50%;\n",
              "      cursor: pointer;\n",
              "      display: none;\n",
              "      fill: #1967D2;\n",
              "      height: 32px;\n",
              "      padding: 0 0 0 0;\n",
              "      width: 32px;\n",
              "    }\n",
              "\n",
              "    .colab-df-convert:hover {\n",
              "      background-color: #E2EBFA;\n",
              "      box-shadow: 0px 1px 2px rgba(60, 64, 67, 0.3), 0px 1px 3px 1px rgba(60, 64, 67, 0.15);\n",
              "      fill: #174EA6;\n",
              "    }\n",
              "\n",
              "    [theme=dark] .colab-df-convert {\n",
              "      background-color: #3B4455;\n",
              "      fill: #D2E3FC;\n",
              "    }\n",
              "\n",
              "    [theme=dark] .colab-df-convert:hover {\n",
              "      background-color: #434B5C;\n",
              "      box-shadow: 0px 1px 3px 1px rgba(0, 0, 0, 0.15);\n",
              "      filter: drop-shadow(0px 1px 2px rgba(0, 0, 0, 0.3));\n",
              "      fill: #FFFFFF;\n",
              "    }\n",
              "  </style>\n",
              "\n",
              "      <script>\n",
              "        const buttonEl =\n",
              "          document.querySelector('#df-3404e923-300a-484b-96f2-c97d4db7080c button.colab-df-convert');\n",
              "        buttonEl.style.display =\n",
              "          google.colab.kernel.accessAllowed ? 'block' : 'none';\n",
              "\n",
              "        async function convertToInteractive(key) {\n",
              "          const element = document.querySelector('#df-3404e923-300a-484b-96f2-c97d4db7080c');\n",
              "          const dataTable =\n",
              "            await google.colab.kernel.invokeFunction('convertToInteractive',\n",
              "                                                     [key], {});\n",
              "          if (!dataTable) return;\n",
              "\n",
              "          const docLinkHtml = 'Like what you see? Visit the ' +\n",
              "            '<a target=\"_blank\" href=https://colab.research.google.com/notebooks/data_table.ipynb>data table notebook</a>'\n",
              "            + ' to learn more about interactive tables.';\n",
              "          element.innerHTML = '';\n",
              "          dataTable['output_type'] = 'display_data';\n",
              "          await google.colab.output.renderOutput(dataTable, element);\n",
              "          const docLink = document.createElement('div');\n",
              "          docLink.innerHTML = docLinkHtml;\n",
              "          element.appendChild(docLink);\n",
              "        }\n",
              "      </script>\n",
              "    </div>\n",
              "  </div>\n",
              "  "
            ]
          },
          "metadata": {},
          "execution_count": 4
        }
      ]
    },
    {
      "cell_type": "markdown",
      "source": [
        "Explore the locations"
      ],
      "metadata": {
        "id": "H02TrU7f5nmp"
      }
    },
    {
      "cell_type": "code",
      "source": [
        "event_locations"
      ],
      "metadata": {
        "colab": {
          "base_uri": "https://localhost:8080/",
          "height": 394
        },
        "id": "3yq1J8CRW94y",
        "outputId": "8f3b53ad-acad-479c-a07b-ace14a7f1adb"
      },
      "execution_count": 5,
      "outputs": [
        {
          "output_type": "execute_result",
          "data": {
            "text/plain": [
              "                                                     Bezeichnung\n",
              "EventLocation                                                   \n",
              "urn:jaif:id:loc:26LNLRTM                         Hafen Rotterdam\n",
              "urn:jaif:id:loc:26LUSCHS                        Hafen Charleston\n",
              "urn:jaif:id:loc:26LDESPE             Consolidation Center Speyer\n",
              "urn:jaif:id:loc:26LBEANR                         Hafen Antwerpen\n",
              "urn:jaif:id:loc:26LUSSAV                   Bahnterminal Savannah\n",
              "urn:jaif:id:loc:25LUN498999044W0138              Werk Tuscaloosa\n",
              "urn:jaif:id:loc:26LDEBRV                       Hafen Bremerhaven\n",
              "urn:jaif:id:loc:26LDEHAM                           Hafen Hamburg\n",
              "urn:jaif:id:loc:26LMXATM                          Hafen Altamira\n",
              "urn:jaif:id:loc:26LMXAGU                    Hafen Aguascalientes"
            ],
            "text/html": [
              "\n",
              "  <div id=\"df-211996c3-db74-43a5-8c69-ad0900e9f259\">\n",
              "    <div class=\"colab-df-container\">\n",
              "      <div>\n",
              "<style scoped>\n",
              "    .dataframe tbody tr th:only-of-type {\n",
              "        vertical-align: middle;\n",
              "    }\n",
              "\n",
              "    .dataframe tbody tr th {\n",
              "        vertical-align: top;\n",
              "    }\n",
              "\n",
              "    .dataframe thead th {\n",
              "        text-align: right;\n",
              "    }\n",
              "</style>\n",
              "<table border=\"1\" class=\"dataframe\">\n",
              "  <thead>\n",
              "    <tr style=\"text-align: right;\">\n",
              "      <th></th>\n",
              "      <th>Bezeichnung</th>\n",
              "    </tr>\n",
              "    <tr>\n",
              "      <th>EventLocation</th>\n",
              "      <th></th>\n",
              "    </tr>\n",
              "  </thead>\n",
              "  <tbody>\n",
              "    <tr>\n",
              "      <th>urn:jaif:id:loc:26LNLRTM</th>\n",
              "      <td>Hafen Rotterdam</td>\n",
              "    </tr>\n",
              "    <tr>\n",
              "      <th>urn:jaif:id:loc:26LUSCHS</th>\n",
              "      <td>Hafen Charleston</td>\n",
              "    </tr>\n",
              "    <tr>\n",
              "      <th>urn:jaif:id:loc:26LDESPE</th>\n",
              "      <td>Consolidation Center Speyer</td>\n",
              "    </tr>\n",
              "    <tr>\n",
              "      <th>urn:jaif:id:loc:26LBEANR</th>\n",
              "      <td>Hafen Antwerpen</td>\n",
              "    </tr>\n",
              "    <tr>\n",
              "      <th>urn:jaif:id:loc:26LUSSAV</th>\n",
              "      <td>Bahnterminal Savannah</td>\n",
              "    </tr>\n",
              "    <tr>\n",
              "      <th>urn:jaif:id:loc:25LUN498999044W0138</th>\n",
              "      <td>Werk Tuscaloosa</td>\n",
              "    </tr>\n",
              "    <tr>\n",
              "      <th>urn:jaif:id:loc:26LDEBRV</th>\n",
              "      <td>Hafen Bremerhaven</td>\n",
              "    </tr>\n",
              "    <tr>\n",
              "      <th>urn:jaif:id:loc:26LDEHAM</th>\n",
              "      <td>Hafen Hamburg</td>\n",
              "    </tr>\n",
              "    <tr>\n",
              "      <th>urn:jaif:id:loc:26LMXATM</th>\n",
              "      <td>Hafen Altamira</td>\n",
              "    </tr>\n",
              "    <tr>\n",
              "      <th>urn:jaif:id:loc:26LMXAGU</th>\n",
              "      <td>Hafen Aguascalientes</td>\n",
              "    </tr>\n",
              "  </tbody>\n",
              "</table>\n",
              "</div>\n",
              "      <button class=\"colab-df-convert\" onclick=\"convertToInteractive('df-211996c3-db74-43a5-8c69-ad0900e9f259')\"\n",
              "              title=\"Convert this dataframe to an interactive table.\"\n",
              "              style=\"display:none;\">\n",
              "        \n",
              "  <svg xmlns=\"http://www.w3.org/2000/svg\" height=\"24px\"viewBox=\"0 0 24 24\"\n",
              "       width=\"24px\">\n",
              "    <path d=\"M0 0h24v24H0V0z\" fill=\"none\"/>\n",
              "    <path d=\"M18.56 5.44l.94 2.06.94-2.06 2.06-.94-2.06-.94-.94-2.06-.94 2.06-2.06.94zm-11 1L8.5 8.5l.94-2.06 2.06-.94-2.06-.94L8.5 2.5l-.94 2.06-2.06.94zm10 10l.94 2.06.94-2.06 2.06-.94-2.06-.94-.94-2.06-.94 2.06-2.06.94z\"/><path d=\"M17.41 7.96l-1.37-1.37c-.4-.4-.92-.59-1.43-.59-.52 0-1.04.2-1.43.59L10.3 9.45l-7.72 7.72c-.78.78-.78 2.05 0 2.83L4 21.41c.39.39.9.59 1.41.59.51 0 1.02-.2 1.41-.59l7.78-7.78 2.81-2.81c.8-.78.8-2.07 0-2.86zM5.41 20L4 18.59l7.72-7.72 1.47 1.35L5.41 20z\"/>\n",
              "  </svg>\n",
              "      </button>\n",
              "      \n",
              "  <style>\n",
              "    .colab-df-container {\n",
              "      display:flex;\n",
              "      flex-wrap:wrap;\n",
              "      gap: 12px;\n",
              "    }\n",
              "\n",
              "    .colab-df-convert {\n",
              "      background-color: #E8F0FE;\n",
              "      border: none;\n",
              "      border-radius: 50%;\n",
              "      cursor: pointer;\n",
              "      display: none;\n",
              "      fill: #1967D2;\n",
              "      height: 32px;\n",
              "      padding: 0 0 0 0;\n",
              "      width: 32px;\n",
              "    }\n",
              "\n",
              "    .colab-df-convert:hover {\n",
              "      background-color: #E2EBFA;\n",
              "      box-shadow: 0px 1px 2px rgba(60, 64, 67, 0.3), 0px 1px 3px 1px rgba(60, 64, 67, 0.15);\n",
              "      fill: #174EA6;\n",
              "    }\n",
              "\n",
              "    [theme=dark] .colab-df-convert {\n",
              "      background-color: #3B4455;\n",
              "      fill: #D2E3FC;\n",
              "    }\n",
              "\n",
              "    [theme=dark] .colab-df-convert:hover {\n",
              "      background-color: #434B5C;\n",
              "      box-shadow: 0px 1px 3px 1px rgba(0, 0, 0, 0.15);\n",
              "      filter: drop-shadow(0px 1px 2px rgba(0, 0, 0, 0.3));\n",
              "      fill: #FFFFFF;\n",
              "    }\n",
              "  </style>\n",
              "\n",
              "      <script>\n",
              "        const buttonEl =\n",
              "          document.querySelector('#df-211996c3-db74-43a5-8c69-ad0900e9f259 button.colab-df-convert');\n",
              "        buttonEl.style.display =\n",
              "          google.colab.kernel.accessAllowed ? 'block' : 'none';\n",
              "\n",
              "        async function convertToInteractive(key) {\n",
              "          const element = document.querySelector('#df-211996c3-db74-43a5-8c69-ad0900e9f259');\n",
              "          const dataTable =\n",
              "            await google.colab.kernel.invokeFunction('convertToInteractive',\n",
              "                                                     [key], {});\n",
              "          if (!dataTable) return;\n",
              "\n",
              "          const docLinkHtml = 'Like what you see? Visit the ' +\n",
              "            '<a target=\"_blank\" href=https://colab.research.google.com/notebooks/data_table.ipynb>data table notebook</a>'\n",
              "            + ' to learn more about interactive tables.';\n",
              "          element.innerHTML = '';\n",
              "          dataTable['output_type'] = 'display_data';\n",
              "          await google.colab.output.renderOutput(dataTable, element);\n",
              "          const docLink = document.createElement('div');\n",
              "          docLink.innerHTML = docLinkHtml;\n",
              "          element.appendChild(docLink);\n",
              "        }\n",
              "      </script>\n",
              "    </div>\n",
              "  </div>\n",
              "  "
            ]
          },
          "metadata": {},
          "execution_count": 5
        }
      ]
    },
    {
      "cell_type": "markdown",
      "source": [
        "Replace EventLocation with their human-readable name and shorten some features for readability"
      ],
      "metadata": {
        "id": "ml7R9WdL5_2k"
      }
    },
    {
      "cell_type": "code",
      "source": [
        "event_loc_to_name=event_locations.to_dict()\n",
        "event_loc_to_name = event_loc_to_name['Bezeichnung']\n",
        "event_loc_to_name[float('NaN')]=float('NaN')\n",
        "event_loc_to_name['*Multiple*']='*Multiple*'\n",
        "track_data.replace({\"EventLocation\" : event_loc_to_name, \"PortofDischarge\" : event_loc_to_name}, inplace=True)\n",
        "track_data = track_data.rename(columns={'ShipmentQuantity' : 'Quant'})\n",
        "track_data = track_data.rename(columns={'ContainerNumber' : 'Container'})\n",
        "track_data = track_data.rename(columns={'Time2Arrival' : 'time'})"
      ],
      "metadata": {
        "id": "6crMjDW3WDxQ"
      },
      "execution_count": 6,
      "outputs": []
    },
    {
      "cell_type": "markdown",
      "source": [
        "Take a deeper look"
      ],
      "metadata": {
        "id": "vxD4Gmed7aMK"
      }
    },
    {
      "cell_type": "code",
      "source": [
        "track_data.head(20)"
      ],
      "metadata": {
        "colab": {
          "base_uri": "https://localhost:8080/",
          "height": 1000
        },
        "id": "w27Kdnn69yFi",
        "outputId": "c1d6b355-af94-4415-b590-6c37cea25853"
      },
      "execution_count": 7,
      "outputs": [
        {
          "output_type": "execute_result",
          "data": {
            "text/plain": [
              "      Container  ShipmentNumber  PoCreationDate     Material  Quant  \\\n",
              "0   HLXU8170197         4868820  19.02.18 00:00  A2760101414   72.0   \n",
              "1   HLXU8170197         4868820  19.02.18 00:00  A2760101414   72.0   \n",
              "2   HLXU8170197         4868820  19.02.18 00:00  A2760101414   72.0   \n",
              "3   HLXU8170197         4868820  19.02.18 00:00  A2760101414   72.0   \n",
              "4   HLXU8170197         4868820  19.02.18 00:00  A2760101414   72.0   \n",
              "5   HLXU8170197         4868820  19.02.18 00:00  A2760101414   72.0   \n",
              "6   HLXU8170197         4868820  19.02.18 00:00  A2760101414   72.0   \n",
              "7   HLXU8170197         4868820  19.02.18 00:00  A2760101414   72.0   \n",
              "8   HLXU8170197         4868820  19.02.18 00:00  A2760101414   72.0   \n",
              "9   HLXU8170197         4868820  19.02.18 00:00  A2760101414   72.0   \n",
              "10  HLXU8170197         4868820  19.02.18 00:00  A2760101414   72.0   \n",
              "11  TCNU9520816         4875096  22.02.18 00:00  A2760101414   72.0   \n",
              "12  TCNU9520816         4875096  22.02.18 00:00  A2760101414   72.0   \n",
              "13  TCNU9520816         4875096  22.02.18 00:00  A2760101414   72.0   \n",
              "14  TCNU9520816         4875096  22.02.18 00:00  A2760101414   72.0   \n",
              "15  TCNU9520816         4875096  22.02.18 00:00  A2760101414   72.0   \n",
              "16  TCNU9520816         4875096  22.02.18 00:00  A2760101414   72.0   \n",
              "17  TCNU9520816         4875096  22.02.18 00:00  A2760101414   72.0   \n",
              "18  TCNU9520816         4875096  22.02.18 00:00  A2760101414   72.0   \n",
              "19  TCNU9520816         4875096  22.02.18 00:00  A2760101414   72.0   \n",
              "\n",
              "   Controller           EventName       EventTime EventMessageTime  \\\n",
              "0         T15        Loading Ship  07.04.18 13:58   08.04.18 03:19   \n",
              "1         T15      Departure Ship  07.04.18 19:05   09.04.18 16:29   \n",
              "2         T15      Unloading Ship  21.04.18 06:19   21.04.18 11:59   \n",
              "3         T15     Departure Truck  21.04.18 11:42   21.04.18 13:29   \n",
              "4         T15       Arrival Truck  08.05.18 18:12   23.05.18 22:04   \n",
              "5         T15       Arrival Truck  08.05.18 18:12   23.05.18 17:32   \n",
              "6         T15       Loading Truck  16.07.18 14:15   16.07.18 16:47   \n",
              "7         T15       Arrival Truck  24.07.18 02:03   24.07.18 05:11   \n",
              "8         T15        Arrival Ship  02.08.18 21:54   03.08.18 01:03   \n",
              "9         T15   Registration Yard  10.08.18 16:18   10.08.18 23:18   \n",
              "10        T15  Goods Receipt Dock  10.08.18 20:50   11.08.18 03:50   \n",
              "11        T15        Loading Ship  07.04.18 07:40   08.04.18 03:33   \n",
              "12        T15      Departure Ship  07.04.18 16:12   08.04.18 05:29   \n",
              "13        T15      Unloading Ship  18.04.18 20:59   19.04.18 00:25   \n",
              "14        T15     Departure Truck  18.04.18 21:27   19.04.18 08:10   \n",
              "15        T15       Arrival Truck  14.05.18 13:59   15.05.18 07:04   \n",
              "16        T15       Loading Truck  20.07.18 10:26   20.07.18 12:49   \n",
              "17        T15       Arrival Truck  28.07.18 05:39   28.07.18 19:08   \n",
              "18        T15        Arrival Ship  12.08.18 13:24   13.08.18 10:46   \n",
              "19        T15   Registration Yard  15.08.18 02:00   15.08.18 09:00   \n",
              "\n",
              "                  EventLocation          VesselName PortofDischarge   time  \n",
              "0               Hafen Rotterdam         NYK ROMULUS             NaN  125.0  \n",
              "1               Hafen Rotterdam         NYK ROMULUS             NaN  125.0  \n",
              "2              Hafen Charleston         NYK ROMULUS             NaN  111.0  \n",
              "3              Hafen Charleston         NYK ROMULUS             NaN  111.0  \n",
              "4              Hafen Charleston         NYK ROMULUS             NaN   94.0  \n",
              "5              Hafen Charleston         NYK ROMULUS             NaN   94.0  \n",
              "6   Consolidation Center Speyer         NYK ROMULUS             NaN   25.0  \n",
              "7               Hafen Antwerpen         NYK ROMULUS             NaN   17.0  \n",
              "8         Bahnterminal Savannah         NYK ROMULUS             NaN    7.0  \n",
              "9               Werk Tuscaloosa         NYK ROMULUS             NaN    0.0  \n",
              "10              Werk Tuscaloosa         NYK ROMULUS             NaN    0.0  \n",
              "11            Hafen Bremerhaven  CHARLESTON EXPRESS             NaN  129.0  \n",
              "12            Hafen Bremerhaven  CHARLESTON EXPRESS             NaN  129.0  \n",
              "13             Hafen Charleston  CHARLESTON EXPRESS             NaN  118.0  \n",
              "14             Hafen Charleston  CHARLESTON EXPRESS             NaN  118.0  \n",
              "15             Hafen Charleston  CHARLESTON EXPRESS             NaN   92.0  \n",
              "16  Consolidation Center Speyer  CHARLESTON EXPRESS             NaN   25.0  \n",
              "17              Hafen Antwerpen  CHARLESTON EXPRESS             NaN   17.0  \n",
              "18        Bahnterminal Savannah  CHARLESTON EXPRESS             NaN    2.0  \n",
              "19              Werk Tuscaloosa  CHARLESTON EXPRESS             NaN    0.0  "
            ],
            "text/html": [
              "\n",
              "  <div id=\"df-ba627aa6-abf9-4bb8-aa36-0b700f8b9f20\">\n",
              "    <div class=\"colab-df-container\">\n",
              "      <div>\n",
              "<style scoped>\n",
              "    .dataframe tbody tr th:only-of-type {\n",
              "        vertical-align: middle;\n",
              "    }\n",
              "\n",
              "    .dataframe tbody tr th {\n",
              "        vertical-align: top;\n",
              "    }\n",
              "\n",
              "    .dataframe thead th {\n",
              "        text-align: right;\n",
              "    }\n",
              "</style>\n",
              "<table border=\"1\" class=\"dataframe\">\n",
              "  <thead>\n",
              "    <tr style=\"text-align: right;\">\n",
              "      <th></th>\n",
              "      <th>Container</th>\n",
              "      <th>ShipmentNumber</th>\n",
              "      <th>PoCreationDate</th>\n",
              "      <th>Material</th>\n",
              "      <th>Quant</th>\n",
              "      <th>Controller</th>\n",
              "      <th>EventName</th>\n",
              "      <th>EventTime</th>\n",
              "      <th>EventMessageTime</th>\n",
              "      <th>EventLocation</th>\n",
              "      <th>VesselName</th>\n",
              "      <th>PortofDischarge</th>\n",
              "      <th>time</th>\n",
              "    </tr>\n",
              "  </thead>\n",
              "  <tbody>\n",
              "    <tr>\n",
              "      <th>0</th>\n",
              "      <td>HLXU8170197</td>\n",
              "      <td>4868820</td>\n",
              "      <td>19.02.18 00:00</td>\n",
              "      <td>A2760101414</td>\n",
              "      <td>72.0</td>\n",
              "      <td>T15</td>\n",
              "      <td>Loading Ship</td>\n",
              "      <td>07.04.18 13:58</td>\n",
              "      <td>08.04.18 03:19</td>\n",
              "      <td>Hafen Rotterdam</td>\n",
              "      <td>NYK ROMULUS</td>\n",
              "      <td>NaN</td>\n",
              "      <td>125.0</td>\n",
              "    </tr>\n",
              "    <tr>\n",
              "      <th>1</th>\n",
              "      <td>HLXU8170197</td>\n",
              "      <td>4868820</td>\n",
              "      <td>19.02.18 00:00</td>\n",
              "      <td>A2760101414</td>\n",
              "      <td>72.0</td>\n",
              "      <td>T15</td>\n",
              "      <td>Departure Ship</td>\n",
              "      <td>07.04.18 19:05</td>\n",
              "      <td>09.04.18 16:29</td>\n",
              "      <td>Hafen Rotterdam</td>\n",
              "      <td>NYK ROMULUS</td>\n",
              "      <td>NaN</td>\n",
              "      <td>125.0</td>\n",
              "    </tr>\n",
              "    <tr>\n",
              "      <th>2</th>\n",
              "      <td>HLXU8170197</td>\n",
              "      <td>4868820</td>\n",
              "      <td>19.02.18 00:00</td>\n",
              "      <td>A2760101414</td>\n",
              "      <td>72.0</td>\n",
              "      <td>T15</td>\n",
              "      <td>Unloading Ship</td>\n",
              "      <td>21.04.18 06:19</td>\n",
              "      <td>21.04.18 11:59</td>\n",
              "      <td>Hafen Charleston</td>\n",
              "      <td>NYK ROMULUS</td>\n",
              "      <td>NaN</td>\n",
              "      <td>111.0</td>\n",
              "    </tr>\n",
              "    <tr>\n",
              "      <th>3</th>\n",
              "      <td>HLXU8170197</td>\n",
              "      <td>4868820</td>\n",
              "      <td>19.02.18 00:00</td>\n",
              "      <td>A2760101414</td>\n",
              "      <td>72.0</td>\n",
              "      <td>T15</td>\n",
              "      <td>Departure Truck</td>\n",
              "      <td>21.04.18 11:42</td>\n",
              "      <td>21.04.18 13:29</td>\n",
              "      <td>Hafen Charleston</td>\n",
              "      <td>NYK ROMULUS</td>\n",
              "      <td>NaN</td>\n",
              "      <td>111.0</td>\n",
              "    </tr>\n",
              "    <tr>\n",
              "      <th>4</th>\n",
              "      <td>HLXU8170197</td>\n",
              "      <td>4868820</td>\n",
              "      <td>19.02.18 00:00</td>\n",
              "      <td>A2760101414</td>\n",
              "      <td>72.0</td>\n",
              "      <td>T15</td>\n",
              "      <td>Arrival Truck</td>\n",
              "      <td>08.05.18 18:12</td>\n",
              "      <td>23.05.18 22:04</td>\n",
              "      <td>Hafen Charleston</td>\n",
              "      <td>NYK ROMULUS</td>\n",
              "      <td>NaN</td>\n",
              "      <td>94.0</td>\n",
              "    </tr>\n",
              "    <tr>\n",
              "      <th>5</th>\n",
              "      <td>HLXU8170197</td>\n",
              "      <td>4868820</td>\n",
              "      <td>19.02.18 00:00</td>\n",
              "      <td>A2760101414</td>\n",
              "      <td>72.0</td>\n",
              "      <td>T15</td>\n",
              "      <td>Arrival Truck</td>\n",
              "      <td>08.05.18 18:12</td>\n",
              "      <td>23.05.18 17:32</td>\n",
              "      <td>Hafen Charleston</td>\n",
              "      <td>NYK ROMULUS</td>\n",
              "      <td>NaN</td>\n",
              "      <td>94.0</td>\n",
              "    </tr>\n",
              "    <tr>\n",
              "      <th>6</th>\n",
              "      <td>HLXU8170197</td>\n",
              "      <td>4868820</td>\n",
              "      <td>19.02.18 00:00</td>\n",
              "      <td>A2760101414</td>\n",
              "      <td>72.0</td>\n",
              "      <td>T15</td>\n",
              "      <td>Loading Truck</td>\n",
              "      <td>16.07.18 14:15</td>\n",
              "      <td>16.07.18 16:47</td>\n",
              "      <td>Consolidation Center Speyer</td>\n",
              "      <td>NYK ROMULUS</td>\n",
              "      <td>NaN</td>\n",
              "      <td>25.0</td>\n",
              "    </tr>\n",
              "    <tr>\n",
              "      <th>7</th>\n",
              "      <td>HLXU8170197</td>\n",
              "      <td>4868820</td>\n",
              "      <td>19.02.18 00:00</td>\n",
              "      <td>A2760101414</td>\n",
              "      <td>72.0</td>\n",
              "      <td>T15</td>\n",
              "      <td>Arrival Truck</td>\n",
              "      <td>24.07.18 02:03</td>\n",
              "      <td>24.07.18 05:11</td>\n",
              "      <td>Hafen Antwerpen</td>\n",
              "      <td>NYK ROMULUS</td>\n",
              "      <td>NaN</td>\n",
              "      <td>17.0</td>\n",
              "    </tr>\n",
              "    <tr>\n",
              "      <th>8</th>\n",
              "      <td>HLXU8170197</td>\n",
              "      <td>4868820</td>\n",
              "      <td>19.02.18 00:00</td>\n",
              "      <td>A2760101414</td>\n",
              "      <td>72.0</td>\n",
              "      <td>T15</td>\n",
              "      <td>Arrival Ship</td>\n",
              "      <td>02.08.18 21:54</td>\n",
              "      <td>03.08.18 01:03</td>\n",
              "      <td>Bahnterminal Savannah</td>\n",
              "      <td>NYK ROMULUS</td>\n",
              "      <td>NaN</td>\n",
              "      <td>7.0</td>\n",
              "    </tr>\n",
              "    <tr>\n",
              "      <th>9</th>\n",
              "      <td>HLXU8170197</td>\n",
              "      <td>4868820</td>\n",
              "      <td>19.02.18 00:00</td>\n",
              "      <td>A2760101414</td>\n",
              "      <td>72.0</td>\n",
              "      <td>T15</td>\n",
              "      <td>Registration Yard</td>\n",
              "      <td>10.08.18 16:18</td>\n",
              "      <td>10.08.18 23:18</td>\n",
              "      <td>Werk Tuscaloosa</td>\n",
              "      <td>NYK ROMULUS</td>\n",
              "      <td>NaN</td>\n",
              "      <td>0.0</td>\n",
              "    </tr>\n",
              "    <tr>\n",
              "      <th>10</th>\n",
              "      <td>HLXU8170197</td>\n",
              "      <td>4868820</td>\n",
              "      <td>19.02.18 00:00</td>\n",
              "      <td>A2760101414</td>\n",
              "      <td>72.0</td>\n",
              "      <td>T15</td>\n",
              "      <td>Goods Receipt Dock</td>\n",
              "      <td>10.08.18 20:50</td>\n",
              "      <td>11.08.18 03:50</td>\n",
              "      <td>Werk Tuscaloosa</td>\n",
              "      <td>NYK ROMULUS</td>\n",
              "      <td>NaN</td>\n",
              "      <td>0.0</td>\n",
              "    </tr>\n",
              "    <tr>\n",
              "      <th>11</th>\n",
              "      <td>TCNU9520816</td>\n",
              "      <td>4875096</td>\n",
              "      <td>22.02.18 00:00</td>\n",
              "      <td>A2760101414</td>\n",
              "      <td>72.0</td>\n",
              "      <td>T15</td>\n",
              "      <td>Loading Ship</td>\n",
              "      <td>07.04.18 07:40</td>\n",
              "      <td>08.04.18 03:33</td>\n",
              "      <td>Hafen Bremerhaven</td>\n",
              "      <td>CHARLESTON EXPRESS</td>\n",
              "      <td>NaN</td>\n",
              "      <td>129.0</td>\n",
              "    </tr>\n",
              "    <tr>\n",
              "      <th>12</th>\n",
              "      <td>TCNU9520816</td>\n",
              "      <td>4875096</td>\n",
              "      <td>22.02.18 00:00</td>\n",
              "      <td>A2760101414</td>\n",
              "      <td>72.0</td>\n",
              "      <td>T15</td>\n",
              "      <td>Departure Ship</td>\n",
              "      <td>07.04.18 16:12</td>\n",
              "      <td>08.04.18 05:29</td>\n",
              "      <td>Hafen Bremerhaven</td>\n",
              "      <td>CHARLESTON EXPRESS</td>\n",
              "      <td>NaN</td>\n",
              "      <td>129.0</td>\n",
              "    </tr>\n",
              "    <tr>\n",
              "      <th>13</th>\n",
              "      <td>TCNU9520816</td>\n",
              "      <td>4875096</td>\n",
              "      <td>22.02.18 00:00</td>\n",
              "      <td>A2760101414</td>\n",
              "      <td>72.0</td>\n",
              "      <td>T15</td>\n",
              "      <td>Unloading Ship</td>\n",
              "      <td>18.04.18 20:59</td>\n",
              "      <td>19.04.18 00:25</td>\n",
              "      <td>Hafen Charleston</td>\n",
              "      <td>CHARLESTON EXPRESS</td>\n",
              "      <td>NaN</td>\n",
              "      <td>118.0</td>\n",
              "    </tr>\n",
              "    <tr>\n",
              "      <th>14</th>\n",
              "      <td>TCNU9520816</td>\n",
              "      <td>4875096</td>\n",
              "      <td>22.02.18 00:00</td>\n",
              "      <td>A2760101414</td>\n",
              "      <td>72.0</td>\n",
              "      <td>T15</td>\n",
              "      <td>Departure Truck</td>\n",
              "      <td>18.04.18 21:27</td>\n",
              "      <td>19.04.18 08:10</td>\n",
              "      <td>Hafen Charleston</td>\n",
              "      <td>CHARLESTON EXPRESS</td>\n",
              "      <td>NaN</td>\n",
              "      <td>118.0</td>\n",
              "    </tr>\n",
              "    <tr>\n",
              "      <th>15</th>\n",
              "      <td>TCNU9520816</td>\n",
              "      <td>4875096</td>\n",
              "      <td>22.02.18 00:00</td>\n",
              "      <td>A2760101414</td>\n",
              "      <td>72.0</td>\n",
              "      <td>T15</td>\n",
              "      <td>Arrival Truck</td>\n",
              "      <td>14.05.18 13:59</td>\n",
              "      <td>15.05.18 07:04</td>\n",
              "      <td>Hafen Charleston</td>\n",
              "      <td>CHARLESTON EXPRESS</td>\n",
              "      <td>NaN</td>\n",
              "      <td>92.0</td>\n",
              "    </tr>\n",
              "    <tr>\n",
              "      <th>16</th>\n",
              "      <td>TCNU9520816</td>\n",
              "      <td>4875096</td>\n",
              "      <td>22.02.18 00:00</td>\n",
              "      <td>A2760101414</td>\n",
              "      <td>72.0</td>\n",
              "      <td>T15</td>\n",
              "      <td>Loading Truck</td>\n",
              "      <td>20.07.18 10:26</td>\n",
              "      <td>20.07.18 12:49</td>\n",
              "      <td>Consolidation Center Speyer</td>\n",
              "      <td>CHARLESTON EXPRESS</td>\n",
              "      <td>NaN</td>\n",
              "      <td>25.0</td>\n",
              "    </tr>\n",
              "    <tr>\n",
              "      <th>17</th>\n",
              "      <td>TCNU9520816</td>\n",
              "      <td>4875096</td>\n",
              "      <td>22.02.18 00:00</td>\n",
              "      <td>A2760101414</td>\n",
              "      <td>72.0</td>\n",
              "      <td>T15</td>\n",
              "      <td>Arrival Truck</td>\n",
              "      <td>28.07.18 05:39</td>\n",
              "      <td>28.07.18 19:08</td>\n",
              "      <td>Hafen Antwerpen</td>\n",
              "      <td>CHARLESTON EXPRESS</td>\n",
              "      <td>NaN</td>\n",
              "      <td>17.0</td>\n",
              "    </tr>\n",
              "    <tr>\n",
              "      <th>18</th>\n",
              "      <td>TCNU9520816</td>\n",
              "      <td>4875096</td>\n",
              "      <td>22.02.18 00:00</td>\n",
              "      <td>A2760101414</td>\n",
              "      <td>72.0</td>\n",
              "      <td>T15</td>\n",
              "      <td>Arrival Ship</td>\n",
              "      <td>12.08.18 13:24</td>\n",
              "      <td>13.08.18 10:46</td>\n",
              "      <td>Bahnterminal Savannah</td>\n",
              "      <td>CHARLESTON EXPRESS</td>\n",
              "      <td>NaN</td>\n",
              "      <td>2.0</td>\n",
              "    </tr>\n",
              "    <tr>\n",
              "      <th>19</th>\n",
              "      <td>TCNU9520816</td>\n",
              "      <td>4875096</td>\n",
              "      <td>22.02.18 00:00</td>\n",
              "      <td>A2760101414</td>\n",
              "      <td>72.0</td>\n",
              "      <td>T15</td>\n",
              "      <td>Registration Yard</td>\n",
              "      <td>15.08.18 02:00</td>\n",
              "      <td>15.08.18 09:00</td>\n",
              "      <td>Werk Tuscaloosa</td>\n",
              "      <td>CHARLESTON EXPRESS</td>\n",
              "      <td>NaN</td>\n",
              "      <td>0.0</td>\n",
              "    </tr>\n",
              "  </tbody>\n",
              "</table>\n",
              "</div>\n",
              "      <button class=\"colab-df-convert\" onclick=\"convertToInteractive('df-ba627aa6-abf9-4bb8-aa36-0b700f8b9f20')\"\n",
              "              title=\"Convert this dataframe to an interactive table.\"\n",
              "              style=\"display:none;\">\n",
              "        \n",
              "  <svg xmlns=\"http://www.w3.org/2000/svg\" height=\"24px\"viewBox=\"0 0 24 24\"\n",
              "       width=\"24px\">\n",
              "    <path d=\"M0 0h24v24H0V0z\" fill=\"none\"/>\n",
              "    <path d=\"M18.56 5.44l.94 2.06.94-2.06 2.06-.94-2.06-.94-.94-2.06-.94 2.06-2.06.94zm-11 1L8.5 8.5l.94-2.06 2.06-.94-2.06-.94L8.5 2.5l-.94 2.06-2.06.94zm10 10l.94 2.06.94-2.06 2.06-.94-2.06-.94-.94-2.06-.94 2.06-2.06.94z\"/><path d=\"M17.41 7.96l-1.37-1.37c-.4-.4-.92-.59-1.43-.59-.52 0-1.04.2-1.43.59L10.3 9.45l-7.72 7.72c-.78.78-.78 2.05 0 2.83L4 21.41c.39.39.9.59 1.41.59.51 0 1.02-.2 1.41-.59l7.78-7.78 2.81-2.81c.8-.78.8-2.07 0-2.86zM5.41 20L4 18.59l7.72-7.72 1.47 1.35L5.41 20z\"/>\n",
              "  </svg>\n",
              "      </button>\n",
              "      \n",
              "  <style>\n",
              "    .colab-df-container {\n",
              "      display:flex;\n",
              "      flex-wrap:wrap;\n",
              "      gap: 12px;\n",
              "    }\n",
              "\n",
              "    .colab-df-convert {\n",
              "      background-color: #E8F0FE;\n",
              "      border: none;\n",
              "      border-radius: 50%;\n",
              "      cursor: pointer;\n",
              "      display: none;\n",
              "      fill: #1967D2;\n",
              "      height: 32px;\n",
              "      padding: 0 0 0 0;\n",
              "      width: 32px;\n",
              "    }\n",
              "\n",
              "    .colab-df-convert:hover {\n",
              "      background-color: #E2EBFA;\n",
              "      box-shadow: 0px 1px 2px rgba(60, 64, 67, 0.3), 0px 1px 3px 1px rgba(60, 64, 67, 0.15);\n",
              "      fill: #174EA6;\n",
              "    }\n",
              "\n",
              "    [theme=dark] .colab-df-convert {\n",
              "      background-color: #3B4455;\n",
              "      fill: #D2E3FC;\n",
              "    }\n",
              "\n",
              "    [theme=dark] .colab-df-convert:hover {\n",
              "      background-color: #434B5C;\n",
              "      box-shadow: 0px 1px 3px 1px rgba(0, 0, 0, 0.15);\n",
              "      filter: drop-shadow(0px 1px 2px rgba(0, 0, 0, 0.3));\n",
              "      fill: #FFFFFF;\n",
              "    }\n",
              "  </style>\n",
              "\n",
              "      <script>\n",
              "        const buttonEl =\n",
              "          document.querySelector('#df-ba627aa6-abf9-4bb8-aa36-0b700f8b9f20 button.colab-df-convert');\n",
              "        buttonEl.style.display =\n",
              "          google.colab.kernel.accessAllowed ? 'block' : 'none';\n",
              "\n",
              "        async function convertToInteractive(key) {\n",
              "          const element = document.querySelector('#df-ba627aa6-abf9-4bb8-aa36-0b700f8b9f20');\n",
              "          const dataTable =\n",
              "            await google.colab.kernel.invokeFunction('convertToInteractive',\n",
              "                                                     [key], {});\n",
              "          if (!dataTable) return;\n",
              "\n",
              "          const docLinkHtml = 'Like what you see? Visit the ' +\n",
              "            '<a target=\"_blank\" href=https://colab.research.google.com/notebooks/data_table.ipynb>data table notebook</a>'\n",
              "            + ' to learn more about interactive tables.';\n",
              "          element.innerHTML = '';\n",
              "          dataTable['output_type'] = 'display_data';\n",
              "          await google.colab.output.renderOutput(dataTable, element);\n",
              "          const docLink = document.createElement('div');\n",
              "          docLink.innerHTML = docLinkHtml;\n",
              "          element.appendChild(docLink);\n",
              "        }\n",
              "      </script>\n",
              "    </div>\n",
              "  </div>\n",
              "  "
            ]
          },
          "metadata": {},
          "execution_count": 7
        }
      ]
    },
    {
      "cell_type": "markdown",
      "source": [
        "Look at individual features and their instances"
      ],
      "metadata": {
        "id": "6J6v83dtSkPh"
      }
    },
    {
      "cell_type": "code",
      "source": [
        "print('Event Names:\\n', track_data['EventName'].unique())\n",
        "print('Materials:\\n', track_data['Material'].unique())\n",
        "print('Shipment Quantities:\\n', track_data['Quant'].unique())\n",
        "print('Controllers:\\n', track_data['Controller'].unique())\n",
        "print('Vessel Names:\\n', track_data['VesselName'].unique())\n",
        "print('Event Locations:\\n', track_data['EventLocation'].unique())\n",
        "print('Ports of Discharge:\\n', track_data['PortofDischarge'].unique())\n",
        "print('Arrival Times:\\n', track_data['time'].unique())"
      ],
      "metadata": {
        "colab": {
          "base_uri": "https://localhost:8080/"
        },
        "id": "pB9CteS5iwVd",
        "outputId": "f59c543d-4ae3-4d65-98c0-bf2e9b1a56fc"
      },
      "execution_count": 8,
      "outputs": [
        {
          "output_type": "stream",
          "name": "stdout",
          "text": [
            "Event Names:\n",
            " ['Loading Ship' 'Departure Ship' 'Unloading Ship' 'Departure Truck'\n",
            " 'Arrival Truck' 'Loading Truck' 'Arrival Ship' 'Registration Yard'\n",
            " 'Goods Receipt Dock' 'New Scheduling' 'Container Closed']\n",
            "Materials:\n",
            " ['A2760101414' 'A2760101614' 'A1662707202' 'A1662708602' 'A1662708702'\n",
            " 'A6540107406' 'A2560107300' 'A2132704801' 'A2760106714' 'A2572700000']\n",
            "Shipment Quantities:\n",
            " [ 72.  42.  24.  21.   6.  45.  33.  27. 144. 138. 150. 126.  12.  66.\n",
            " 120.  15. 102.  36. 108.  30.  78.  54.  90.  39.   9.  60. 114.  96.\n",
            "  48. 132.  18.   3.  69.  51.  84.  57.  47.  63. 156.  68. 162.  nan\n",
            " 106. 122.  52.   2.  13.  53. 129. 135.  59.   5.]\n",
            "Controllers:\n",
            " ['T15']\n",
            "Vessel Names:\n",
            " ['NYK ROMULUS' 'CHARLESTON EXPRESS' 'YORKTOWN EXPRESS' 'MOL EMISSARY'\n",
            " 'NYK DAEDALUS' 'PHILADELPHIA EXPRESS' 'SHANGHAI TRADER' 'MAINE TRADER'\n",
            " 'ST LOUIS EXPRESS' 'MUNICH MAERSK' 'VECCHIO BRIDGE' 'WASHINGTON EXPRESS'\n",
            " 'NYK RIGEL' 'NYK METEOR' 'EASLINE DALIAN' 'MONACO MAERSK' 'YM UNITY'\n",
            " 'MOL EMPIRE' 'VENICE BRIDGE' 'ROTTERDAM EXPRESS' 'NYK RUMINA'\n",
            " 'BREVIK BRIDGE' 'TRF PARTICI' 'MOL EXPERIENCE' 'NYK REMUS' 'NYK DENEB'\n",
            " 'NYK NEBULA']\n",
            "Event Locations:\n",
            " ['Hafen Rotterdam' 'Hafen Charleston' 'Consolidation Center Speyer'\n",
            " 'Hafen Antwerpen' 'Bahnterminal Savannah' 'Werk Tuscaloosa'\n",
            " 'Hafen Bremerhaven' 'urn:jaif:id:loc:25LUN498999044W013' 'Hafen Hamburg'\n",
            " 'Hafen Altamira' 'Hafen Aguascalientes' nan]\n",
            "Ports of Discharge:\n",
            " [nan 'Hafen Charleston' 'Bahnterminal Savannah' '*Multiple*'\n",
            " 'Hafen Altamira']\n",
            "Arrival Times:\n",
            " [125. 111.  94.  25.  17.   7.   0. 129. 118.  92.   2.  66.  55.  53.\n",
            "  42.  57.  41.  40.  39. 137. 133. 120. 119.  90.  28.  21.   8.  61.\n",
            "  45.  44.  43.  62.  50.  49.  48. 209. 208. 197. 174. 135. 117.  83.\n",
            "  37.  20.  11. 126. 122. 121. 109. 108.  24.  16. 155. 151. 138.  95.\n",
            "  38.  54.  36.  35.  60.  56. 115.  98.  85.   5. 105.  23.  15.   6.\n",
            " 110.  99.  86.  13.  10.  46.  34.  47. 102. 101.  76.  32.  18.   4.\n",
            " 113.  29.   9.  52.  51.  80.  22.   1.  nan  33. 114. 103.  81.  59.\n",
            " 106.  26.  12.  14.  31.  30. 128.  82.  27.  58.  67.   3.  68.  72.\n",
            "  65. 132. 116.  73.  87.  75.  74.  63.  88. 139.  84. 124. 104.  79.\n",
            " 249. 247. 246. 235. 228. 181. 145. 164. 157. 156.  19.  70.  64. 136.\n",
            " 134. 153. 150. 149.  69.  71. 131. 127.  97.  77. 130. 140.  89.  96.\n",
            " 256. 227. 167. 268. 264. 263. 252. 240. 220. 236. 216. 204. 159. 148.\n",
            " 100. 123.  93. 223. 212. 199. 169.  91.  78. 278. 269. 258. 168. 144.\n",
            " 142. 143. 112. 107. 163. 158. 147. 146. 152. 166. 194. 191. 190. 175.\n",
            " 141. 154. 160.]\n"
          ]
        }
      ]
    },
    {
      "cell_type": "markdown",
      "source": [
        "correct urn:jaif:id:loc:25LUN498999044W013 <- missing 8 probably"
      ],
      "metadata": {
        "id": "dl5x49_1TKus"
      }
    },
    {
      "cell_type": "code",
      "source": [
        "track_data.loc[track_data['EventLocation'] == 'urn:jaif:id:loc:25LUN498999044W013', 'EventLocation'] = 'Werk Tuscaloosa' "
      ],
      "metadata": {
        "id": "RkdJA6xAyHrm"
      },
      "execution_count": 9,
      "outputs": []
    },
    {
      "cell_type": "markdown",
      "source": [
        "Remove column \"Controller\" as it does not convey any information"
      ],
      "metadata": {
        "id": "EyAghb2fTSB0"
      }
    },
    {
      "cell_type": "code",
      "source": [
        "track_data.drop([\"Controller\"], axis=1, inplace=True)"
      ],
      "metadata": {
        "id": "jMTR7m63KaHt"
      },
      "execution_count": 10,
      "outputs": []
    },
    {
      "cell_type": "markdown",
      "source": [
        "Further insights:\n",
        "\n",
        "\n",
        "*   We have quite a number of NaN values\n",
        "*   Start point sometimes/always missing?\n",
        "*   (Almost) Duplicate data points? -> Coming from multiple packacges in same shipment?\n",
        "*   Do not know the time zone -> Assume everything is GMT+2\n",
        "*   A \"data point\" can also be seen as a time series here -> Look at rows with same shipment number \n",
        "\n",
        "\n"
      ],
      "metadata": {
        "id": "oYk1Dm497v5_"
      }
    },
    {
      "cell_type": "markdown",
      "source": [
        "Some helper functions to visualize shipments"
      ],
      "metadata": {
        "id": "1rxajYWtUYfB"
      }
    },
    {
      "cell_type": "code",
      "source": [
        "def get_single_shipment(ShipmentNumber):\n",
        "  return track_data[track_data['ShipmentNumber'] == ShipmentNumber]\n",
        "\n",
        "def get_random_shipment_number():\n",
        "  return int(track_data.sample()['ShipmentNumber'])\n",
        "\n",
        "def convert_to_strptime(time_series):\n",
        "  return pd.to_datetime(time_series, format='%d.%m.%y %H:%M')\n",
        "\n",
        "def sort_by_date(df,feature):\n",
        "  return df.sort_values(by=[feature], key=convert_to_strptime)"
      ],
      "metadata": {
        "id": "UKpXoowdpeZQ"
      },
      "execution_count": 11,
      "outputs": []
    },
    {
      "cell_type": "code",
      "source": [
        "len(track_data)"
      ],
      "metadata": {
        "id": "LMtlT1Hioid1",
        "outputId": "4921db08-d73e-4cd6-e2b6-0f881d5d447e",
        "colab": {
          "base_uri": "https://localhost:8080/"
        }
      },
      "execution_count": 12,
      "outputs": [
        {
          "output_type": "execute_result",
          "data": {
            "text/plain": [
              "35306"
            ]
          },
          "metadata": {},
          "execution_count": 12
        }
      ]
    },
    {
      "cell_type": "markdown",
      "source": [
        "Delete rows with time=0 bc of lack of usefulness for prediction"
      ],
      "metadata": {
        "id": "YyUh_loOUfNa"
      }
    },
    {
      "cell_type": "code",
      "source": [
        "track_data.drop(track_data.loc[track_data['time']==0].index, inplace=True)"
      ],
      "metadata": {
        "id": "f1drRQQ_oQsR"
      },
      "execution_count": 13,
      "outputs": []
    },
    {
      "cell_type": "markdown",
      "source": [
        "Delete \"missing\"(?) entries in data"
      ],
      "metadata": {
        "id": "dI4eUDtyU5Az"
      }
    },
    {
      "cell_type": "code",
      "source": [
        "track_data.replace('###############################################################################################################################################################################################################################################################',float('NaN'),inplace=True)"
      ],
      "metadata": {
        "id": "ug5bGz2nvSK8"
      },
      "execution_count": 14,
      "outputs": []
    },
    {
      "cell_type": "code",
      "source": [
        "len(track_data.loc[track_data['EventLocation'].isna()])"
      ],
      "metadata": {
        "id": "MRC8FpkjnsVD",
        "outputId": "c6a391ed-c179-416f-9a20-059a092d7c33",
        "colab": {
          "base_uri": "https://localhost:8080/"
        }
      },
      "execution_count": 15,
      "outputs": [
        {
          "output_type": "execute_result",
          "data": {
            "text/plain": [
              "473"
            ]
          },
          "metadata": {},
          "execution_count": 15
        }
      ]
    },
    {
      "cell_type": "markdown",
      "source": [
        "# 1.1 Dealing with NaNs"
      ],
      "metadata": {
        "id": "CWJYgybQVYK6"
      }
    },
    {
      "cell_type": "markdown",
      "source": [
        "**EventLocation:**"
      ],
      "metadata": {
        "id": "eHBrBa-sWD5X"
      }
    },
    {
      "cell_type": "code",
      "source": [
        "track_data.loc[track_data['EventLocation'].isna() & (track_data['VesselName'] == 'MOL EMPIRE'), 'EventLocation'] = 'Hafen Bremerhaven'\n",
        "track_data.iloc[10570:10580]"
      ],
      "metadata": {
        "id": "QHHQiKSt50wJ",
        "outputId": "660bf504-eb63-413b-e0f4-3deb053ebe87",
        "colab": {
          "base_uri": "https://localhost:8080/",
          "height": 363
        }
      },
      "execution_count": 16,
      "outputs": [
        {
          "output_type": "execute_result",
          "data": {
            "text/plain": [
              "         Container  ShipmentNumber  PoCreationDate     Material  Quant  \\\n",
              "12430  TEMU7716965         5237336  14.08.18 00:00  A1662708602  144.0   \n",
              "12431  TEMU7716965         5237336  14.08.18 00:00  A1662708602  144.0   \n",
              "12432  TEMU7716965         5237336  14.08.18 00:00  A1662708602  144.0   \n",
              "12433  TEMU7716965         5237336  14.08.18 00:00  A1662708602  144.0   \n",
              "12434  TEMU7716965         5237336  14.08.18 00:00  A1662708602  144.0   \n",
              "12435  TEMU7716965         5237336  14.08.18 00:00  A1662708602  144.0   \n",
              "12436  TEMU7716965         5237336  14.08.18 00:00  A1662708602  144.0   \n",
              "12437  TEMU7716965         5237336  14.08.18 00:00  A1662708602  144.0   \n",
              "12438  TEMU7716965         5237336  14.08.18 00:00  A1662708602  144.0   \n",
              "12439  TEMU7716965         5237336  14.08.18 00:00  A1662708602  144.0   \n",
              "\n",
              "             EventName       EventTime EventMessageTime      EventLocation  \\\n",
              "12430   Unloading Ship  26.09.18 07:09   26.09.18 09:14   Hafen Charleston   \n",
              "12431  Departure Truck  26.09.18 16:07   26.09.18 18:38   Hafen Charleston   \n",
              "12432    Arrival Truck  25.11.18 10:03   25.11.18 21:00  Hafen Bremerhaven   \n",
              "12433   Departure Ship  11.12.18 21:48   11.12.18 23:59  Hafen Bremerhaven   \n",
              "12434   Departure Ship  11.12.18 21:48   11.12.18 23:59                NaN   \n",
              "12435   New Scheduling  22.12.18 00:30   06.12.18 12:15   Hafen Charleston   \n",
              "12436   New Scheduling  23.12.18 17:00   12.12.18 17:05   Hafen Charleston   \n",
              "12437   New Scheduling  26.12.18 11:00   19.12.18 01:34   Hafen Charleston   \n",
              "12438   New Scheduling  27.12.18 00:00   24.12.18 19:03   Hafen Charleston   \n",
              "12439  Departure Truck  27.12.18 14:05   27.12.18 16:05   Hafen Charleston   \n",
              "\n",
              "            VesselName PortofDischarge   time  \n",
              "12430  SHANGHAI TRADER             NaN  123.0  \n",
              "12431  SHANGHAI TRADER             NaN  123.0  \n",
              "12432  SHANGHAI TRADER             NaN   63.0  \n",
              "12433  SHANGHAI TRADER             NaN   47.0  \n",
              "12434  SHANGHAI TRADER             NaN   47.0  \n",
              "12435  SHANGHAI TRADER             NaN   37.0  \n",
              "12436  SHANGHAI TRADER             NaN   35.0  \n",
              "12437  SHANGHAI TRADER             NaN   32.0  \n",
              "12438  SHANGHAI TRADER             NaN   32.0  \n",
              "12439  SHANGHAI TRADER             NaN   31.0  "
            ],
            "text/html": [
              "\n",
              "  <div id=\"df-254b02f2-0846-4a07-b17d-42bd8c3db54f\">\n",
              "    <div class=\"colab-df-container\">\n",
              "      <div>\n",
              "<style scoped>\n",
              "    .dataframe tbody tr th:only-of-type {\n",
              "        vertical-align: middle;\n",
              "    }\n",
              "\n",
              "    .dataframe tbody tr th {\n",
              "        vertical-align: top;\n",
              "    }\n",
              "\n",
              "    .dataframe thead th {\n",
              "        text-align: right;\n",
              "    }\n",
              "</style>\n",
              "<table border=\"1\" class=\"dataframe\">\n",
              "  <thead>\n",
              "    <tr style=\"text-align: right;\">\n",
              "      <th></th>\n",
              "      <th>Container</th>\n",
              "      <th>ShipmentNumber</th>\n",
              "      <th>PoCreationDate</th>\n",
              "      <th>Material</th>\n",
              "      <th>Quant</th>\n",
              "      <th>EventName</th>\n",
              "      <th>EventTime</th>\n",
              "      <th>EventMessageTime</th>\n",
              "      <th>EventLocation</th>\n",
              "      <th>VesselName</th>\n",
              "      <th>PortofDischarge</th>\n",
              "      <th>time</th>\n",
              "    </tr>\n",
              "  </thead>\n",
              "  <tbody>\n",
              "    <tr>\n",
              "      <th>12430</th>\n",
              "      <td>TEMU7716965</td>\n",
              "      <td>5237336</td>\n",
              "      <td>14.08.18 00:00</td>\n",
              "      <td>A1662708602</td>\n",
              "      <td>144.0</td>\n",
              "      <td>Unloading Ship</td>\n",
              "      <td>26.09.18 07:09</td>\n",
              "      <td>26.09.18 09:14</td>\n",
              "      <td>Hafen Charleston</td>\n",
              "      <td>SHANGHAI TRADER</td>\n",
              "      <td>NaN</td>\n",
              "      <td>123.0</td>\n",
              "    </tr>\n",
              "    <tr>\n",
              "      <th>12431</th>\n",
              "      <td>TEMU7716965</td>\n",
              "      <td>5237336</td>\n",
              "      <td>14.08.18 00:00</td>\n",
              "      <td>A1662708602</td>\n",
              "      <td>144.0</td>\n",
              "      <td>Departure Truck</td>\n",
              "      <td>26.09.18 16:07</td>\n",
              "      <td>26.09.18 18:38</td>\n",
              "      <td>Hafen Charleston</td>\n",
              "      <td>SHANGHAI TRADER</td>\n",
              "      <td>NaN</td>\n",
              "      <td>123.0</td>\n",
              "    </tr>\n",
              "    <tr>\n",
              "      <th>12432</th>\n",
              "      <td>TEMU7716965</td>\n",
              "      <td>5237336</td>\n",
              "      <td>14.08.18 00:00</td>\n",
              "      <td>A1662708602</td>\n",
              "      <td>144.0</td>\n",
              "      <td>Arrival Truck</td>\n",
              "      <td>25.11.18 10:03</td>\n",
              "      <td>25.11.18 21:00</td>\n",
              "      <td>Hafen Bremerhaven</td>\n",
              "      <td>SHANGHAI TRADER</td>\n",
              "      <td>NaN</td>\n",
              "      <td>63.0</td>\n",
              "    </tr>\n",
              "    <tr>\n",
              "      <th>12433</th>\n",
              "      <td>TEMU7716965</td>\n",
              "      <td>5237336</td>\n",
              "      <td>14.08.18 00:00</td>\n",
              "      <td>A1662708602</td>\n",
              "      <td>144.0</td>\n",
              "      <td>Departure Ship</td>\n",
              "      <td>11.12.18 21:48</td>\n",
              "      <td>11.12.18 23:59</td>\n",
              "      <td>Hafen Bremerhaven</td>\n",
              "      <td>SHANGHAI TRADER</td>\n",
              "      <td>NaN</td>\n",
              "      <td>47.0</td>\n",
              "    </tr>\n",
              "    <tr>\n",
              "      <th>12434</th>\n",
              "      <td>TEMU7716965</td>\n",
              "      <td>5237336</td>\n",
              "      <td>14.08.18 00:00</td>\n",
              "      <td>A1662708602</td>\n",
              "      <td>144.0</td>\n",
              "      <td>Departure Ship</td>\n",
              "      <td>11.12.18 21:48</td>\n",
              "      <td>11.12.18 23:59</td>\n",
              "      <td>NaN</td>\n",
              "      <td>SHANGHAI TRADER</td>\n",
              "      <td>NaN</td>\n",
              "      <td>47.0</td>\n",
              "    </tr>\n",
              "    <tr>\n",
              "      <th>12435</th>\n",
              "      <td>TEMU7716965</td>\n",
              "      <td>5237336</td>\n",
              "      <td>14.08.18 00:00</td>\n",
              "      <td>A1662708602</td>\n",
              "      <td>144.0</td>\n",
              "      <td>New Scheduling</td>\n",
              "      <td>22.12.18 00:30</td>\n",
              "      <td>06.12.18 12:15</td>\n",
              "      <td>Hafen Charleston</td>\n",
              "      <td>SHANGHAI TRADER</td>\n",
              "      <td>NaN</td>\n",
              "      <td>37.0</td>\n",
              "    </tr>\n",
              "    <tr>\n",
              "      <th>12436</th>\n",
              "      <td>TEMU7716965</td>\n",
              "      <td>5237336</td>\n",
              "      <td>14.08.18 00:00</td>\n",
              "      <td>A1662708602</td>\n",
              "      <td>144.0</td>\n",
              "      <td>New Scheduling</td>\n",
              "      <td>23.12.18 17:00</td>\n",
              "      <td>12.12.18 17:05</td>\n",
              "      <td>Hafen Charleston</td>\n",
              "      <td>SHANGHAI TRADER</td>\n",
              "      <td>NaN</td>\n",
              "      <td>35.0</td>\n",
              "    </tr>\n",
              "    <tr>\n",
              "      <th>12437</th>\n",
              "      <td>TEMU7716965</td>\n",
              "      <td>5237336</td>\n",
              "      <td>14.08.18 00:00</td>\n",
              "      <td>A1662708602</td>\n",
              "      <td>144.0</td>\n",
              "      <td>New Scheduling</td>\n",
              "      <td>26.12.18 11:00</td>\n",
              "      <td>19.12.18 01:34</td>\n",
              "      <td>Hafen Charleston</td>\n",
              "      <td>SHANGHAI TRADER</td>\n",
              "      <td>NaN</td>\n",
              "      <td>32.0</td>\n",
              "    </tr>\n",
              "    <tr>\n",
              "      <th>12438</th>\n",
              "      <td>TEMU7716965</td>\n",
              "      <td>5237336</td>\n",
              "      <td>14.08.18 00:00</td>\n",
              "      <td>A1662708602</td>\n",
              "      <td>144.0</td>\n",
              "      <td>New Scheduling</td>\n",
              "      <td>27.12.18 00:00</td>\n",
              "      <td>24.12.18 19:03</td>\n",
              "      <td>Hafen Charleston</td>\n",
              "      <td>SHANGHAI TRADER</td>\n",
              "      <td>NaN</td>\n",
              "      <td>32.0</td>\n",
              "    </tr>\n",
              "    <tr>\n",
              "      <th>12439</th>\n",
              "      <td>TEMU7716965</td>\n",
              "      <td>5237336</td>\n",
              "      <td>14.08.18 00:00</td>\n",
              "      <td>A1662708602</td>\n",
              "      <td>144.0</td>\n",
              "      <td>Departure Truck</td>\n",
              "      <td>27.12.18 14:05</td>\n",
              "      <td>27.12.18 16:05</td>\n",
              "      <td>Hafen Charleston</td>\n",
              "      <td>SHANGHAI TRADER</td>\n",
              "      <td>NaN</td>\n",
              "      <td>31.0</td>\n",
              "    </tr>\n",
              "  </tbody>\n",
              "</table>\n",
              "</div>\n",
              "      <button class=\"colab-df-convert\" onclick=\"convertToInteractive('df-254b02f2-0846-4a07-b17d-42bd8c3db54f')\"\n",
              "              title=\"Convert this dataframe to an interactive table.\"\n",
              "              style=\"display:none;\">\n",
              "        \n",
              "  <svg xmlns=\"http://www.w3.org/2000/svg\" height=\"24px\"viewBox=\"0 0 24 24\"\n",
              "       width=\"24px\">\n",
              "    <path d=\"M0 0h24v24H0V0z\" fill=\"none\"/>\n",
              "    <path d=\"M18.56 5.44l.94 2.06.94-2.06 2.06-.94-2.06-.94-.94-2.06-.94 2.06-2.06.94zm-11 1L8.5 8.5l.94-2.06 2.06-.94-2.06-.94L8.5 2.5l-.94 2.06-2.06.94zm10 10l.94 2.06.94-2.06 2.06-.94-2.06-.94-.94-2.06-.94 2.06-2.06.94z\"/><path d=\"M17.41 7.96l-1.37-1.37c-.4-.4-.92-.59-1.43-.59-.52 0-1.04.2-1.43.59L10.3 9.45l-7.72 7.72c-.78.78-.78 2.05 0 2.83L4 21.41c.39.39.9.59 1.41.59.51 0 1.02-.2 1.41-.59l7.78-7.78 2.81-2.81c.8-.78.8-2.07 0-2.86zM5.41 20L4 18.59l7.72-7.72 1.47 1.35L5.41 20z\"/>\n",
              "  </svg>\n",
              "      </button>\n",
              "      \n",
              "  <style>\n",
              "    .colab-df-container {\n",
              "      display:flex;\n",
              "      flex-wrap:wrap;\n",
              "      gap: 12px;\n",
              "    }\n",
              "\n",
              "    .colab-df-convert {\n",
              "      background-color: #E8F0FE;\n",
              "      border: none;\n",
              "      border-radius: 50%;\n",
              "      cursor: pointer;\n",
              "      display: none;\n",
              "      fill: #1967D2;\n",
              "      height: 32px;\n",
              "      padding: 0 0 0 0;\n",
              "      width: 32px;\n",
              "    }\n",
              "\n",
              "    .colab-df-convert:hover {\n",
              "      background-color: #E2EBFA;\n",
              "      box-shadow: 0px 1px 2px rgba(60, 64, 67, 0.3), 0px 1px 3px 1px rgba(60, 64, 67, 0.15);\n",
              "      fill: #174EA6;\n",
              "    }\n",
              "\n",
              "    [theme=dark] .colab-df-convert {\n",
              "      background-color: #3B4455;\n",
              "      fill: #D2E3FC;\n",
              "    }\n",
              "\n",
              "    [theme=dark] .colab-df-convert:hover {\n",
              "      background-color: #434B5C;\n",
              "      box-shadow: 0px 1px 3px 1px rgba(0, 0, 0, 0.15);\n",
              "      filter: drop-shadow(0px 1px 2px rgba(0, 0, 0, 0.3));\n",
              "      fill: #FFFFFF;\n",
              "    }\n",
              "  </style>\n",
              "\n",
              "      <script>\n",
              "        const buttonEl =\n",
              "          document.querySelector('#df-254b02f2-0846-4a07-b17d-42bd8c3db54f button.colab-df-convert');\n",
              "        buttonEl.style.display =\n",
              "          google.colab.kernel.accessAllowed ? 'block' : 'none';\n",
              "\n",
              "        async function convertToInteractive(key) {\n",
              "          const element = document.querySelector('#df-254b02f2-0846-4a07-b17d-42bd8c3db54f');\n",
              "          const dataTable =\n",
              "            await google.colab.kernel.invokeFunction('convertToInteractive',\n",
              "                                                     [key], {});\n",
              "          if (!dataTable) return;\n",
              "\n",
              "          const docLinkHtml = 'Like what you see? Visit the ' +\n",
              "            '<a target=\"_blank\" href=https://colab.research.google.com/notebooks/data_table.ipynb>data table notebook</a>'\n",
              "            + ' to learn more about interactive tables.';\n",
              "          element.innerHTML = '';\n",
              "          dataTable['output_type'] = 'display_data';\n",
              "          await google.colab.output.renderOutput(dataTable, element);\n",
              "          const docLink = document.createElement('div');\n",
              "          docLink.innerHTML = docLinkHtml;\n",
              "          element.appendChild(docLink);\n",
              "        }\n",
              "      </script>\n",
              "    </div>\n",
              "  </div>\n",
              "  "
            ]
          },
          "metadata": {},
          "execution_count": 16
        }
      ]
    },
    {
      "cell_type": "markdown",
      "source": [
        "Semi-manually \"impute\" NaN values in \"EventLocation\""
      ],
      "metadata": {
        "id": "HMTwdHXHVtKe"
      }
    },
    {
      "cell_type": "code",
      "source": [
        "#assume that all these shipments have been made through \"Hafen Bremerhaven\":\n",
        "track_data.loc[(track_data['EventLocation'].isna()) & (track_data['VesselName'] == 'VECCHIO BRIDGE'), 'EventLocation'] = 'Hafen Bremerhaven'\n",
        "\n",
        "#assume that all these shipments have been made through \"Hafen Antwerpen\":\n",
        "track_data.loc[(track_data['EventLocation'].isna()) & (track_data['VesselName'] == 'VENICE BRIDGE'), 'EventLocation'] = 'Hafen Antwerpen'\n",
        "\n",
        "#assume that all these shipments have been made through \"Hafen Bremerhaven\":\t\n",
        "track_data.loc[track_data['EventLocation'].isna() & (track_data['VesselName'] == 'ST LOUIS EXPRESS'), 'EventLocation'] = 'Hafen Bremerhaven'\n",
        "\n",
        "#assume that all these shipments have been made through \"Hafen Bremerhaven\":\t\n",
        "track_data.loc[track_data['EventLocation'].isna() & (track_data['VesselName'] == 'MOL EMISSARY'), 'EventLocation'] = 'Hafen Bremerhaven'\n",
        "\n",
        "#assume that all these shipments have been made through \"Hafen Bremerhaven\":\n",
        "track_data.loc[track_data['EventLocation'].isna() & (track_data['VesselName'] == 'WASHINGTON EXPRESS') & (track_data['EventTime'] == '10.08.18 11:24'), 'EventLocation'] = 'Hafen Bremerhaven'\n",
        "\n",
        "#assume that all these shipments have been made through \"Hafen Antwerpen\":\n",
        "track_data.loc[track_data['EventLocation'].isna() & (track_data['VesselName'] == 'WASHINGTON EXPRESS') & (track_data['EventTime'] == '12.08.18 11:24'), 'EventLocation'] = 'Hafen Antwerpen'\n",
        "track_data.loc[track_data['EventLocation'].isna() & (track_data['VesselName'] == 'WASHINGTON EXPRESS') & (track_data['EventTime'] == '12.08.18 21:42'), 'EventLocation'] = 'Hafen Antwerpen'\n",
        "\n",
        "#assume that all these shipments have been made through \"Hafen Antwerpen\":\n",
        "track_data.loc[track_data['EventLocation'].isna() & (track_data['VesselName'] == 'WASHINGTON EXPRESS') & (track_data['EventTime'] == '28.10.18 23:24'), 'EventLocation'] = 'Hafen Bremerhaven'\n",
        "\n",
        "#assume that all these shipments have been made through \"Hafen Bremerhaven\":\n",
        "track_data.loc[track_data['EventLocation'].isna() & (track_data['VesselName'] == 'SHANGHAI TRADER') & (track_data['EventTime'] == '15.08.18 04:36'), 'EventLocation'] = 'Hafen Bremerhaven'\n",
        "track_data.loc[track_data['EventLocation'].isna() & (track_data['VesselName'] == 'SHANGHAI TRADER') & (track_data['EventTime'] == '14.09.18 19:06'), 'EventLocation'] = 'Hafen Bremerhaven'\n",
        "track_data.loc[track_data['EventLocation'].isna() & (track_data['VesselName'] == 'SHANGHAI TRADER'), 'EventLocation'] = 'Hafen Bremerhaven'\n",
        "track_data.loc[track_data['EventLocation'].isna() & (track_data['VesselName'] == 'SHANGHAI TRADER') & (track_data['EventTime'] == '11.12.18 21:48'), 'EventLocation'] = 'Hafen Bremerhaven'\n",
        "track_data.loc[track_data['EventLocation'].isna() & (track_data['VesselName'] == 'SHANGHAI TRADER') & (track_data['EventTime'] == '02.01.19 12:42'), 'EventLocation'] = 'Hafen Antwerpen'\n",
        "#all the rest is Bremerhaven\n",
        "track_data.loc[track_data['EventLocation'].isna() & (track_data['VesselName'] == 'SHANGHAI TRADER'), 'EventLocation'] = 'Hafen Bremerhaven'\n",
        "\n",
        "#assume that all these shipments have been made through \"Hafen Bremerhaven\":\n",
        "track_data.loc[track_data['EventLocation'].isna() & (track_data['VesselName'] == 'CHARLESTON EXPRESS'), 'EventLocation'] = 'Hafen Bremerhaven'\n",
        "\n",
        "#assume that all these shipments have been made through \"Hafen Bremerhaven\":\n",
        "track_data.loc[track_data['EventLocation'].isna() & (track_data['VesselName'] == 'ROTTERDAM EXPRESS'), 'EventLocation'] = 'Hafen Bremerhaven'\n",
        "\n",
        "#assume that all these shipments have been made through \"Hafen Bremerhaven\":\n",
        "track_data.loc[track_data['EventLocation'].isna() & (track_data['VesselName'] == 'YORKTOWN EXPRESS'), 'EventLocation'] = 'Hafen Bremerhaven'\n",
        "\n",
        "#assume that all these shipments have been made through \"Hafen Bremerhaven\":\n",
        "track_data.loc[track_data['EventLocation'].isna() & (track_data['VesselName'] == 'PHILADELPHIA EXPRESS') & (track_data['EventTime'] == '03.09.18 03:48'), 'EventLocation'] = 'Hafen Bremerhaven'\n",
        "track_data.loc[track_data['EventLocation'].isna() & (track_data['VesselName'] == 'PHILADELPHIA EXPRESS') & (track_data['EventTime'] == '28.09.18 12:15'), 'EventLocation'] = 'Hafen Bremerhaven'\n",
        "track_data.loc[track_data['EventLocation'].isna() & (track_data['VesselName'] == 'PHILADELPHIA EXPRESS') & (track_data['EventTime'] == '29.09.18 06:11'), 'EventLocation'] = 'Hafen Bremerhaven'\n",
        "track_data.loc[track_data['EventLocation'].isna() & (track_data['VesselName'] == 'PHILADELPHIA EXPRESS') & (track_data['EventTime'] == '02.10.18 07:36'), 'EventLocation'] = 'Hafen Bremerhaven'\n",
        "track_data.loc[track_data['EventLocation'].isna() & (track_data['VesselName'] == 'PHILADELPHIA EXPRESS') & (track_data['EventTime'] == '04.10.18 13:16'), 'EventLocation'] = 'Hafen Bremerhaven'\n",
        "#rest also Bremerhaven\n",
        "track_data.loc[track_data['EventLocation'].isna() & (track_data['VesselName'] == 'PHILADELPHIA EXPRESS'), 'EventLocation'] = 'Hafen Bremerhaven'\n",
        "\n",
        "#rest is MOL EMPIRE, is Bremerhaven\n",
        "track_data.loc[track_data['EventLocation'].isna() & (track_data['VesselName'] == 'MOL EMPIRE'), 'EventLocation'] = 'Hafen Bremerhaven'\n"
      ],
      "metadata": {
        "id": "-IiUDmNHUNpk"
      },
      "execution_count": 17,
      "outputs": []
    },
    {
      "cell_type": "markdown",
      "source": [
        "**Quantities**"
      ],
      "metadata": {
        "id": "7xmklqZ3WsXW"
      }
    },
    {
      "cell_type": "code",
      "source": [
        "len(track_data[track_data['Quant'].isna()])"
      ],
      "metadata": {
        "id": "NRH0wbpEUVaq",
        "outputId": "c451f43a-bca1-4306-f02d-48e8a2145a95",
        "colab": {
          "base_uri": "https://localhost:8080/"
        }
      },
      "execution_count": 18,
      "outputs": [
        {
          "output_type": "execute_result",
          "data": {
            "text/plain": [
              "9"
            ]
          },
          "metadata": {},
          "execution_count": 18
        }
      ]
    },
    {
      "cell_type": "markdown",
      "source": [
        "Manually insert Quantities"
      ],
      "metadata": {
        "id": "6hXY_JuCV63m"
      }
    },
    {
      "cell_type": "code",
      "source": [
        "track_data.at[5191, 'Quant'] = 33.0\n",
        "track_data.at[16807, 'Quant'] = 66.0\n",
        "track_data.at[16808, 'Quant'] = 66.0\n",
        "track_data.at[17010, 'Quant'] = 54.0\n",
        "track_data.at[19685, 'Quant'] = 9.0\n",
        "track_data.at[27314, 'Quant'] = 12.0\n",
        "track_data.at[27315, 'Quant'] = 12.0\n",
        "track_data.at[27316, 'Quant'] = 12.0\n",
        "track_data.at[27317, 'Quant'] = 12.0"
      ],
      "metadata": {
        "id": "uT4gV7ctq6Nc"
      },
      "execution_count": 19,
      "outputs": []
    },
    {
      "cell_type": "markdown",
      "source": [
        "**PortofDischarge**"
      ],
      "metadata": {
        "id": "NnVRRkc7Wwha"
      }
    },
    {
      "cell_type": "code",
      "source": [
        "track_data[track_data['PortofDischarge'].isna()]"
      ],
      "metadata": {
        "id": "DaTtN9XDUn6t",
        "outputId": "4b3af345-f0d0-44b6-c87a-59ef9e228b32",
        "colab": {
          "base_uri": "https://localhost:8080/",
          "height": 424
        }
      },
      "execution_count": 20,
      "outputs": [
        {
          "output_type": "execute_result",
          "data": {
            "text/plain": [
              "         Container  ShipmentNumber  PoCreationDate     Material  Quant  \\\n",
              "0      HLXU8170197         4868820  19.02.18 00:00  A2760101414   72.0   \n",
              "1      HLXU8170197         4868820  19.02.18 00:00  A2760101414   72.0   \n",
              "2      HLXU8170197         4868820  19.02.18 00:00  A2760101414   72.0   \n",
              "3      HLXU8170197         4868820  19.02.18 00:00  A2760101414   72.0   \n",
              "4      HLXU8170197         4868820  19.02.18 00:00  A2760101414   72.0   \n",
              "...            ...             ...             ...          ...    ...   \n",
              "14780  TCLU5363603         5287580  26.08.18 00:00  A1662707202   30.0   \n",
              "14781  TCLU5363603         5287580  26.08.18 00:00  A1662707202   30.0   \n",
              "14782  TCLU5363603         5287580  26.08.18 00:00  A1662707202   30.0   \n",
              "14783  TCLU5363603         5287580  26.08.18 00:00  A1662707202   30.0   \n",
              "35304  AMFU8610493         4949799  03.02.19 00:00  A1662708702   72.0   \n",
              "\n",
              "               EventName       EventTime EventMessageTime     EventLocation  \\\n",
              "0           Loading Ship  07.04.18 13:58   08.04.18 03:19   Hafen Rotterdam   \n",
              "1         Departure Ship  07.04.18 19:05   09.04.18 16:29   Hafen Rotterdam   \n",
              "2         Unloading Ship  21.04.18 06:19   21.04.18 11:59  Hafen Charleston   \n",
              "3        Departure Truck  21.04.18 11:42   21.04.18 13:29  Hafen Charleston   \n",
              "4          Arrival Truck  08.05.18 18:12   23.05.18 22:04  Hafen Charleston   \n",
              "...                  ...             ...              ...               ...   \n",
              "14780       Arrival Ship  12.10.18 10:24   12.10.18 13:36  Hafen Charleston   \n",
              "14781     Unloading Ship  12.10.18 13:33   12.10.18 15:37  Hafen Charleston   \n",
              "14782    Departure Truck  12.10.18 15:04   12.10.18 17:01  Hafen Charleston   \n",
              "14783  Registration Yard  23.10.18 17:32   24.10.18 00:32   Werk Tuscaloosa   \n",
              "35304  Registration Yard  05.06.19 05:50              NaN   Werk Tuscaloosa   \n",
              "\n",
              "             VesselName PortofDischarge   time  \n",
              "0           NYK ROMULUS             NaN  125.0  \n",
              "1           NYK ROMULUS             NaN  125.0  \n",
              "2           NYK ROMULUS             NaN  111.0  \n",
              "3           NYK ROMULUS             NaN  111.0  \n",
              "4           NYK ROMULUS             NaN   94.0  \n",
              "...                 ...             ...    ...  \n",
              "14780  YORKTOWN EXPRESS             NaN   16.0  \n",
              "14781  YORKTOWN EXPRESS             NaN   16.0  \n",
              "14782  YORKTOWN EXPRESS             NaN   16.0  \n",
              "14783  YORKTOWN EXPRESS             NaN    5.0  \n",
              "35304     MONACO MAERSK             NaN   30.0  \n",
              "\n",
              "[12008 rows x 12 columns]"
            ],
            "text/html": [
              "\n",
              "  <div id=\"df-bcc74159-d9c8-4754-a81a-5ad6667bd41f\">\n",
              "    <div class=\"colab-df-container\">\n",
              "      <div>\n",
              "<style scoped>\n",
              "    .dataframe tbody tr th:only-of-type {\n",
              "        vertical-align: middle;\n",
              "    }\n",
              "\n",
              "    .dataframe tbody tr th {\n",
              "        vertical-align: top;\n",
              "    }\n",
              "\n",
              "    .dataframe thead th {\n",
              "        text-align: right;\n",
              "    }\n",
              "</style>\n",
              "<table border=\"1\" class=\"dataframe\">\n",
              "  <thead>\n",
              "    <tr style=\"text-align: right;\">\n",
              "      <th></th>\n",
              "      <th>Container</th>\n",
              "      <th>ShipmentNumber</th>\n",
              "      <th>PoCreationDate</th>\n",
              "      <th>Material</th>\n",
              "      <th>Quant</th>\n",
              "      <th>EventName</th>\n",
              "      <th>EventTime</th>\n",
              "      <th>EventMessageTime</th>\n",
              "      <th>EventLocation</th>\n",
              "      <th>VesselName</th>\n",
              "      <th>PortofDischarge</th>\n",
              "      <th>time</th>\n",
              "    </tr>\n",
              "  </thead>\n",
              "  <tbody>\n",
              "    <tr>\n",
              "      <th>0</th>\n",
              "      <td>HLXU8170197</td>\n",
              "      <td>4868820</td>\n",
              "      <td>19.02.18 00:00</td>\n",
              "      <td>A2760101414</td>\n",
              "      <td>72.0</td>\n",
              "      <td>Loading Ship</td>\n",
              "      <td>07.04.18 13:58</td>\n",
              "      <td>08.04.18 03:19</td>\n",
              "      <td>Hafen Rotterdam</td>\n",
              "      <td>NYK ROMULUS</td>\n",
              "      <td>NaN</td>\n",
              "      <td>125.0</td>\n",
              "    </tr>\n",
              "    <tr>\n",
              "      <th>1</th>\n",
              "      <td>HLXU8170197</td>\n",
              "      <td>4868820</td>\n",
              "      <td>19.02.18 00:00</td>\n",
              "      <td>A2760101414</td>\n",
              "      <td>72.0</td>\n",
              "      <td>Departure Ship</td>\n",
              "      <td>07.04.18 19:05</td>\n",
              "      <td>09.04.18 16:29</td>\n",
              "      <td>Hafen Rotterdam</td>\n",
              "      <td>NYK ROMULUS</td>\n",
              "      <td>NaN</td>\n",
              "      <td>125.0</td>\n",
              "    </tr>\n",
              "    <tr>\n",
              "      <th>2</th>\n",
              "      <td>HLXU8170197</td>\n",
              "      <td>4868820</td>\n",
              "      <td>19.02.18 00:00</td>\n",
              "      <td>A2760101414</td>\n",
              "      <td>72.0</td>\n",
              "      <td>Unloading Ship</td>\n",
              "      <td>21.04.18 06:19</td>\n",
              "      <td>21.04.18 11:59</td>\n",
              "      <td>Hafen Charleston</td>\n",
              "      <td>NYK ROMULUS</td>\n",
              "      <td>NaN</td>\n",
              "      <td>111.0</td>\n",
              "    </tr>\n",
              "    <tr>\n",
              "      <th>3</th>\n",
              "      <td>HLXU8170197</td>\n",
              "      <td>4868820</td>\n",
              "      <td>19.02.18 00:00</td>\n",
              "      <td>A2760101414</td>\n",
              "      <td>72.0</td>\n",
              "      <td>Departure Truck</td>\n",
              "      <td>21.04.18 11:42</td>\n",
              "      <td>21.04.18 13:29</td>\n",
              "      <td>Hafen Charleston</td>\n",
              "      <td>NYK ROMULUS</td>\n",
              "      <td>NaN</td>\n",
              "      <td>111.0</td>\n",
              "    </tr>\n",
              "    <tr>\n",
              "      <th>4</th>\n",
              "      <td>HLXU8170197</td>\n",
              "      <td>4868820</td>\n",
              "      <td>19.02.18 00:00</td>\n",
              "      <td>A2760101414</td>\n",
              "      <td>72.0</td>\n",
              "      <td>Arrival Truck</td>\n",
              "      <td>08.05.18 18:12</td>\n",
              "      <td>23.05.18 22:04</td>\n",
              "      <td>Hafen Charleston</td>\n",
              "      <td>NYK ROMULUS</td>\n",
              "      <td>NaN</td>\n",
              "      <td>94.0</td>\n",
              "    </tr>\n",
              "    <tr>\n",
              "      <th>...</th>\n",
              "      <td>...</td>\n",
              "      <td>...</td>\n",
              "      <td>...</td>\n",
              "      <td>...</td>\n",
              "      <td>...</td>\n",
              "      <td>...</td>\n",
              "      <td>...</td>\n",
              "      <td>...</td>\n",
              "      <td>...</td>\n",
              "      <td>...</td>\n",
              "      <td>...</td>\n",
              "      <td>...</td>\n",
              "    </tr>\n",
              "    <tr>\n",
              "      <th>14780</th>\n",
              "      <td>TCLU5363603</td>\n",
              "      <td>5287580</td>\n",
              "      <td>26.08.18 00:00</td>\n",
              "      <td>A1662707202</td>\n",
              "      <td>30.0</td>\n",
              "      <td>Arrival Ship</td>\n",
              "      <td>12.10.18 10:24</td>\n",
              "      <td>12.10.18 13:36</td>\n",
              "      <td>Hafen Charleston</td>\n",
              "      <td>YORKTOWN EXPRESS</td>\n",
              "      <td>NaN</td>\n",
              "      <td>16.0</td>\n",
              "    </tr>\n",
              "    <tr>\n",
              "      <th>14781</th>\n",
              "      <td>TCLU5363603</td>\n",
              "      <td>5287580</td>\n",
              "      <td>26.08.18 00:00</td>\n",
              "      <td>A1662707202</td>\n",
              "      <td>30.0</td>\n",
              "      <td>Unloading Ship</td>\n",
              "      <td>12.10.18 13:33</td>\n",
              "      <td>12.10.18 15:37</td>\n",
              "      <td>Hafen Charleston</td>\n",
              "      <td>YORKTOWN EXPRESS</td>\n",
              "      <td>NaN</td>\n",
              "      <td>16.0</td>\n",
              "    </tr>\n",
              "    <tr>\n",
              "      <th>14782</th>\n",
              "      <td>TCLU5363603</td>\n",
              "      <td>5287580</td>\n",
              "      <td>26.08.18 00:00</td>\n",
              "      <td>A1662707202</td>\n",
              "      <td>30.0</td>\n",
              "      <td>Departure Truck</td>\n",
              "      <td>12.10.18 15:04</td>\n",
              "      <td>12.10.18 17:01</td>\n",
              "      <td>Hafen Charleston</td>\n",
              "      <td>YORKTOWN EXPRESS</td>\n",
              "      <td>NaN</td>\n",
              "      <td>16.0</td>\n",
              "    </tr>\n",
              "    <tr>\n",
              "      <th>14783</th>\n",
              "      <td>TCLU5363603</td>\n",
              "      <td>5287580</td>\n",
              "      <td>26.08.18 00:00</td>\n",
              "      <td>A1662707202</td>\n",
              "      <td>30.0</td>\n",
              "      <td>Registration Yard</td>\n",
              "      <td>23.10.18 17:32</td>\n",
              "      <td>24.10.18 00:32</td>\n",
              "      <td>Werk Tuscaloosa</td>\n",
              "      <td>YORKTOWN EXPRESS</td>\n",
              "      <td>NaN</td>\n",
              "      <td>5.0</td>\n",
              "    </tr>\n",
              "    <tr>\n",
              "      <th>35304</th>\n",
              "      <td>AMFU8610493</td>\n",
              "      <td>4949799</td>\n",
              "      <td>03.02.19 00:00</td>\n",
              "      <td>A1662708702</td>\n",
              "      <td>72.0</td>\n",
              "      <td>Registration Yard</td>\n",
              "      <td>05.06.19 05:50</td>\n",
              "      <td>NaN</td>\n",
              "      <td>Werk Tuscaloosa</td>\n",
              "      <td>MONACO MAERSK</td>\n",
              "      <td>NaN</td>\n",
              "      <td>30.0</td>\n",
              "    </tr>\n",
              "  </tbody>\n",
              "</table>\n",
              "<p>12008 rows × 12 columns</p>\n",
              "</div>\n",
              "      <button class=\"colab-df-convert\" onclick=\"convertToInteractive('df-bcc74159-d9c8-4754-a81a-5ad6667bd41f')\"\n",
              "              title=\"Convert this dataframe to an interactive table.\"\n",
              "              style=\"display:none;\">\n",
              "        \n",
              "  <svg xmlns=\"http://www.w3.org/2000/svg\" height=\"24px\"viewBox=\"0 0 24 24\"\n",
              "       width=\"24px\">\n",
              "    <path d=\"M0 0h24v24H0V0z\" fill=\"none\"/>\n",
              "    <path d=\"M18.56 5.44l.94 2.06.94-2.06 2.06-.94-2.06-.94-.94-2.06-.94 2.06-2.06.94zm-11 1L8.5 8.5l.94-2.06 2.06-.94-2.06-.94L8.5 2.5l-.94 2.06-2.06.94zm10 10l.94 2.06.94-2.06 2.06-.94-2.06-.94-.94-2.06-.94 2.06-2.06.94z\"/><path d=\"M17.41 7.96l-1.37-1.37c-.4-.4-.92-.59-1.43-.59-.52 0-1.04.2-1.43.59L10.3 9.45l-7.72 7.72c-.78.78-.78 2.05 0 2.83L4 21.41c.39.39.9.59 1.41.59.51 0 1.02-.2 1.41-.59l7.78-7.78 2.81-2.81c.8-.78.8-2.07 0-2.86zM5.41 20L4 18.59l7.72-7.72 1.47 1.35L5.41 20z\"/>\n",
              "  </svg>\n",
              "      </button>\n",
              "      \n",
              "  <style>\n",
              "    .colab-df-container {\n",
              "      display:flex;\n",
              "      flex-wrap:wrap;\n",
              "      gap: 12px;\n",
              "    }\n",
              "\n",
              "    .colab-df-convert {\n",
              "      background-color: #E8F0FE;\n",
              "      border: none;\n",
              "      border-radius: 50%;\n",
              "      cursor: pointer;\n",
              "      display: none;\n",
              "      fill: #1967D2;\n",
              "      height: 32px;\n",
              "      padding: 0 0 0 0;\n",
              "      width: 32px;\n",
              "    }\n",
              "\n",
              "    .colab-df-convert:hover {\n",
              "      background-color: #E2EBFA;\n",
              "      box-shadow: 0px 1px 2px rgba(60, 64, 67, 0.3), 0px 1px 3px 1px rgba(60, 64, 67, 0.15);\n",
              "      fill: #174EA6;\n",
              "    }\n",
              "\n",
              "    [theme=dark] .colab-df-convert {\n",
              "      background-color: #3B4455;\n",
              "      fill: #D2E3FC;\n",
              "    }\n",
              "\n",
              "    [theme=dark] .colab-df-convert:hover {\n",
              "      background-color: #434B5C;\n",
              "      box-shadow: 0px 1px 3px 1px rgba(0, 0, 0, 0.15);\n",
              "      filter: drop-shadow(0px 1px 2px rgba(0, 0, 0, 0.3));\n",
              "      fill: #FFFFFF;\n",
              "    }\n",
              "  </style>\n",
              "\n",
              "      <script>\n",
              "        const buttonEl =\n",
              "          document.querySelector('#df-bcc74159-d9c8-4754-a81a-5ad6667bd41f button.colab-df-convert');\n",
              "        buttonEl.style.display =\n",
              "          google.colab.kernel.accessAllowed ? 'block' : 'none';\n",
              "\n",
              "        async function convertToInteractive(key) {\n",
              "          const element = document.querySelector('#df-bcc74159-d9c8-4754-a81a-5ad6667bd41f');\n",
              "          const dataTable =\n",
              "            await google.colab.kernel.invokeFunction('convertToInteractive',\n",
              "                                                     [key], {});\n",
              "          if (!dataTable) return;\n",
              "\n",
              "          const docLinkHtml = 'Like what you see? Visit the ' +\n",
              "            '<a target=\"_blank\" href=https://colab.research.google.com/notebooks/data_table.ipynb>data table notebook</a>'\n",
              "            + ' to learn more about interactive tables.';\n",
              "          element.innerHTML = '';\n",
              "          dataTable['output_type'] = 'display_data';\n",
              "          await google.colab.output.renderOutput(dataTable, element);\n",
              "          const docLink = document.createElement('div');\n",
              "          docLink.innerHTML = docLinkHtml;\n",
              "          element.appendChild(docLink);\n",
              "        }\n",
              "      </script>\n",
              "    </div>\n",
              "  </div>\n",
              "  "
            ]
          },
          "metadata": {},
          "execution_count": 20
        }
      ]
    },
    {
      "cell_type": "markdown",
      "source": [
        "Assumption: When only one of [Charleston, Savannah and (Altamira or Aguascalientes)] is mentioned per shipment, \n",
        "then replace NaN PortofDischarge with the respective port"
      ],
      "metadata": {
        "id": "gwiCysD1XAQD"
      }
    },
    {
      "cell_type": "code",
      "source": [
        "shipments_numbers = track_data[track_data['PortofDischarge'].isna()]['ShipmentNumber']\n",
        "shipment_port_replace={}\n",
        "for shipment_number in shipments_numbers:\n",
        "  shipment = get_single_shipment(shipment_number)\n",
        "  locs = list(shipment['EventLocation'])\n",
        "  locs = list(set(locs))\n",
        "  if ('Hafen Charleston' in locs) ^ ('Bahnterminal Savannah' in locs) ^ ('Hafen Altamira' in locs):\n",
        "    port = 'Hafen Charleston' if 'Hafen Charleston' in locs else 'Bahnterminal Savannah' if 'Bahnterminal Savannah' in locs else 'Hafen Altamira'\n",
        "    shipment_port_replace[shipment_number] = port"
      ],
      "metadata": {
        "id": "ulePcuRru159"
      },
      "execution_count": 21,
      "outputs": []
    },
    {
      "cell_type": "code",
      "source": [
        "for shipment_number in shipment_port_replace.keys():\n",
        "  track_data.loc[track_data['ShipmentNumber'] == shipment_number, 'EventLocation'] = shipment_port_replace[shipment_number]"
      ],
      "metadata": {
        "id": "NuACRT5106SA"
      },
      "execution_count": 22,
      "outputs": []
    },
    {
      "cell_type": "markdown",
      "source": [
        "Drop remaining rows with NaN PortofDischarge"
      ],
      "metadata": {
        "id": "tZohffDxXRCV"
      }
    },
    {
      "cell_type": "code",
      "source": [
        "track_data.drop(track_data.loc[track_data['PortofDischarge'].isna()].index, inplace=True)"
      ],
      "metadata": {
        "id": "4O_Twzh-1hCa"
      },
      "execution_count": 23,
      "outputs": []
    },
    {
      "cell_type": "markdown",
      "source": [
        "**Time2Arrival**"
      ],
      "metadata": {
        "id": "aWJl3yUXX9c7"
      }
    },
    {
      "cell_type": "code",
      "source": [
        "track_data[track_data['time'].isna()]"
      ],
      "metadata": {
        "id": "qcHQ_Dz-7hNm",
        "outputId": "e74a84bd-a757-4ddb-a24a-ec610fdab377",
        "colab": {
          "base_uri": "https://localhost:8080/",
          "height": 424
        }
      },
      "execution_count": 24,
      "outputs": [
        {
          "output_type": "execute_result",
          "data": {
            "text/plain": [
              "         Container  ShipmentNumber  PoCreationDate     Material  Quant  \\\n",
              "20990  HLXU8527941         5415097  06.11.18 00:00  A1662707202  114.0   \n",
              "20991  HLXU8527941         5415097  20.11.18 00:00  A1662707202  114.0   \n",
              "20992  HLXU8527941         5415097  06.11.18 00:00  A1662707202  114.0   \n",
              "20993  HLXU8527941         5415097  20.11.18 00:00  A1662707202  114.0   \n",
              "20994  HLXU8527941         5415097  06.11.18 00:00  A1662707202  114.0   \n",
              "...            ...             ...             ...          ...    ...   \n",
              "35299  BMOU4035985         5721724  28.03.19 00:00  A6540107406   18.0   \n",
              "35300  BMOU4035985         5721724  28.03.19 00:00  A6540107406   18.0   \n",
              "35301  BMOU4035985         5721724  28.03.19 00:00  A6540107406   18.0   \n",
              "35302  BMOU4035985         5721724  28.03.19 00:00  A6540107406   18.0   \n",
              "35303  BMOU4035985         5721724  28.03.19 00:00  A6540107406   18.0   \n",
              "\n",
              "                EventName       EventTime EventMessageTime      EventLocation  \\\n",
              "20990       Arrival Truck  25.11.18 10:03   25.11.18 21:00  Hafen Bremerhaven   \n",
              "20991       Arrival Truck  25.11.18 10:03   25.11.18 21:00  Hafen Bremerhaven   \n",
              "20992        Loading Ship  11.12.18 02:42   11.12.18 07:00  Hafen Bremerhaven   \n",
              "20993        Loading Ship  11.12.18 02:42   11.12.18 07:00  Hafen Bremerhaven   \n",
              "20994      Departure Ship  11.12.18 21:48   11.12.18 23:59  Hafen Bremerhaven   \n",
              "...                   ...             ...              ...                ...   \n",
              "35299        Arrival Ship  19.05.19 04:24   21.05.19 12:57   Hafen Charleston   \n",
              "35300      Unloading Ship  19.05.19 14:40   21.05.19 12:58   Hafen Charleston   \n",
              "35301     Departure Truck  20.05.19 12:57   21.05.19 13:02   Hafen Charleston   \n",
              "35302   Registration Yard  23.05.19 05:10   23.05.19 12:10    Werk Tuscaloosa   \n",
              "35303  Goods Receipt Dock  24.05.19 11:34   24.05.19 18:34    Werk Tuscaloosa   \n",
              "\n",
              "               VesselName   PortofDischarge  time  \n",
              "20990     SHANGHAI TRADER  Hafen Charleston   NaN  \n",
              "20991     SHANGHAI TRADER  Hafen Charleston   NaN  \n",
              "20992     SHANGHAI TRADER  Hafen Charleston   NaN  \n",
              "20993     SHANGHAI TRADER  Hafen Charleston   NaN  \n",
              "20994     SHANGHAI TRADER  Hafen Charleston   NaN  \n",
              "...                   ...               ...   ...  \n",
              "35299  CHARLESTON EXPRESS  Hafen Charleston   NaN  \n",
              "35300  CHARLESTON EXPRESS  Hafen Charleston   NaN  \n",
              "35301  CHARLESTON EXPRESS  Hafen Charleston   NaN  \n",
              "35302  CHARLESTON EXPRESS  Hafen Charleston   NaN  \n",
              "35303  CHARLESTON EXPRESS  Hafen Charleston   NaN  \n",
              "\n",
              "[14314 rows x 12 columns]"
            ],
            "text/html": [
              "\n",
              "  <div id=\"df-05a254e7-aa99-4fee-addc-fc6ead382869\">\n",
              "    <div class=\"colab-df-container\">\n",
              "      <div>\n",
              "<style scoped>\n",
              "    .dataframe tbody tr th:only-of-type {\n",
              "        vertical-align: middle;\n",
              "    }\n",
              "\n",
              "    .dataframe tbody tr th {\n",
              "        vertical-align: top;\n",
              "    }\n",
              "\n",
              "    .dataframe thead th {\n",
              "        text-align: right;\n",
              "    }\n",
              "</style>\n",
              "<table border=\"1\" class=\"dataframe\">\n",
              "  <thead>\n",
              "    <tr style=\"text-align: right;\">\n",
              "      <th></th>\n",
              "      <th>Container</th>\n",
              "      <th>ShipmentNumber</th>\n",
              "      <th>PoCreationDate</th>\n",
              "      <th>Material</th>\n",
              "      <th>Quant</th>\n",
              "      <th>EventName</th>\n",
              "      <th>EventTime</th>\n",
              "      <th>EventMessageTime</th>\n",
              "      <th>EventLocation</th>\n",
              "      <th>VesselName</th>\n",
              "      <th>PortofDischarge</th>\n",
              "      <th>time</th>\n",
              "    </tr>\n",
              "  </thead>\n",
              "  <tbody>\n",
              "    <tr>\n",
              "      <th>20990</th>\n",
              "      <td>HLXU8527941</td>\n",
              "      <td>5415097</td>\n",
              "      <td>06.11.18 00:00</td>\n",
              "      <td>A1662707202</td>\n",
              "      <td>114.0</td>\n",
              "      <td>Arrival Truck</td>\n",
              "      <td>25.11.18 10:03</td>\n",
              "      <td>25.11.18 21:00</td>\n",
              "      <td>Hafen Bremerhaven</td>\n",
              "      <td>SHANGHAI TRADER</td>\n",
              "      <td>Hafen Charleston</td>\n",
              "      <td>NaN</td>\n",
              "    </tr>\n",
              "    <tr>\n",
              "      <th>20991</th>\n",
              "      <td>HLXU8527941</td>\n",
              "      <td>5415097</td>\n",
              "      <td>20.11.18 00:00</td>\n",
              "      <td>A1662707202</td>\n",
              "      <td>114.0</td>\n",
              "      <td>Arrival Truck</td>\n",
              "      <td>25.11.18 10:03</td>\n",
              "      <td>25.11.18 21:00</td>\n",
              "      <td>Hafen Bremerhaven</td>\n",
              "      <td>SHANGHAI TRADER</td>\n",
              "      <td>Hafen Charleston</td>\n",
              "      <td>NaN</td>\n",
              "    </tr>\n",
              "    <tr>\n",
              "      <th>20992</th>\n",
              "      <td>HLXU8527941</td>\n",
              "      <td>5415097</td>\n",
              "      <td>06.11.18 00:00</td>\n",
              "      <td>A1662707202</td>\n",
              "      <td>114.0</td>\n",
              "      <td>Loading Ship</td>\n",
              "      <td>11.12.18 02:42</td>\n",
              "      <td>11.12.18 07:00</td>\n",
              "      <td>Hafen Bremerhaven</td>\n",
              "      <td>SHANGHAI TRADER</td>\n",
              "      <td>Hafen Charleston</td>\n",
              "      <td>NaN</td>\n",
              "    </tr>\n",
              "    <tr>\n",
              "      <th>20993</th>\n",
              "      <td>HLXU8527941</td>\n",
              "      <td>5415097</td>\n",
              "      <td>20.11.18 00:00</td>\n",
              "      <td>A1662707202</td>\n",
              "      <td>114.0</td>\n",
              "      <td>Loading Ship</td>\n",
              "      <td>11.12.18 02:42</td>\n",
              "      <td>11.12.18 07:00</td>\n",
              "      <td>Hafen Bremerhaven</td>\n",
              "      <td>SHANGHAI TRADER</td>\n",
              "      <td>Hafen Charleston</td>\n",
              "      <td>NaN</td>\n",
              "    </tr>\n",
              "    <tr>\n",
              "      <th>20994</th>\n",
              "      <td>HLXU8527941</td>\n",
              "      <td>5415097</td>\n",
              "      <td>06.11.18 00:00</td>\n",
              "      <td>A1662707202</td>\n",
              "      <td>114.0</td>\n",
              "      <td>Departure Ship</td>\n",
              "      <td>11.12.18 21:48</td>\n",
              "      <td>11.12.18 23:59</td>\n",
              "      <td>Hafen Bremerhaven</td>\n",
              "      <td>SHANGHAI TRADER</td>\n",
              "      <td>Hafen Charleston</td>\n",
              "      <td>NaN</td>\n",
              "    </tr>\n",
              "    <tr>\n",
              "      <th>...</th>\n",
              "      <td>...</td>\n",
              "      <td>...</td>\n",
              "      <td>...</td>\n",
              "      <td>...</td>\n",
              "      <td>...</td>\n",
              "      <td>...</td>\n",
              "      <td>...</td>\n",
              "      <td>...</td>\n",
              "      <td>...</td>\n",
              "      <td>...</td>\n",
              "      <td>...</td>\n",
              "      <td>...</td>\n",
              "    </tr>\n",
              "    <tr>\n",
              "      <th>35299</th>\n",
              "      <td>BMOU4035985</td>\n",
              "      <td>5721724</td>\n",
              "      <td>28.03.19 00:00</td>\n",
              "      <td>A6540107406</td>\n",
              "      <td>18.0</td>\n",
              "      <td>Arrival Ship</td>\n",
              "      <td>19.05.19 04:24</td>\n",
              "      <td>21.05.19 12:57</td>\n",
              "      <td>Hafen Charleston</td>\n",
              "      <td>CHARLESTON EXPRESS</td>\n",
              "      <td>Hafen Charleston</td>\n",
              "      <td>NaN</td>\n",
              "    </tr>\n",
              "    <tr>\n",
              "      <th>35300</th>\n",
              "      <td>BMOU4035985</td>\n",
              "      <td>5721724</td>\n",
              "      <td>28.03.19 00:00</td>\n",
              "      <td>A6540107406</td>\n",
              "      <td>18.0</td>\n",
              "      <td>Unloading Ship</td>\n",
              "      <td>19.05.19 14:40</td>\n",
              "      <td>21.05.19 12:58</td>\n",
              "      <td>Hafen Charleston</td>\n",
              "      <td>CHARLESTON EXPRESS</td>\n",
              "      <td>Hafen Charleston</td>\n",
              "      <td>NaN</td>\n",
              "    </tr>\n",
              "    <tr>\n",
              "      <th>35301</th>\n",
              "      <td>BMOU4035985</td>\n",
              "      <td>5721724</td>\n",
              "      <td>28.03.19 00:00</td>\n",
              "      <td>A6540107406</td>\n",
              "      <td>18.0</td>\n",
              "      <td>Departure Truck</td>\n",
              "      <td>20.05.19 12:57</td>\n",
              "      <td>21.05.19 13:02</td>\n",
              "      <td>Hafen Charleston</td>\n",
              "      <td>CHARLESTON EXPRESS</td>\n",
              "      <td>Hafen Charleston</td>\n",
              "      <td>NaN</td>\n",
              "    </tr>\n",
              "    <tr>\n",
              "      <th>35302</th>\n",
              "      <td>BMOU4035985</td>\n",
              "      <td>5721724</td>\n",
              "      <td>28.03.19 00:00</td>\n",
              "      <td>A6540107406</td>\n",
              "      <td>18.0</td>\n",
              "      <td>Registration Yard</td>\n",
              "      <td>23.05.19 05:10</td>\n",
              "      <td>23.05.19 12:10</td>\n",
              "      <td>Werk Tuscaloosa</td>\n",
              "      <td>CHARLESTON EXPRESS</td>\n",
              "      <td>Hafen Charleston</td>\n",
              "      <td>NaN</td>\n",
              "    </tr>\n",
              "    <tr>\n",
              "      <th>35303</th>\n",
              "      <td>BMOU4035985</td>\n",
              "      <td>5721724</td>\n",
              "      <td>28.03.19 00:00</td>\n",
              "      <td>A6540107406</td>\n",
              "      <td>18.0</td>\n",
              "      <td>Goods Receipt Dock</td>\n",
              "      <td>24.05.19 11:34</td>\n",
              "      <td>24.05.19 18:34</td>\n",
              "      <td>Werk Tuscaloosa</td>\n",
              "      <td>CHARLESTON EXPRESS</td>\n",
              "      <td>Hafen Charleston</td>\n",
              "      <td>NaN</td>\n",
              "    </tr>\n",
              "  </tbody>\n",
              "</table>\n",
              "<p>14314 rows × 12 columns</p>\n",
              "</div>\n",
              "      <button class=\"colab-df-convert\" onclick=\"convertToInteractive('df-05a254e7-aa99-4fee-addc-fc6ead382869')\"\n",
              "              title=\"Convert this dataframe to an interactive table.\"\n",
              "              style=\"display:none;\">\n",
              "        \n",
              "  <svg xmlns=\"http://www.w3.org/2000/svg\" height=\"24px\"viewBox=\"0 0 24 24\"\n",
              "       width=\"24px\">\n",
              "    <path d=\"M0 0h24v24H0V0z\" fill=\"none\"/>\n",
              "    <path d=\"M18.56 5.44l.94 2.06.94-2.06 2.06-.94-2.06-.94-.94-2.06-.94 2.06-2.06.94zm-11 1L8.5 8.5l.94-2.06 2.06-.94-2.06-.94L8.5 2.5l-.94 2.06-2.06.94zm10 10l.94 2.06.94-2.06 2.06-.94-2.06-.94-.94-2.06-.94 2.06-2.06.94z\"/><path d=\"M17.41 7.96l-1.37-1.37c-.4-.4-.92-.59-1.43-.59-.52 0-1.04.2-1.43.59L10.3 9.45l-7.72 7.72c-.78.78-.78 2.05 0 2.83L4 21.41c.39.39.9.59 1.41.59.51 0 1.02-.2 1.41-.59l7.78-7.78 2.81-2.81c.8-.78.8-2.07 0-2.86zM5.41 20L4 18.59l7.72-7.72 1.47 1.35L5.41 20z\"/>\n",
              "  </svg>\n",
              "      </button>\n",
              "      \n",
              "  <style>\n",
              "    .colab-df-container {\n",
              "      display:flex;\n",
              "      flex-wrap:wrap;\n",
              "      gap: 12px;\n",
              "    }\n",
              "\n",
              "    .colab-df-convert {\n",
              "      background-color: #E8F0FE;\n",
              "      border: none;\n",
              "      border-radius: 50%;\n",
              "      cursor: pointer;\n",
              "      display: none;\n",
              "      fill: #1967D2;\n",
              "      height: 32px;\n",
              "      padding: 0 0 0 0;\n",
              "      width: 32px;\n",
              "    }\n",
              "\n",
              "    .colab-df-convert:hover {\n",
              "      background-color: #E2EBFA;\n",
              "      box-shadow: 0px 1px 2px rgba(60, 64, 67, 0.3), 0px 1px 3px 1px rgba(60, 64, 67, 0.15);\n",
              "      fill: #174EA6;\n",
              "    }\n",
              "\n",
              "    [theme=dark] .colab-df-convert {\n",
              "      background-color: #3B4455;\n",
              "      fill: #D2E3FC;\n",
              "    }\n",
              "\n",
              "    [theme=dark] .colab-df-convert:hover {\n",
              "      background-color: #434B5C;\n",
              "      box-shadow: 0px 1px 3px 1px rgba(0, 0, 0, 0.15);\n",
              "      filter: drop-shadow(0px 1px 2px rgba(0, 0, 0, 0.3));\n",
              "      fill: #FFFFFF;\n",
              "    }\n",
              "  </style>\n",
              "\n",
              "      <script>\n",
              "        const buttonEl =\n",
              "          document.querySelector('#df-05a254e7-aa99-4fee-addc-fc6ead382869 button.colab-df-convert');\n",
              "        buttonEl.style.display =\n",
              "          google.colab.kernel.accessAllowed ? 'block' : 'none';\n",
              "\n",
              "        async function convertToInteractive(key) {\n",
              "          const element = document.querySelector('#df-05a254e7-aa99-4fee-addc-fc6ead382869');\n",
              "          const dataTable =\n",
              "            await google.colab.kernel.invokeFunction('convertToInteractive',\n",
              "                                                     [key], {});\n",
              "          if (!dataTable) return;\n",
              "\n",
              "          const docLinkHtml = 'Like what you see? Visit the ' +\n",
              "            '<a target=\"_blank\" href=https://colab.research.google.com/notebooks/data_table.ipynb>data table notebook</a>'\n",
              "            + ' to learn more about interactive tables.';\n",
              "          element.innerHTML = '';\n",
              "          dataTable['output_type'] = 'display_data';\n",
              "          await google.colab.output.renderOutput(dataTable, element);\n",
              "          const docLink = document.createElement('div');\n",
              "          docLink.innerHTML = docLinkHtml;\n",
              "          element.appendChild(docLink);\n",
              "        }\n",
              "      </script>\n",
              "    </div>\n",
              "  </div>\n",
              "  "
            ]
          },
          "metadata": {},
          "execution_count": 24
        }
      ]
    },
    {
      "cell_type": "markdown",
      "source": [
        "**Drop all NaN values in Time2Arrival**"
      ],
      "metadata": {
        "id": "-3U3h87sYF_L"
      }
    },
    {
      "cell_type": "code",
      "source": [
        "track_data.drop(track_data.loc[track_data['time'].isna()].index, inplace=True)"
      ],
      "metadata": {
        "id": "fOMaZd909Rhi"
      },
      "execution_count": 25,
      "outputs": []
    },
    {
      "cell_type": "markdown",
      "source": [
        "# 1.2 A little bit more exploration: Check min and max of individual features"
      ],
      "metadata": {
        "id": "PwuovJTdXc1k"
      }
    },
    {
      "cell_type": "code",
      "source": [
        "first_EventTime = sort_by_date(track_data,'EventTime').iloc[0]['EventTime']\n",
        "last_EventTime = sort_by_date(track_data,'EventTime').iloc[-1]['EventTime']\n",
        "print(\"first_EventTime \", first_EventTime)\n",
        "print(\"last_EventTime \", last_EventTime)\n",
        "\n",
        "first_EventMessageTime = sort_by_date(track_data,'EventMessageTime').iloc[0]['EventMessageTime']\n",
        "last_EventMessageTime = sort_by_date(track_data,'EventMessageTime').iloc[-1]['EventMessageTime']\n",
        "print(\"first_event_date \", first_EventMessageTime)\n",
        "print(\"last_event_date \", last_EventMessageTime)\n",
        "\n",
        "first_PoCreationDate = sort_by_date(track_data,'PoCreationDate').iloc[0]['PoCreationDate']\n",
        "last_PoCreationDate = sort_by_date(track_data,'PoCreationDate').iloc[-1]['PoCreationDate']\n",
        "print(\"first_PoCreationDate \", first_PoCreationDate)\n",
        "print(\"last_PoCreationDate \", last_PoCreationDate)\n",
        "\n",
        "first_ShipmentNumber = track_data.sort_values(by=['ShipmentNumber']).iloc[0]['ShipmentNumber']\n",
        "last_ShipmentNumber = track_data.sort_values(by=['ShipmentNumber']).iloc[-1]['ShipmentNumber']\n",
        "print(\"first_ShipmentNumber \", first_ShipmentNumber)\n",
        "print(\"last_ShipmentNumber \", last_ShipmentNumber)\n",
        "\n",
        "first_ContainerNumber = track_data.sort_values(by=['Container']).iloc[0]['Container']\n",
        "last_ContainerNumber = track_data.sort_values(by=['Container']).iloc[-1]['Container']\n",
        "print(\"first_ContainerNumber \", first_ContainerNumber)\n",
        "print(\"last_ContainerNumber \", last_ContainerNumber)\n",
        "\n",
        "shipment_numbers = list(track_data[\"ShipmentNumber\"].unique())\n",
        "for shipment_number in shipment_numbers:\n",
        "  shipment = get_single_shipment(shipment_number)\n",
        "  if len(shipment['Container'].unique()) != 1:\n",
        "    print(shipment)\n",
        "    break\n"
      ],
      "metadata": {
        "colab": {
          "base_uri": "https://localhost:8080/"
        },
        "id": "mSmd6lkBYRAT",
        "outputId": "af93d203-fe6c-4ac0-97b3-76e632abdcaa"
      },
      "execution_count": 26,
      "outputs": [
        {
          "output_type": "stream",
          "name": "stdout",
          "text": [
            "first_EventTime  02.05.18 20:13\n",
            "last_EventTime  15.05.19 05:33\n",
            "first_event_date  03.05.18 04:39\n",
            "last_event_date  15.05.19 12:33\n",
            "first_PoCreationDate  04.04.18 00:00\n",
            "last_PoCreationDate  13.11.18 00:00\n",
            "first_ShipmentNumber  4931876\n",
            "last_ShipmentNumber  5414711\n",
            "first_ContainerNumber  AMFU8735295\n",
            "last_ContainerNumber  XINU8063032\n"
          ]
        }
      ]
    },
    {
      "cell_type": "code",
      "source": [
        "track_data"
      ],
      "metadata": {
        "id": "ArgppvjI9U-6",
        "outputId": "79a3c2b3-3f90-4e9c-8d7b-778846c2d0bf",
        "colab": {
          "base_uri": "https://localhost:8080/",
          "height": 424
        }
      },
      "execution_count": 27,
      "outputs": [
        {
          "output_type": "execute_result",
          "data": {
            "text/plain": [
              "         Container  ShipmentNumber  PoCreationDate     Material  Quant  \\\n",
              "2071   UACU5548566         4931876  04.04.18 00:00  A2760101614    9.0   \n",
              "2072   UACU5548566         4931876  04.04.18 00:00  A2760101614    9.0   \n",
              "2073   UACU5548566         4931876  04.04.18 00:00  A2760101614    9.0   \n",
              "2074   UACU5548566         4931876  04.04.18 00:00  A2760101614    9.0   \n",
              "2075   UACU5548566         4931876  04.04.18 00:00  A2760101614    9.0   \n",
              "...            ...             ...             ...          ...    ...   \n",
              "20984  HLXU6423510         5414711  07.11.18 00:00  A1662708702   12.0   \n",
              "20985  HLXU6423510         5414711  07.11.18 00:00  A1662708702   12.0   \n",
              "20986  HLXU6423510         5414711  07.11.18 00:00  A1662708702   12.0   \n",
              "20987  HLXU6423510         5414711  07.11.18 00:00  A1662708702   12.0   \n",
              "20988  HLXU6423510         5414711  07.11.18 00:00  A1662708702   12.0   \n",
              "\n",
              "               EventName       EventTime EventMessageTime      EventLocation  \\\n",
              "2071       Arrival Truck  02.05.18 20:13   03.05.18 04:39  Hafen Bremerhaven   \n",
              "2072        Loading Ship  05.05.18 01:30   05.05.18 06:34  Hafen Bremerhaven   \n",
              "2073      Departure Ship  05.05.18 10:18   05.05.18 15:10  Hafen Bremerhaven   \n",
              "2074      Unloading Ship  16.05.18 19:43   16.05.18 22:25   Hafen Charleston   \n",
              "2075     Departure Truck  23.05.18 16:19   23.05.18 20:27   Hafen Charleston   \n",
              "...                  ...             ...              ...                ...   \n",
              "20984       Arrival Ship  27.12.18 00:00   27.12.18 02:40   Hafen Charleston   \n",
              "20985     New Scheduling  27.12.18 00:00   24.12.18 19:03   Hafen Charleston   \n",
              "20986     Unloading Ship  27.12.18 02:24   27.12.18 09:08   Hafen Charleston   \n",
              "20987    Departure Truck  27.12.18 14:14   27.12.18 16:05   Hafen Charleston   \n",
              "20988  Registration Yard  23.01.19 09:10   23.01.19 16:10    Werk Tuscaloosa   \n",
              "\n",
              "            VesselName   PortofDischarge   time  \n",
              "2071    EASLINE DALIAN  Hafen Charleston  249.0  \n",
              "2072    EASLINE DALIAN  Hafen Charleston  247.0  \n",
              "2073    EASLINE DALIAN  Hafen Charleston  246.0  \n",
              "2074    EASLINE DALIAN  Hafen Charleston  235.0  \n",
              "2075    EASLINE DALIAN  Hafen Charleston  228.0  \n",
              "...                ...               ...    ...  \n",
              "20984  SHANGHAI TRADER  Hafen Charleston   32.0  \n",
              "20985  SHANGHAI TRADER  Hafen Charleston   32.0  \n",
              "20986  SHANGHAI TRADER  Hafen Charleston   32.0  \n",
              "20987  SHANGHAI TRADER  Hafen Charleston   31.0  \n",
              "20988  SHANGHAI TRADER  Hafen Charleston    5.0  \n",
              "\n",
              "[5859 rows x 12 columns]"
            ],
            "text/html": [
              "\n",
              "  <div id=\"df-563ea749-ee35-4023-870c-2e6a8758f8e1\">\n",
              "    <div class=\"colab-df-container\">\n",
              "      <div>\n",
              "<style scoped>\n",
              "    .dataframe tbody tr th:only-of-type {\n",
              "        vertical-align: middle;\n",
              "    }\n",
              "\n",
              "    .dataframe tbody tr th {\n",
              "        vertical-align: top;\n",
              "    }\n",
              "\n",
              "    .dataframe thead th {\n",
              "        text-align: right;\n",
              "    }\n",
              "</style>\n",
              "<table border=\"1\" class=\"dataframe\">\n",
              "  <thead>\n",
              "    <tr style=\"text-align: right;\">\n",
              "      <th></th>\n",
              "      <th>Container</th>\n",
              "      <th>ShipmentNumber</th>\n",
              "      <th>PoCreationDate</th>\n",
              "      <th>Material</th>\n",
              "      <th>Quant</th>\n",
              "      <th>EventName</th>\n",
              "      <th>EventTime</th>\n",
              "      <th>EventMessageTime</th>\n",
              "      <th>EventLocation</th>\n",
              "      <th>VesselName</th>\n",
              "      <th>PortofDischarge</th>\n",
              "      <th>time</th>\n",
              "    </tr>\n",
              "  </thead>\n",
              "  <tbody>\n",
              "    <tr>\n",
              "      <th>2071</th>\n",
              "      <td>UACU5548566</td>\n",
              "      <td>4931876</td>\n",
              "      <td>04.04.18 00:00</td>\n",
              "      <td>A2760101614</td>\n",
              "      <td>9.0</td>\n",
              "      <td>Arrival Truck</td>\n",
              "      <td>02.05.18 20:13</td>\n",
              "      <td>03.05.18 04:39</td>\n",
              "      <td>Hafen Bremerhaven</td>\n",
              "      <td>EASLINE DALIAN</td>\n",
              "      <td>Hafen Charleston</td>\n",
              "      <td>249.0</td>\n",
              "    </tr>\n",
              "    <tr>\n",
              "      <th>2072</th>\n",
              "      <td>UACU5548566</td>\n",
              "      <td>4931876</td>\n",
              "      <td>04.04.18 00:00</td>\n",
              "      <td>A2760101614</td>\n",
              "      <td>9.0</td>\n",
              "      <td>Loading Ship</td>\n",
              "      <td>05.05.18 01:30</td>\n",
              "      <td>05.05.18 06:34</td>\n",
              "      <td>Hafen Bremerhaven</td>\n",
              "      <td>EASLINE DALIAN</td>\n",
              "      <td>Hafen Charleston</td>\n",
              "      <td>247.0</td>\n",
              "    </tr>\n",
              "    <tr>\n",
              "      <th>2073</th>\n",
              "      <td>UACU5548566</td>\n",
              "      <td>4931876</td>\n",
              "      <td>04.04.18 00:00</td>\n",
              "      <td>A2760101614</td>\n",
              "      <td>9.0</td>\n",
              "      <td>Departure Ship</td>\n",
              "      <td>05.05.18 10:18</td>\n",
              "      <td>05.05.18 15:10</td>\n",
              "      <td>Hafen Bremerhaven</td>\n",
              "      <td>EASLINE DALIAN</td>\n",
              "      <td>Hafen Charleston</td>\n",
              "      <td>246.0</td>\n",
              "    </tr>\n",
              "    <tr>\n",
              "      <th>2074</th>\n",
              "      <td>UACU5548566</td>\n",
              "      <td>4931876</td>\n",
              "      <td>04.04.18 00:00</td>\n",
              "      <td>A2760101614</td>\n",
              "      <td>9.0</td>\n",
              "      <td>Unloading Ship</td>\n",
              "      <td>16.05.18 19:43</td>\n",
              "      <td>16.05.18 22:25</td>\n",
              "      <td>Hafen Charleston</td>\n",
              "      <td>EASLINE DALIAN</td>\n",
              "      <td>Hafen Charleston</td>\n",
              "      <td>235.0</td>\n",
              "    </tr>\n",
              "    <tr>\n",
              "      <th>2075</th>\n",
              "      <td>UACU5548566</td>\n",
              "      <td>4931876</td>\n",
              "      <td>04.04.18 00:00</td>\n",
              "      <td>A2760101614</td>\n",
              "      <td>9.0</td>\n",
              "      <td>Departure Truck</td>\n",
              "      <td>23.05.18 16:19</td>\n",
              "      <td>23.05.18 20:27</td>\n",
              "      <td>Hafen Charleston</td>\n",
              "      <td>EASLINE DALIAN</td>\n",
              "      <td>Hafen Charleston</td>\n",
              "      <td>228.0</td>\n",
              "    </tr>\n",
              "    <tr>\n",
              "      <th>...</th>\n",
              "      <td>...</td>\n",
              "      <td>...</td>\n",
              "      <td>...</td>\n",
              "      <td>...</td>\n",
              "      <td>...</td>\n",
              "      <td>...</td>\n",
              "      <td>...</td>\n",
              "      <td>...</td>\n",
              "      <td>...</td>\n",
              "      <td>...</td>\n",
              "      <td>...</td>\n",
              "      <td>...</td>\n",
              "    </tr>\n",
              "    <tr>\n",
              "      <th>20984</th>\n",
              "      <td>HLXU6423510</td>\n",
              "      <td>5414711</td>\n",
              "      <td>07.11.18 00:00</td>\n",
              "      <td>A1662708702</td>\n",
              "      <td>12.0</td>\n",
              "      <td>Arrival Ship</td>\n",
              "      <td>27.12.18 00:00</td>\n",
              "      <td>27.12.18 02:40</td>\n",
              "      <td>Hafen Charleston</td>\n",
              "      <td>SHANGHAI TRADER</td>\n",
              "      <td>Hafen Charleston</td>\n",
              "      <td>32.0</td>\n",
              "    </tr>\n",
              "    <tr>\n",
              "      <th>20985</th>\n",
              "      <td>HLXU6423510</td>\n",
              "      <td>5414711</td>\n",
              "      <td>07.11.18 00:00</td>\n",
              "      <td>A1662708702</td>\n",
              "      <td>12.0</td>\n",
              "      <td>New Scheduling</td>\n",
              "      <td>27.12.18 00:00</td>\n",
              "      <td>24.12.18 19:03</td>\n",
              "      <td>Hafen Charleston</td>\n",
              "      <td>SHANGHAI TRADER</td>\n",
              "      <td>Hafen Charleston</td>\n",
              "      <td>32.0</td>\n",
              "    </tr>\n",
              "    <tr>\n",
              "      <th>20986</th>\n",
              "      <td>HLXU6423510</td>\n",
              "      <td>5414711</td>\n",
              "      <td>07.11.18 00:00</td>\n",
              "      <td>A1662708702</td>\n",
              "      <td>12.0</td>\n",
              "      <td>Unloading Ship</td>\n",
              "      <td>27.12.18 02:24</td>\n",
              "      <td>27.12.18 09:08</td>\n",
              "      <td>Hafen Charleston</td>\n",
              "      <td>SHANGHAI TRADER</td>\n",
              "      <td>Hafen Charleston</td>\n",
              "      <td>32.0</td>\n",
              "    </tr>\n",
              "    <tr>\n",
              "      <th>20987</th>\n",
              "      <td>HLXU6423510</td>\n",
              "      <td>5414711</td>\n",
              "      <td>07.11.18 00:00</td>\n",
              "      <td>A1662708702</td>\n",
              "      <td>12.0</td>\n",
              "      <td>Departure Truck</td>\n",
              "      <td>27.12.18 14:14</td>\n",
              "      <td>27.12.18 16:05</td>\n",
              "      <td>Hafen Charleston</td>\n",
              "      <td>SHANGHAI TRADER</td>\n",
              "      <td>Hafen Charleston</td>\n",
              "      <td>31.0</td>\n",
              "    </tr>\n",
              "    <tr>\n",
              "      <th>20988</th>\n",
              "      <td>HLXU6423510</td>\n",
              "      <td>5414711</td>\n",
              "      <td>07.11.18 00:00</td>\n",
              "      <td>A1662708702</td>\n",
              "      <td>12.0</td>\n",
              "      <td>Registration Yard</td>\n",
              "      <td>23.01.19 09:10</td>\n",
              "      <td>23.01.19 16:10</td>\n",
              "      <td>Werk Tuscaloosa</td>\n",
              "      <td>SHANGHAI TRADER</td>\n",
              "      <td>Hafen Charleston</td>\n",
              "      <td>5.0</td>\n",
              "    </tr>\n",
              "  </tbody>\n",
              "</table>\n",
              "<p>5859 rows × 12 columns</p>\n",
              "</div>\n",
              "      <button class=\"colab-df-convert\" onclick=\"convertToInteractive('df-563ea749-ee35-4023-870c-2e6a8758f8e1')\"\n",
              "              title=\"Convert this dataframe to an interactive table.\"\n",
              "              style=\"display:none;\">\n",
              "        \n",
              "  <svg xmlns=\"http://www.w3.org/2000/svg\" height=\"24px\"viewBox=\"0 0 24 24\"\n",
              "       width=\"24px\">\n",
              "    <path d=\"M0 0h24v24H0V0z\" fill=\"none\"/>\n",
              "    <path d=\"M18.56 5.44l.94 2.06.94-2.06 2.06-.94-2.06-.94-.94-2.06-.94 2.06-2.06.94zm-11 1L8.5 8.5l.94-2.06 2.06-.94-2.06-.94L8.5 2.5l-.94 2.06-2.06.94zm10 10l.94 2.06.94-2.06 2.06-.94-2.06-.94-.94-2.06-.94 2.06-2.06.94z\"/><path d=\"M17.41 7.96l-1.37-1.37c-.4-.4-.92-.59-1.43-.59-.52 0-1.04.2-1.43.59L10.3 9.45l-7.72 7.72c-.78.78-.78 2.05 0 2.83L4 21.41c.39.39.9.59 1.41.59.51 0 1.02-.2 1.41-.59l7.78-7.78 2.81-2.81c.8-.78.8-2.07 0-2.86zM5.41 20L4 18.59l7.72-7.72 1.47 1.35L5.41 20z\"/>\n",
              "  </svg>\n",
              "      </button>\n",
              "      \n",
              "  <style>\n",
              "    .colab-df-container {\n",
              "      display:flex;\n",
              "      flex-wrap:wrap;\n",
              "      gap: 12px;\n",
              "    }\n",
              "\n",
              "    .colab-df-convert {\n",
              "      background-color: #E8F0FE;\n",
              "      border: none;\n",
              "      border-radius: 50%;\n",
              "      cursor: pointer;\n",
              "      display: none;\n",
              "      fill: #1967D2;\n",
              "      height: 32px;\n",
              "      padding: 0 0 0 0;\n",
              "      width: 32px;\n",
              "    }\n",
              "\n",
              "    .colab-df-convert:hover {\n",
              "      background-color: #E2EBFA;\n",
              "      box-shadow: 0px 1px 2px rgba(60, 64, 67, 0.3), 0px 1px 3px 1px rgba(60, 64, 67, 0.15);\n",
              "      fill: #174EA6;\n",
              "    }\n",
              "\n",
              "    [theme=dark] .colab-df-convert {\n",
              "      background-color: #3B4455;\n",
              "      fill: #D2E3FC;\n",
              "    }\n",
              "\n",
              "    [theme=dark] .colab-df-convert:hover {\n",
              "      background-color: #434B5C;\n",
              "      box-shadow: 0px 1px 3px 1px rgba(0, 0, 0, 0.15);\n",
              "      filter: drop-shadow(0px 1px 2px rgba(0, 0, 0, 0.3));\n",
              "      fill: #FFFFFF;\n",
              "    }\n",
              "  </style>\n",
              "\n",
              "      <script>\n",
              "        const buttonEl =\n",
              "          document.querySelector('#df-563ea749-ee35-4023-870c-2e6a8758f8e1 button.colab-df-convert');\n",
              "        buttonEl.style.display =\n",
              "          google.colab.kernel.accessAllowed ? 'block' : 'none';\n",
              "\n",
              "        async function convertToInteractive(key) {\n",
              "          const element = document.querySelector('#df-563ea749-ee35-4023-870c-2e6a8758f8e1');\n",
              "          const dataTable =\n",
              "            await google.colab.kernel.invokeFunction('convertToInteractive',\n",
              "                                                     [key], {});\n",
              "          if (!dataTable) return;\n",
              "\n",
              "          const docLinkHtml = 'Like what you see? Visit the ' +\n",
              "            '<a target=\"_blank\" href=https://colab.research.google.com/notebooks/data_table.ipynb>data table notebook</a>'\n",
              "            + ' to learn more about interactive tables.';\n",
              "          element.innerHTML = '';\n",
              "          dataTable['output_type'] = 'display_data';\n",
              "          await google.colab.output.renderOutput(dataTable, element);\n",
              "          const docLink = document.createElement('div');\n",
              "          docLink.innerHTML = docLinkHtml;\n",
              "          element.appendChild(docLink);\n",
              "        }\n",
              "      </script>\n",
              "    </div>\n",
              "  </div>\n",
              "  "
            ]
          },
          "metadata": {},
          "execution_count": 27
        }
      ]
    },
    {
      "cell_type": "markdown",
      "source": [
        "#2 Prepare Map Visualization Scripts"
      ],
      "metadata": {
        "id": "HWeUGYcGuwi8"
      }
    },
    {
      "cell_type": "code",
      "source": [
        "maps_api_key = \"INSERT_GOOGLE_API_KEY_FOR_MAPS\"\n",
        "gmaps.configure(api_key=maps_api_key)"
      ],
      "metadata": {
        "id": "S27tEF_dux2h"
      },
      "execution_count": 28,
      "outputs": []
    },
    {
      "cell_type": "code",
      "source": [
        "event_locs_and_GPS = [{'id': 'urn:jaif:id:loc:26LNLRTM' ,'name' : 'Hafen Rotterdam', 'location': (51.9496, 4.14526)},\n",
        "                        {'id': 'urn:jaif:id:loc:26LUSCHS', 'name' : 'Hafen Charleston', 'location': (32.76677, -79.89591)},\n",
        "                        {'id': 'urn:jaif:id:loc:26LDESPE', 'name': 'Consolidation Center Speyer', 'location': (49.29613, 8.47613)},\n",
        "                        {'id': 'urn:jaif:id:loc:26LBEANR', 'name': 'Hafen Antwerpen', 'location': (51.24075, 4.40776)},\n",
        "                        {'id': 'urn:jaif:id:loc:26LUSSAV', 'name': 'Bahnterminal Savannah', 'location': (32.08361, -81.14841)},\n",
        "                        {'id': 'urn:jaif:id:loc:25LUN498999044W0138', 'name': 'Werk Tuscaloosa', 'location': (33.18639, -87.26082)},\n",
        "                        {'id': 'urn:jaif:id:loc:26LDEBRV' ,'name' : 'Hafen Bremerhaven', 'location': (53.55948, 8.56244),},\n",
        "                        {'id': 'urn:jaif:id:loc:26LDEHAM' ,'name' : 'Hafen Hamburg', 'location': (53.50709, 9.96792),},\n",
        "                        {'id': 'urn:jaif:id:loc:26LMXATM' ,'name' : 'Hafen Altamira', 'location': (22.48797, -97.8844),},\n",
        "                        {'id': 'urn:jaif:id:loc:26LMXAGU' ,'name' : 'Hafen Aguascalientes', 'location': (21.88525, -102.29156),}]\n",
        "name_to_GPS = {}\n",
        "for location in event_locs_and_GPS:\n",
        "  name_to_GPS[location['name']] = location['location']\n",
        "\n",
        "event_GPS = [location['location'] for location in event_locs_and_GPS]\n",
        "info_box_template = \"\"\"\n",
        "<dl>\n",
        "<dt>Name</dt><dd>{name}</dd>\n",
        "<dt>Id</dt><dd>{id}</dd>\n",
        "</dl>\n",
        "\"\"\"\n",
        "location_info = [info_box_template.format(**location) for location in event_locs_and_GPS]\n",
        "fig = gmaps.figure(center=(39.607331, -43.851283), zoom_level=3.5)\n",
        "\n",
        "europ_locs = ['Hafen Rotterdam', 'Consolidation Center Speyer', 'Hafen Antwerpen' , 'Hafen Bremerhaven', 'Hafen Hamburg']\n",
        "amer_locs = ['Hafen Charleston', 'Bahnterminal Savannah', 'Werk Tuscaloosa',  'Hafen Altamira', 'Hafen Aguascalientes']\n",
        "\n",
        "def draw_route(shipment):\n",
        "  shipment = sort_by_date(shipment,'EventTime')\n",
        "  lines=[]\n",
        "  for j in range(len(shipment)-1):\n",
        "    start_row = shipment.iloc[j]\n",
        "    end_row = shipment.iloc[j+1]\n",
        "    loc_name_start = start_row['EventLocation']\n",
        "    loc_name_end = end_row['EventLocation']\n",
        "    gps_start = name_to_GPS[loc_name_start]\n",
        "    gps_end = name_to_GPS[loc_name_end]\n",
        "    if not ((loc_name_start in amer_locs) and (loc_name_end in europ_locs)):\n",
        "      line =  gmaps.Line(gps_start, gps_end,stroke_weight=3.0,stroke_color='red')\n",
        "      lines.append(line)\n",
        "  return lines\n",
        "\n",
        "marker_layer = gmaps.marker_layer(event_GPS, info_box_content=location_info)\n",
        "fig.add_layer(marker_layer)\n",
        "drawn_line = gmaps.Line(start=(51.9496, 4.14526),end=(32.76677, -79.89591),stroke_weight=3.0)\n",
        "shipment = get_single_shipment(get_random_shipment_number())\n",
        "#shipment = get_single_shipment(5392059)\n",
        "\n",
        "shipment = sort_by_date(shipment,'EventTime')\n",
        "lines = draw_route(shipment)\n",
        "print(shipment.to_string())\n",
        "#print(lines)\n",
        "\n",
        "drawing = gmaps.drawing_layer(features=lines)\n",
        "fig.add_layer(drawing)\n",
        "fig"
      ],
      "metadata": {
        "colab": {
          "base_uri": "https://localhost:8080/",
          "height": 604,
          "referenced_widgets": [
            "f719ca1c3b904ac1b48236ac6a742579",
            "33cbe60eb9fd45689b9204224593dc51",
            "5401bb1df47248cba4902d40b472ec27",
            "d0cfbf0aa1e04b52ab93c3c79b5166cf",
            "b88b9b7e540e43378729136580ebfb5f",
            "6c4d810218624e04b04c1ebc3013254b",
            "8ff16c156d75467c8ab7120df1fd99e6",
            "912d417fb48e4d0bb5b747fd6b822959",
            "4b6f57ba52b84891af093013cf340046",
            "8f100903182e4e4eb1dc57c42bc429ce",
            "46920cec423244ce81fde4c74a9175ae",
            "cc119131b44b4fe8b4ffeb9a7a245493",
            "f1b64418baac48ba8edb01e55e23d95e",
            "4955883b681a4a9da801ce2a723f4893",
            "d5ff56fc2f8d408f9e6a7c0e69128699",
            "5e0500ee597d40a089b389fd0e871373",
            "52c7c2fed2a64c67965974ed00100caa",
            "bf5777230cc247e185f0f32a4aba9eb6",
            "ed3e7308b29746ef8975e822e1a58a42",
            "ef04b061667e4de5a766e32adde3e175",
            "3ce704ee0a1645c3adec6801b8b70d41",
            "7140cec249984c77a712eed8aa47e466",
            "b8653f4dd456487c9454faadce945377",
            "9f18909bf04044eeb5f9fa2057457194",
            "8843c50727ae4aa39c007dfa0dd67800",
            "c26d09e120704e4784f6f02128a888f4",
            "8be7892b510240a29d13e46814ed8f51",
            "5776624cfc20407fb09c68ba5dce2058"
          ]
        },
        "id": "8SXoFyVYwZPb",
        "outputId": "20d50498-4daa-4c4b-e92e-6330fe960596"
      },
      "execution_count": 29,
      "outputs": [
        {
          "output_type": "stream",
          "name": "stdout",
          "text": [
            "         Container  ShipmentNumber  PoCreationDate     Material  Quant          EventName       EventTime EventMessageTime      EventLocation  VesselName   PortofDischarge  time\n",
            "18996  HLXU8337915         5381656  09.10.18 00:00  A2760106714    3.0      Arrival Truck  11.11.18 03:33   11.11.18 13:18  Hafen Bremerhaven  MOL EMPIRE  Hafen Charleston  33.0\n",
            "18997  HLXU8337915         5381656  09.10.18 00:00  A2760106714    3.0       Loading Ship  17.11.18 18:17   18.11.18 11:23  Hafen Bremerhaven  MOL EMPIRE  Hafen Charleston  26.0\n",
            "18998  HLXU8337915         5381656  09.10.18 00:00  A2760106714    3.0     Departure Ship  18.11.18 02:48   18.11.18 07:31  Hafen Bremerhaven  MOL EMPIRE  Hafen Charleston  26.0\n",
            "18999  HLXU8337915         5381656  09.10.18 00:00  A2760106714    3.0       Arrival Ship  30.11.18 16:00   30.11.18 18:41   Hafen Charleston  MOL EMPIRE  Hafen Charleston  13.0\n",
            "19000  HLXU8337915         5381656  09.10.18 00:00  A2760106714    3.0     Unloading Ship  30.11.18 20:53   01.12.18 11:46   Hafen Charleston  MOL EMPIRE  Hafen Charleston  13.0\n",
            "19001  HLXU8337915         5381656  09.10.18 00:00  A2760106714    3.0    Departure Truck  01.12.18 13:13   01.12.18 14:59   Hafen Charleston  MOL EMPIRE  Hafen Charleston  13.0\n",
            "19002  HLXU8337915         5381656  09.10.18 00:00  A2760106714    3.0  Registration Yard  13.12.18 01:38   20.12.18 15:50    Werk Tuscaloosa  MOL EMPIRE  Hafen Charleston   1.0\n"
          ]
        },
        {
          "output_type": "display_data",
          "data": {
            "text/plain": [
              "Figure(layout=FigureLayout(height='420px'))"
            ],
            "application/vnd.jupyter.widget-view+json": {
              "version_major": 2,
              "version_minor": 0,
              "model_id": "f719ca1c3b904ac1b48236ac6a742579"
            }
          },
          "metadata": {
            "application/vnd.jupyter.widget-view+json": {
              "colab": {
                "custom_widget_manager": {
                  "url": "https://ssl.gstatic.com/colaboratory-static/widgets/colab-cdn-widget-manager/d2e234f7cc04bf79/manager.min.js"
                }
              }
            }
          }
        }
      ]
    },
    {
      "cell_type": "code",
      "source": [
        "remaining_shipments = track_data['ShipmentNumber'].unique()"
      ],
      "metadata": {
        "id": "74cTQjijdXBY"
      },
      "execution_count": 30,
      "outputs": []
    },
    {
      "cell_type": "code",
      "source": [
        "len(remaining_shipments)"
      ],
      "metadata": {
        "colab": {
          "base_uri": "https://localhost:8080/"
        },
        "id": "3tR5bsL9dtAK",
        "outputId": "4ed61780-09b1-45cd-8e5f-f0754b5b3fc0"
      },
      "execution_count": 31,
      "outputs": [
        {
          "output_type": "execute_result",
          "data": {
            "text/plain": [
              "410"
            ]
          },
          "metadata": {},
          "execution_count": 31
        }
      ]
    },
    {
      "cell_type": "markdown",
      "source": [
        "#3 Statistics and Predictions"
      ],
      "metadata": {
        "id": "k2ZY14DEZRaq"
      }
    },
    {
      "cell_type": "markdown",
      "source": [
        "#3.1 Prepare Dataset"
      ],
      "metadata": {
        "id": "CPf795X6ZoPb"
      }
    },
    {
      "cell_type": "markdown",
      "source": [
        "Make train-val-test split based on time"
      ],
      "metadata": {
        "id": "S4zcBwe5ZX5a"
      }
    },
    {
      "cell_type": "code",
      "source": [
        "train_shipments = remaining_shipments[0:int(0.6*len(remaining_shipments))]\n",
        "val_shipments = remaining_shipments[int(0.6*len(remaining_shipments)):int(0.8*len(remaining_shipments))]\n",
        "test_shipments = remaining_shipments[int(0.8*len(remaining_shipments)):]"
      ],
      "metadata": {
        "id": "zsETX8RBd2fC"
      },
      "execution_count": 32,
      "outputs": []
    },
    {
      "cell_type": "code",
      "source": [
        "print(len(train_shipments))\n",
        "print(len(val_shipments))\n",
        "print(len(test_shipments))"
      ],
      "metadata": {
        "colab": {
          "base_uri": "https://localhost:8080/"
        },
        "id": "7Yg93mh2eONc",
        "outputId": "e4ea5e54-ad30-4bf7-ae8f-0fbe23ebf5d2"
      },
      "execution_count": 33,
      "outputs": [
        {
          "output_type": "stream",
          "name": "stdout",
          "text": [
            "246\n",
            "82\n",
            "82\n"
          ]
        }
      ]
    },
    {
      "cell_type": "code",
      "source": [
        "track_data_train = track_data[track_data['ShipmentNumber'].isin(train_shipments)]\n",
        "track_data_val = track_data[track_data['ShipmentNumber'].isin(val_shipments)]\n",
        "track_data_test = track_data[track_data['ShipmentNumber'].isin(test_shipments)]"
      ],
      "metadata": {
        "id": "6j47Jj6eeYX0"
      },
      "execution_count": 34,
      "outputs": []
    },
    {
      "cell_type": "code",
      "source": [
        "print(len(track_data_train))\n",
        "print(len(track_data_val))\n",
        "print(len(track_data_test))"
      ],
      "metadata": {
        "colab": {
          "base_uri": "https://localhost:8080/"
        },
        "id": "2HGlhrpSfI37",
        "outputId": "9f53c58b-fe93-4de6-eac1-089ec1b60b04"
      },
      "execution_count": 35,
      "outputs": [
        {
          "output_type": "stream",
          "name": "stdout",
          "text": [
            "3537\n",
            "1146\n",
            "1176\n"
          ]
        }
      ]
    },
    {
      "cell_type": "markdown",
      "source": [
        "#3.2 Univariate Statistics"
      ],
      "metadata": {
        "id": "1HvtaueOc20f"
      }
    },
    {
      "cell_type": "code",
      "source": [
        "mean_schaetzer = track_data_train['time'].mean()\n",
        "median_schaetzer = track_data_train['time'].median()\n",
        "mode_schaetzer = float(track_data_train['time'].mode())\n",
        "track_data_train.hist(column='time', bins=50)\n",
        "\n",
        "print(mean_schaetzer)\n",
        "print(median_schaetzer)\n",
        "print(mode_schaetzer)"
      ],
      "metadata": {
        "id": "z4xpXGd8BRff",
        "outputId": "3520c7e2-981d-4acd-f20b-43ac3834b54b",
        "colab": {
          "base_uri": "https://localhost:8080/",
          "height": 333
        }
      },
      "execution_count": 36,
      "outputs": [
        {
          "output_type": "stream",
          "name": "stdout",
          "text": [
            "33.375459428894544\n",
            "23.0\n",
            "9.0\n"
          ]
        },
        {
          "output_type": "display_data",
          "data": {
            "text/plain": [
              "<Figure size 432x288 with 1 Axes>"
            ],
            "image/png": "[encoded data removed]"
          },
          "metadata": {
            "needs_background": "light"
          }
        }
      ]
    },
    {
      "cell_type": "markdown",
      "source": [
        "Define easy to interpret metrics: \n",
        "\n",
        "*   Percentage of prediction accurate within a week\n",
        "*   Percentage of prediction accurate within a day\n",
        "\n"
      ],
      "metadata": {
        "id": "2Tl6DHPpaEqq"
      }
    },
    {
      "cell_type": "code",
      "source": [
        "print(\"accurate within a week?\")\n",
        "print(\"mean_schaetzer\" , sum((abs(track_data_test['time'] - mean_schaetzer))<=7)/len(track_data_test['time']))\n",
        "print(\"median_schatzer\", sum((abs(track_data_test['time'] - median_schaetzer))<=7)/len(track_data_test['time']))\n",
        "print(\"mode_schaetzer\", sum((abs(track_data_test['time'] - mode_schaetzer))<=7)/len(track_data_test['time']))\n",
        "print( \"accurate within a day?\")\n",
        "print(\"mean_schaetzer\", sum((abs(track_data_test['time'] - mean_schaetzer))<=1)/len(track_data_test['time']))\n",
        "print(\"median_schatzer\", sum((abs(track_data_test['time'] - median_schaetzer))<=1)/len(track_data_test['time']))\n",
        "print(\"mode_schaetzer\", sum((abs(track_data_test['time'] - mode_schaetzer))<=1)/len(track_data_test['time']))\n"
      ],
      "metadata": {
        "id": "gMMTSStAC1rW",
        "outputId": "0086d23c-997f-41e9-a781-9f4a0c750d22",
        "colab": {
          "base_uri": "https://localhost:8080/"
        }
      },
      "execution_count": 37,
      "outputs": [
        {
          "output_type": "stream",
          "name": "stdout",
          "text": [
            "accurate within a week?\n",
            "mean_schaetzer 0.26360544217687076\n",
            "median_schatzer 0.3460884353741497\n",
            "mode_schaetzer 0.20068027210884354\n",
            "accurate within a day?\n",
            "mean_schaetzer 0.027210884353741496\n",
            "median_schatzer 0.1360544217687075\n",
            "mode_schaetzer 0.06972789115646258\n"
          ]
        }
      ]
    },
    {
      "cell_type": "markdown",
      "source": [
        "#3.2 Bivariate"
      ],
      "metadata": {
        "id": "ESc46pb_g8AQ"
      }
    },
    {
      "cell_type": "markdown",
      "source": [
        "Most promising feature: Event Location "
      ],
      "metadata": {
        "id": "yCeWQ1_Iaguw"
      }
    },
    {
      "cell_type": "code",
      "source": [
        "#Based on EventLocation\n",
        "def predict_time_from_loc(location, method):\n",
        "  if method == 'mean':\n",
        "    mean = track_data_train[track_data_train['EventLocation'] == location]['time'].mean()\n",
        "    if mean!=mean:\n",
        "      return track_data_train['time'].mean()\n",
        "    else:\n",
        "      return mean\n",
        "  if method == 'median':\n",
        "    median = track_data_train[track_data_train['EventLocation'] == location]['time'].median()\n",
        "    if median!=median:\n",
        "      return track_data_train['time'].median()\n",
        "    else:\n",
        "      return median \n",
        "  if method == 'mode':\n",
        "    mode = track_data_train[track_data_train['EventLocation'] == location]['time'].mode()\n",
        "    if len(mode)==0:\n",
        "      return float(track_data_train['time'].mode())\n",
        "    try:\n",
        "      return float(track_data_train['time'].mode())\n",
        "    except:\n",
        "      return mode"
      ],
      "metadata": {
        "id": "X2nBZAAKhPGf"
      },
      "execution_count": 38,
      "outputs": []
    },
    {
      "cell_type": "code",
      "source": [
        "prediction_dict_mean = {}\n",
        "prediction_dict_median = {}\n",
        "prediction_dict_mode = {}\n",
        "for location in list(name_to_GPS.keys()):\n",
        "  prediction_dict_mean[location] = predict_time_from_loc(location,'mean')\n",
        "  prediction_dict_median[location] = predict_time_from_loc(location,'median')\n",
        "  prediction_dict_mode[location] = predict_time_from_loc(location,'mode')"
      ],
      "metadata": {
        "id": "1mmp4B7djjhb"
      },
      "execution_count": 39,
      "outputs": []
    },
    {
      "cell_type": "code",
      "source": [
        "fig, ((ax1, ax2, ax3), (ax4, ax5, ax6), (ax7, ax8, ax9)) = plt.subplots(3, 3, sharex=True, figsize=(10,10))\n",
        "axs = [ax1, ax2, ax3, ax4, ax5, ax6, ax7, ax8, ax9]\n",
        "\n",
        "for n in range(len(axs)):\n",
        "    location = list(name_to_GPS.keys())[n]\n",
        "    df = track_data_train[track_data_train['EventLocation'] == location]['time']\n",
        "    axs[n].hist(df, bins=50)    \n",
        "    axs[n].set_title(location)\n",
        "plt.show()"
      ],
      "metadata": {
        "colab": {
          "base_uri": "https://localhost:8080/",
          "height": 607
        },
        "id": "zDJbXBzBrG0w",
        "outputId": "1366a1ca-42a0-4b38-e908-84f6c2d8a774"
      },
      "execution_count": 40,
      "outputs": [
        {
          "output_type": "display_data",
          "data": {
            "text/plain": [
              "<Figure size 720x720 with 9 Axes>"
            ],
            "image/png": "[encoded data removed]"
          },
          "metadata": {
            "needs_background": "light"
          }
        }
      ]
    },
    {
      "cell_type": "code",
      "source": [
        "prediction_dict_mean"
      ],
      "metadata": {
        "id": "iGMJLagUviJO",
        "colab": {
          "base_uri": "https://localhost:8080/"
        },
        "outputId": "5f52d678-346e-47fe-99d6-a4588b140449"
      },
      "execution_count": 41,
      "outputs": [
        {
          "output_type": "execute_result",
          "data": {
            "text/plain": [
              "{'Hafen Rotterdam': 33.375459428894544,\n",
              " 'Hafen Charleston': 27.650666666666666,\n",
              " 'Consolidation Center Speyer': 35.89473684210526,\n",
              " 'Hafen Antwerpen': 25.379310344827587,\n",
              " 'Bahnterminal Savannah': 15.615384615384615,\n",
              " 'Werk Tuscaloosa': 6.642651296829971,\n",
              " 'Hafen Bremerhaven': 46.76766304347826,\n",
              " 'Hafen Hamburg': 40.888888888888886,\n",
              " 'Hafen Altamira': 127.0,\n",
              " 'Hafen Aguascalientes': 126.0}"
            ]
          },
          "metadata": {},
          "execution_count": 41
        }
      ]
    },
    {
      "cell_type": "code",
      "source": [
        "print(\"accurate within a week?\")\n",
        "print(\"mean_schaetzer\" , sum(abs(track_data_test['time']-track_data_test.replace({\"EventLocation\" : prediction_dict_mean})['EventLocation'])<=7)/len(track_data_test['time']))\n",
        "print(\"median_schaetzer\" , sum(abs(track_data_test['time']-track_data_test.replace({\"EventLocation\" : prediction_dict_median})['EventLocation'])<=7)/len(track_data_test['time']))\n",
        "print(\"mode_schaetzer\" , sum(abs(track_data_test['time']-track_data_test.replace({\"EventLocation\" : prediction_dict_mode})['EventLocation'])<=7)/len(track_data_test['time']))\n",
        "print( \"accurate within a day?\")\n",
        "print(\"mean_schaetzer\" , sum(abs(track_data_test['time']-track_data_test.replace({\"EventLocation\" : prediction_dict_mean})['EventLocation'])<=1)/len(track_data_test['time']))\n",
        "print(\"median_schaetzer\" , sum(abs(track_data_test['time']-track_data_test.replace({\"EventLocation\" : prediction_dict_median})['EventLocation'])<=1)/len(track_data_test['time']))\n",
        "print(\"mode_schaetzer\" , sum(abs(track_data_test['time']-track_data_test.replace({\"EventLocation\" : prediction_dict_mode})['EventLocation'])<=1)/len(track_data_test['time']))"
      ],
      "metadata": {
        "colab": {
          "base_uri": "https://localhost:8080/"
        },
        "id": "wqQrnkT7kuG-",
        "outputId": "15281702-d3dc-4cee-c89e-f5b4bc19badd"
      },
      "execution_count": 42,
      "outputs": [
        {
          "output_type": "stream",
          "name": "stdout",
          "text": [
            "accurate within a week?\n",
            "mean_schaetzer 0.4651360544217687\n",
            "median_schaetzer 0.3937074829931973\n",
            "mode_schaetzer 0.20068027210884354\n",
            "accurate within a day?\n",
            "mean_schaetzer 0.047619047619047616\n",
            "median_schaetzer 0.06717687074829932\n",
            "mode_schaetzer 0.06972789115646258\n"
          ]
        }
      ]
    },
    {
      "cell_type": "markdown",
      "source": [
        "#3.3 Multivariate Models"
      ],
      "metadata": {
        "id": "mzmIA8jCxbLi"
      }
    },
    {
      "cell_type": "markdown",
      "source": [
        "**Prepare datasets for multivariate Analysis**"
      ],
      "metadata": {
        "id": "6p7T5M8PbKQv"
      }
    },
    {
      "cell_type": "markdown",
      "source": [
        "Separate features and labels"
      ],
      "metadata": {
        "id": "DFVklLvFbuAi"
      }
    },
    {
      "cell_type": "code",
      "source": [
        "X_train = track_data_train.drop(columns=['time'])\n",
        "y_train = track_data_train['time']\n",
        "X_test = track_data_test.drop(columns=['time'])\n",
        "y_test = track_data_test['time']"
      ],
      "metadata": {
        "id": "BN-7-llOxegE"
      },
      "execution_count": 43,
      "outputs": []
    },
    {
      "cell_type": "markdown",
      "source": [
        "Differentiate between different types of variables, introduce new features"
      ],
      "metadata": {
        "id": "U0kKbEbWby0-"
      }
    },
    {
      "cell_type": "code",
      "source": [
        "all_cols = ['Container', 'ShipmentNumber', 'PoCreationDate', 'Material', 'Quant', 'EventName', 'EventTime', 'EventMessageTime', 'EventLocation', 'VesselName', 'PortofDischarge']\n",
        "cat_cols = ['EventName', 'Material','EventLocation', 'VesselName', 'PortofDischarge']\n",
        "ord_cols = ['PoCreationDate', 'EventTime']\n",
        "real_cols = ['Quant']\n",
        "leave_out = ['Container', 'ShipmentNumber', 'EventMessageTime']\n",
        "\n",
        "#date_replacement_dict = {}\n",
        "#X_train['PoCreationDate'].unique()\n",
        "#always midnight and everything 2018\n",
        "cyclical = CyclicalFeatures(variables=['PoCreationDatemonth','PoCreationDateday','EventTimemonth','EventTimeday','EventTimehour'], drop_original=False)\n",
        "\n",
        "X_train['PoCreationDate'] = X_train['PoCreationDate'].apply(convert_to_strptime)\n",
        "X_train['PoCreationDatemonth'] = X_train['PoCreationDate'].apply(lambda x: x.month)\n",
        "X_train['PoCreationDateday'] = X_train['PoCreationDate'].apply(lambda x: x.day)\n",
        "X_train.drop(columns=['PoCreationDate'],inplace=True)\n",
        "\n",
        "X_train['EventTime'] = X_train['EventTime'].apply(convert_to_strptime)\n",
        "X_train['EventTimemonth'] = X_train['EventTime'].apply(lambda x: x.month)\n",
        "X_train['EventTimeday'] = X_train['EventTime'].apply(lambda x: x.day)\n",
        "X_train['EventTimehour'] = X_train['EventTime'].apply(lambda x: x.hour)\n",
        "X_train.drop(columns=['EventTime'],inplace=True)\n",
        "\n",
        "\n",
        "X_train = cyclical.fit_transform(X_train)\n",
        "\n",
        "X_test['PoCreationDate'] = X_test['PoCreationDate'].apply(convert_to_strptime)\n",
        "X_test['PoCreationDatemonth'] = X_test['PoCreationDate'].apply(lambda x: x.month)\n",
        "X_test['PoCreationDateday'] = X_test['PoCreationDate'].apply(lambda x: x.day)\n",
        "X_test.drop(columns=['PoCreationDate'],inplace=True)\n",
        "\n",
        "X_test['EventTime'] = X_test['EventTime'].apply(convert_to_strptime)\n",
        "X_test['EventTimemonth'] = X_test['EventTime'].apply(lambda x: x.month)\n",
        "X_test['EventTimeday'] = X_test['EventTime'].apply(lambda x: x.day)\n",
        "X_test['EventTimehour'] = X_test['EventTime'].apply(lambda x: x.hour)\n",
        "X_test.drop(columns=['EventTime'],inplace=True)\n",
        "\n",
        "X_test = cyclical.fit_transform(X_test)\n",
        "\n",
        "\n",
        "X_train = X_train.drop(columns=leave_out)\n",
        "X_train = pd.get_dummies(X_train, columns=cat_cols)\n",
        "\n",
        "X_test = X_test.drop(columns=leave_out)\n",
        "X_test = pd.get_dummies(X_test, columns=cat_cols)\n"
      ],
      "metadata": {
        "id": "g6mO44SHzYYU"
      },
      "execution_count": 44,
      "outputs": []
    },
    {
      "cell_type": "markdown",
      "source": [
        "Some columns do not appear in the test set because there is no instance of it -> correct"
      ],
      "metadata": {
        "id": "mpgdIfO1b5rB"
      }
    },
    {
      "cell_type": "code",
      "source": [
        "train_cols = list(X_train.columns)\n",
        "test_cols = list(X_test.columns)\n",
        "\n",
        "for col in train_cols:\n",
        "  if not col in test_cols:\n",
        "    X_test[col] = 0\n",
        "\n",
        "X_test = X_test.loc[:, train_cols]"
      ],
      "metadata": {
        "id": "G2WRhOZ-EA0E"
      },
      "execution_count": 45,
      "outputs": []
    },
    {
      "cell_type": "markdown",
      "source": [
        "Normalize the data"
      ],
      "metadata": {
        "id": "MvwgJLpe-CVk"
      }
    },
    {
      "cell_type": "code",
      "source": [
        "scaler = StandardScaler()\n",
        "scaler.fit(X_train)\n",
        "X_train = scaler.transform(X_train)\n",
        "X_test = scaler.transform(X_test)"
      ],
      "metadata": {
        "id": "YUYt0nhbx-ID"
      },
      "execution_count": 46,
      "outputs": []
    },
    {
      "cell_type": "markdown",
      "source": [
        "**Try a GradientBoostingRegressor**"
      ],
      "metadata": {
        "id": "6RcoHGcScdhj"
      }
    },
    {
      "cell_type": "markdown",
      "source": [
        "Train"
      ],
      "metadata": {
        "id": "LdPJR-wxczui"
      }
    },
    {
      "cell_type": "code",
      "source": [
        "model = GradientBoostingRegressor(learning_rate=0.1)\n",
        "cv = RepeatedKFold(n_splits=10, n_repeats=3, random_state=1)\n",
        "n_scores = cross_val_score(model, X_train, y_train, scoring='neg_mean_absolute_error', cv=cv, n_jobs=-1)"
      ],
      "metadata": {
        "id": "ePsQpbRkNNA_"
      },
      "execution_count": 47,
      "outputs": []
    },
    {
      "cell_type": "code",
      "source": [
        "print('MAE: %.3f (%.3f)' % (mean(n_scores), std(n_scores)))"
      ],
      "metadata": {
        "colab": {
          "base_uri": "https://localhost:8080/"
        },
        "id": "w9deTicoFxSZ",
        "outputId": "10570edb-7628-40f6-d49c-a12a5678210e"
      },
      "execution_count": 48,
      "outputs": [
        {
          "output_type": "stream",
          "name": "stdout",
          "text": [
            "MAE: -12.547 (0.745)\n"
          ]
        }
      ]
    },
    {
      "cell_type": "markdown",
      "source": [
        "Predict"
      ],
      "metadata": {
        "id": "2XT1Bcz3c4Xq"
      }
    },
    {
      "cell_type": "code",
      "source": [
        "model.fit(X_train, y_train)\n",
        "yhat = model.predict(X_test)"
      ],
      "metadata": {
        "id": "GHdir7s_GE78"
      },
      "execution_count": 49,
      "outputs": []
    },
    {
      "cell_type": "code",
      "source": [
        "print('First 10 Predictions:' , list(yhat)[:10])\n",
        "print('First 10 GT: ', list(y_test)[:10])"
      ],
      "metadata": {
        "colab": {
          "base_uri": "https://localhost:8080/"
        },
        "id": "sJjKNROWGuTS",
        "outputId": "fe4479ad-ca82-4676-a060-855600ed0ebd"
      },
      "execution_count": 50,
      "outputs": [
        {
          "output_type": "stream",
          "name": "stdout",
          "text": [
            "Prediction: [40.02171071487789, 35.291946905357456, 46.376544916790664, 35.39754048906263, 30.66777667954215, 49.08311729664958, 36.76314070311668, 32.03337689359625, 50.44871751070364, 26.205640059250616, 21.475876249730177, 26.419173857743285, 26.519093182615766, 21.789329373095327, 26.73262698110844, 26.519093182615766, 21.789329373095327, 26.73262698110844, 5.233334217792384, 2.6610755151994656, 5.82028604982033, 36.22656862977325, 30.786278326919557, 30.786278326919557, 26.896899077835208, 20.79515516324239, 20.79515516324239, 2.6019560994246493, 36.22656862977325, 39.53836165165283, 30.786278326919557, 34.09807134879915, 30.786278326919557, 34.09807134879915, 26.896899077835208, 30.208692099714774, 20.79515516324239, 24.106948185121958, 20.79515516324239, 24.106948185121958, 12.594616760053702, 13.11736429230178, 35.86880011825504, 30.428509815401327, 30.428509815401327, 26.539130566316977, 20.43738665172416, 20.43738665172416, 4.40169269483394, 46.165025021911575, 40.7247347190579, 40.7247347190579, 36.83535546997355, 30.73361155538072, 30.73361155538072, 21.022794369800863, 36.22656862977325, 30.786278326919557, 30.786278326919557, 26.896899077835208, 20.79515516324239, 20.79515516324239, 2.6019560994246493, 38.745006718920116, 50.990434424809756, 34.48875357507898, 34.4963408505106, 34.368299032078944, 53.94446934364278, 30.112045888237766, 30.119633163669395, 34.368299032078944, 53.94446934364278, 30.112045888237766, 30.119633163669395, 30.478919782994588, 37.592938972057475, 26.222666639153424, 26.23025391458504, 24.37717586840177, 31.491195057464633, 20.120922724560604, 20.128509999992225, 24.37717586840177, 31.491195057464633, 20.120922724560604, 20.128509999992225, 42.178775356292704, 36.090064763862294, 37.80206766945153, 31.713357077021094, 37.80206766945153, 31.713357077021094, 33.278077817220726, 27.82397782793674, 27.81094450577434, 21.722233913343924, 27.81094450577434, 21.722233913343924, 14.604399394274422, 9.222371238132586, 37.18993177402055, 32.813224087179385, 32.813224087179385, 28.92384483809501, 22.822100923502195, 22.822100923502195, 9.715615365768016, 41.27173274702986, 39.13400513001398, 37.11222249591829, 34.97449487890241, 38.477822709972344, 36.34009509295647, 26.910430179512975, 24.772702562497095, 27.223883302878125, 25.086155685862245, 27.223883302878125, 25.086155685862245, 18.049885792946547, 15.91215817593067, 34.34055752753883, 30.181047276427233, 31.546647490481316, 19.97925496002192, 20.29270808338707, 20.29270808338707, 10.702920368472363, 47.592797868953866, 50.76403022351649, 52.12963043757055, 28.100086784610188, 28.41353990797534, 28.41353990797534, 16.450496908412287, 41.714115381589004, 35.21762332992008, 37.554605130477434, 31.05811307880851, 38.92020534453149, 32.423713292862566, 26.71820221092565, 20.487632749314393, 27.66626593743725, 21.169773885768322, 27.66626593743725, 21.169773885768322, 16.362140715639654, 10.210599679962334, 48.48344086697118, 35.21762332992008, 39.318826779930674, 51.654673221533805, 31.05811307880851, 35.15931652881911, 53.02027343558786, 32.423713292862566, 36.52491674287317, 28.99072978262751, 20.487632749314393, 24.957524212413773, 29.304182905992665, 21.169773885768322, 25.270977335778923, 29.304182905992665, 21.169773885768322, 25.270977335778923, 18.706740120483666, 10.210599679962334, 14.311803129972937, 35.76708658285048, 31.607576331738905, 32.973176545792974, 21.405784015333598, 21.719237138698748, 21.719237138698748, 0.014328191680746033, 38.90303657494753, 35.15931652881911, 36.52491674287317, 24.957524212413773, 25.270977335778923, 25.270977335778923, 32.99986809423753, 28.840357843125943, 28.67203017711689, 17.3342707824943, 18.95201865008577, 18.95201865008577, 7.069705463501123, 35.625404789158594, 48.14106017832803, 35.25673480527483, 31.465894538047007, 51.31229253289066, 31.09722455416323, 31.297566872037955, 51.14396486688161, 30.928896888154178, 21.264102221641682, 28.648349093984354, 20.895432237757912, 21.577555345006832, 28.961802217349508, 21.208885361123063, 21.577555345006832, 28.961802217349508, 21.208885361123063, 9.61451234544378, 16.998759217786453, 9.245842361560012, 35.76708658285048, 31.607576331738905, 32.973176545792974, 21.405784015333598, 21.719237138698748, 21.719237138698748, -0.13035037665635163, 33.396229552917525, 30.602319515859982, 30.602319515859982, 19.034926985400613, 19.348380108765763, 19.348380108765763, 7.385337109202705, 31.219813446210694, 30.21172499327873, 30.21172499327873, 29.83014775077259, 27.060303195099127, 26.052214742167163, 26.052214742167163, 25.670637499661016, 26.891975529090075, 25.88388707615811, 25.88388707615811, 25.502309833651964, 16.188826737613947, 15.180738284681981, 15.180738284681981, 14.799161042175834, 17.171964002058967, 16.163875549127003, 16.163875549127003, 15.782298306620854, 17.171964002058967, 16.163875549127003, 16.163875549127003, 15.782298306620854, 5.537113354448404, 4.529024901516441, 4.529024901516441, 4.147447659010299, 34.629631244600674, 38.22102339585493, 36.147377803292144, 31.83572120754316, 35.42711335879742, 33.35346776623464, 31.83572120754316, 35.42711335879742, 33.35346776623464, 20.26832867708378, 24.869612714931346, 21.786075235775236, 20.58178180044893, 25.183065838296503, 22.099528359140386, 20.58178180044893, 25.183065838296503, 22.099528359140386, 8.618738800885877, 11.366471118588866, 10.136485359577334, 49.031703176345346, 33.56039358307455, 32.552305130142585, 53.56853574496203, 30.766483546017003, 29.758395093085028, 53.56853574496203, 30.766483546017003, 29.758395093085028, 29.538992092001678, 19.19909101555763, 18.191002562625666, 29.85244521536683, 19.51254413892278, 18.504455685990816, 29.85244521536683, 19.51254413892278, 18.504455685990816, 47.592797868953866, 50.76403022351649, 50.595702557507444, 28.100086784610188, 28.41353990797534, 28.41353990797534, 16.450496908412287, 52.54409568267055, 41.934792752811916, 40.59896273143836, 30.337070330757015, 31.102764645709346, 31.102764645709346, 33.9179286757592, 30.85530210673525, 30.85530210673525, 30.85530210673525, 6.8145382344371, 37.7885070183964, 35.50795933424394, 49.031703176345346, 52.005872341203826, 33.62899676728483, 31.34844908313237, 52.20293553090797, 44.91635418682125, 33.46066910127578, 31.180121417123317, 52.03460786489892, 42.85948126191849, 23.427204450879493, 21.14665676672704, 29.538992092001678, 25.991028502520617, 23.740657574244644, 21.46010989009219, 29.85244521536683, 26.939092229032216, 23.740657574244644, 21.46010989009219, 29.85244521536683, 26.939092229032216, 1.8910700588895533, -0.3894776252629025, 5.770577646908252, 1.655256056022849, 53.434738680687865, 38.46996330524799, 42.82543575082923, 32.992068892216096, 41.489605729455675, 31.65623887084254, 31.22771332877436, 21.394346470161206, 31.993407643726687, 22.160040785113537, 31.993407643726687, 22.160040785113537, 34.80857167377651, 24.975204815163366, 31.745945104752593, 21.912578246139443, 31.745945104752593, 21.912578246139443, 31.745945104752593, 21.912578246139443, 5.547676125526898, -2.0534106799827385, 32.38814109998556, 45.911884942086964, 51.744867920805426, 40.66603716142298, 28.228630848873966, 49.08311729664958, 44.655349766422844, 36.50652691031141, 28.060303182864914, 48.914789630640534, 42.59847684152008, 36.33819924430236, 18.02683853246865, 26.419173857743285, 21.923658872544515, 25.67012399075962, 18.3402916558338, 26.73262698110844, 22.871722599056117, 26.61818771727122, 18.3402916558338, 26.73262698110844, 22.871722599056117, 26.61818771727122, 55.645508764726024, 32.99986809423753, 48.55599061034344, 28.840357843125943, 46.49911768544068, 28.67203017711689, 25.824299716465113, 17.3342707824943, 26.772363442976715, 18.95201865008577, 26.772363442976715, 18.95201865008577, 33.24775784908952, 33.486016381216814, 32.12041616716276, 19.592049512248966, 19.707816989686993, 22.0634866849244, 19.83951205122306, 0.6213636148816821, 52.723536995089155, 50.732525983188616, 46.46478679633565, 33.93642014142183, 34.05218761885984, 33.93642014142183, 34.183882680395925, 10.57594908402355, 43.51089540188298, 30.538507728341923, 38.617745417183535, 30.77676626046922, 37.25214520312948, 29.41116604641516, 24.723778548215662, 16.882799391501383, 24.83954602565368, 16.99856686893941, 27.195215720891095, 19.354236564176816, 24.971241087189757, 17.130261930475477, 36.569652340129046, 36.15783450028604, 28.343206578571806, 39.71004984505525, 39.29823200521225, 31.483604083498015, 35.44231065820229, 35.030492818359285, 27.215864896645055, 22.91394400328849, 22.5021261634455, 14.687498241731284, 23.029711480726515, 22.617893640883526, 14.80326571916931, 22.91394400328849, 22.5021261634455, 14.687498241731284, 23.161406542262583, 22.749588702419594, 14.934960780705378, 6.384486632056104, 7.939826334054629, 0.3155459774264099, 47.8831289795637, 51.05436133412633, 50.88603366811728, 28.390417895220025, 28.70387101858518, 28.70387101858518, 5.987603664180659, 25.633956457824215, 28.774353962750432, 24.50661477589747, 11.978248120983698, 12.094015598421727, 11.978248120983698, 12.225710659957793, -5.905882604005459, 49.031703176345346, 52.20293553090797, 52.03460786489892, 29.538992092001678, 29.85244521536683, 29.85244521536683, 10.41334178369325, 47.8831289795637, 51.05436133412633, 50.88603366811728, 28.390417895220025, 30.927845652286507, 28.70387101858518, 16.32503781403898, 39.318826779930674, 37.28373562159305, 35.625404789158594, 48.14106017832803, 35.15931652881911, 33.12422537048148, 31.465894538047007, 51.31229253289066, 34.99098886281006, 32.955897704472434, 31.297566872037955, 51.14396486688161, 24.957524212413773, 22.92243305407616, 21.264102221641682, 28.648349093984354, 25.270977335778923, 23.23588617744131, 21.577555345006832, 28.961802217349508, 25.270977335778923, 23.23588617744131, 21.577555345006832, 28.961802217349508, 12.73274887066537, 12.365589129053605, 12.191855045228401, 16.948355010627584, 42.883083452258205, 38.723573201146635, 38.55524553513759, 28.521780884741332, 28.835234008106482, 28.835234008106482, 8.871349318041261, 45.65275364629425, 48.82398600085688, 48.65565833484783, 26.160042561950583, 26.473495685315736, 26.473495685315736, 14.510452685752693, 44.3435881958884, 39.202975672214855, 37.8373754581608, 25.309008803246986, 25.424776280685013, 25.140681137237934, 25.55647134222108, 4.106042852776222, 53.42805056275347, 37.28373562159305, 40.25141411878802, 48.22707766726461, 33.12422537048148, 36.09190386767646, 46.17020474236185, 32.955897704472434, 35.92357620166741, 25.49538677338627, 22.92243305407616, 25.255500948124663, 26.443450499897867, 23.23588617744131, 26.20356467463626, 26.443450499897867, 23.23588617744131, 26.20356467463626, 45.59678397808445, 40.45617145441091, 39.09057124035685, 26.56220458544305, 26.67797206288108, 26.393876919434, 26.809667124417146, 3.201733528044769, 35.07649696973029, 30.21172499327873, 30.91698671861872, 26.052214742167163, 30.748659052609668, 25.88388707615811, 19.410899657987063, 15.180738284681981, 21.02864752557853, 16.163875549127003, 21.02864752557853, 16.163875549127003, 35.625404789158594, 55.78852042895837, 36.147377803292144, 31.465894538047007, 51.6290101778468, 31.987867552180578, 32.83149475210109, 52.994610391900856, 33.35346776623464, 21.264102221641682, 28.94168406458427, 21.786075235775236, 21.577555345006832, 29.889747791095868, 22.099528359140386, 21.577555345006832, 29.889747791095868, 22.099528359140386, 7.984207972905773, 13.203700858658106, 6.348675880111808, 50.59998596981109, 32.332167384589596, 32.07304013598305, 45.45937344613754, 32.32296337774279, 32.063836129136256, 44.093773232083485, 30.957363163688747, 30.698235915082186, 31.565406577169668, 18.42899650877497, 18.169869260168408, 31.68117405460768, 18.544763986212995, 18.285636737606435, 34.03684374984513, 20.9004336814504, 20.64130643284384, 31.812869116143762, 18.676459047749063, 18.417331799142502, 28.5906691175459, 28.5906691175459, 32.2202624113157, 28.58146511069911, 28.58146511069911, 32.2110584044689, 27.215864896645055, 27.215864896645055, 30.84545819041485, 14.687498241731284, 14.687498241731284, 18.31709153550107, 14.80326571916931, 14.80326571916931, 18.432859012939097, 17.15893541440671, 17.15893541440671, 20.788528708176504, 14.934960780705378, 14.934960780705378, 18.564554074475165, -4.283187655636005, -4.873431093053611, -1.7427242566354784, 39.44725569196185, 39.03543785211885, 42.34019065791396, 41.928372818070955, 38.072451471060994, 37.66063363121799, 25.544084816147194, 25.1322669763042, 25.65985229358522, 25.24803445374223, 28.015521988822623, 27.603704148979638, 25.791547355121285, 25.3797295152783, 3.8256503744347903, 4.004075972009406, 33.787758477758295, 33.7785544709115, 32.412954256857425, 19.884587601943643, 20.00035507938167, 22.356024774619076, 20.132050140917737, -0.4682466257147002, 34.73945942134947, 34.73025541450268, 33.36465520044863, 20.83628854553485, 20.952056022972876, 20.667960879525797, 21.083751084508943, -0.015432139475155343, 32.332167384589596, 32.32296337774279, 30.957363163688747, 18.42899650877497, 18.544763986212995, 20.9004336814504, 18.676459047749063, -3.2894379329374424, 36.01773439375533, 35.39841659896672, 31.85822414264377, 31.23890634785514, 31.689896476634715, 31.070578681846087, 21.656431826238443, 21.03711403144983, 21.969884949603593, 21.35056715481498, 21.969884949603593, 21.35056715481498, 32.38814109998556, 49.85632266191171, 36.01773439375533, 35.39841659896672, 28.228630848873966, 44.655349766422844, 31.85822414264377, 31.23890634785514, 28.060303182864914, 42.59847684152008, 31.689896476634715, 31.070578681846087, 18.02683853246865, 21.923658872544515, 21.656431826238443, 21.03711403144983, 18.3402916558338, 22.871722599056117, 21.969884949603593, 21.35056715481498, 18.3402916558338, 22.871722599056117, 21.969884949603593, 21.35056715481498, -1.3517907525937727, -0.25460846702573914, 1.1886726464067494, -0.49902036054011967, 36.01773439375533, 31.85822414264377, 31.689896476634715, 21.656431826238443, 21.969884949603593, 21.969884949603593, 2.1929457785735713, 36.01773439375533, 31.85822414264377, 31.689896476634715, 21.656431826238443, 21.969884949603593, 21.969884949603593, 50.86475369560444, 41.996394724101954, 36.929192013660035, 45.724141171930896, 30.738885817520515, 36.919988006813234, 44.35854095787684, 29.373285603466464, 35.55438779275918, 31.830174302963034, 19.37327284210779, 23.026021137845387, 31.94594178040105, 18.854429716399377, 23.141788615283414, 34.30161147563848, 21.844710014783217, 25.49745831052082, 32.07763684193714, 19.620735381081886, 23.27348367681948, 10.627208352492254, -3.031661712913757, 4.055335240478113, 49.031703176345346, 52.71429991706894, 38.174378619610366, 52.20293553090797, 47.51332702158008, 34.014868368498796, 52.03460786489892, 45.45645409667732, 33.84654070248975, 29.538992092001678, 24.78163612770175, 23.813076052093482, 29.85244521536683, 25.729699854213347, 24.126529175458632, 29.85244521536683, 25.729699854213347, 24.126529175458632, 10.297590407437818, 11.644114362955527, 7.681982067705353, 49.031703176345346, 52.20293553090797, 52.03460786489892, 29.538992092001678, 29.85244521536683, 29.85244521536683, 49.290830424951885, 53.89321655243374, 40.25141411878802, 33.7549220671191, 32.552305130142585, 34.0316808758069, 52.462062779514504, 49.733706301322165, 36.09190386767646, 29.595411816007502, 28.392794879030983, 29.8721706246953, 52.293735113505456, 49.56537863531312, 35.92357620166741, 29.42708414999845, 28.22446721302193, 29.70384295868625, 29.79811934060824, 27.046380188059622, 25.255500948124663, 19.024931486513406, 18.191002562625666, 19.670378308289983, 30.11157246397339, 27.99444391457122, 26.20356467463626, 19.707072622967335, 18.504455685990816, 19.983831431655133, 30.11157246397339, 27.99444391457122, 26.20356467463626, 19.707072622967335, 18.504455685990816, 19.983831431655133, 19.266667139490295, 16.804587574096537, 15.013708334161596, 8.86216729848425, 7.659550361507731, 9.138926107172049, 49.031703176345346, 95.43636637770027, 36.61866509602449, 52.20293553090797, 91.27685612658871, 32.45915484491292, 52.03460786489892, 91.10852846057966, 32.290827178903875, 29.538992092001678, 49.702543291668135, 22.25736252850759, 32.07641984906817, 52.874581651881066, 24.794790285574077, 29.85244521536683, 50.650607018179734, 22.57081565187274, 17.641939676829683, 35.596096259405876, 10.360310113335593, 45.349321439110355, 34.491996882375375, 46.460027200890906, 40.45617145441091, 34.73025541450268, 41.56687721619146, 39.09057124035685, 33.36465520044863, 40.2012770021374, 26.56220458544305, 20.83628854553485, 27.672910347223596, 26.67797206288108, 20.952056022972876, 27.788677824661622, 29.033641758118485, 23.307725718210282, 30.14434751989903, 26.809667124417146, 21.083751084508943, 27.92037288619769, 5.579355272341772, 0.9965893907677935, 6.69006103412232, 35.406771497938024, 35.64503003006532, 34.279429816011266, 21.75106316109749, 21.866830638535518, 24.222500333772924, 21.998525700071585, 7.7285776699736815, 32.94386421950327, 33.495220388063615, 32.07304013598305, 32.934660212656475, 33.486016381216814, 32.063836129136256, 31.56905999860238, 32.12041616716276, 30.698235915082186, 19.040693343688602, 19.592049512248966, 18.169869260168408, 19.15646082112663, 19.707816989686993, 18.285636737606435, 21.512130516364035, 22.0634866849244, 20.64130643284384, 19.288155882662696, 19.83951205122306, 18.417331799142502, -0.52023599109628, -0.163080033754889, -3.548565181543993, 33.495220388063615, 33.486016381216814, 32.12041616716276, 19.592049512248966, 19.707816989686993, 22.0634866849244, 19.83951205122306, 41.00498354041878, 36.845473289307215, 36.677145623298166, 26.64368097290189, 30.869962379364164, 26.95713409626704, 11.144876881924667, 33.23880110017932, 44.0961256569143, 33.47705963230663, 39.202975672214855, 32.111459418252565, 37.8373754581608, 19.583092763338783, 25.309008803246986, 19.69886024077681, 25.424776280685013, 22.054529936014216, 27.78044597592242, 19.830555302312877, 25.55647134222108, 33.19067756966027, 48.14106017832803, 29.031167318548682, 51.31229253289066, 28.86283965253963, 51.14396486688161, 18.82937500214337, 28.648349093984354, 19.14282812550852, 28.961802217349508, 19.14282812550852, 28.961802217349508, 6.4022635006653195, 16.582969012803307, 70.41961395156702, 39.69053431396643, 26.166790471865003, 39.9199625683255, 34.79738432926698, 26.405049003992314, 38.55436235427145, 33.43178411521293, 25.03944878993826, 26.025995699357647, 20.903417460299117, 12.511082135024486, 25.507152573649226, 21.019184937737144, 12.626849612462514, 28.49743287203308, 23.37485463297455, 14.982519307699924, 26.27345823833174, 21.15087999927321, 12.75854467399858, 1.6629145635811566, 3.8343125675833605, -2.915986142005399, 40.394861943856526, 35.16443006979873, 33.82860004842519, 24.332401962696185, 24.332401962696185, 27.147565992746014, 24.08493942372209, 24.08493942372209, 24.08493942372209, 0.9495344159022888, 40.394861943856526, 35.16443006979873, 33.82860004842519, 24.332401962696185, 24.332401962696185, 27.147565992746014, 24.08493942372209, 24.08493942372209, 24.08493942372209, 0.9495344159022888, 36.5074717030137, 32.595423990876235, 32.427096324867186, 22.393631674470928, 22.707084797836078, 22.707084797836078, 10.382310377976017, 35.595504248515, 35.595504248515, 30.365072374457203, 30.365072374457203, 29.029242353083642, 29.029242353083642, 19.53304426735467, 19.53304426735467, 19.53304426735467, 19.53304426735467, 22.348208297404497, 22.348208297404497, 19.285581728380574, 19.285581728380574, 19.285581728380574, 19.285581728380574, 19.285581728380574, 19.285581728380574, 1.3390084076506765, 1.3390084076506765, 38.94563229337302, 26.166790471865003, 26.166790471865003, 27.33296763178954, 26.405049003992314, 26.405049003992314, 25.967367417735492, 25.03944878993826, 25.03944878993826, 13.439000762821717, 12.511082135024486, 12.511082135024486, 12.920157637113295, 12.626849612462514, 12.626849612462514, 15.910437935497153, 14.982519307699924, 14.982519307699924, 13.686463301795811, 12.75854467399858, 12.75854467399858, -3.3536677282622196, -4.281586356059459, -4.281586356059459, 39.57306641951266, 34.342634545454864, 33.00680452408132, 23.510606438352326, 23.510606438352326, 26.325770468402155, 23.263143899378232, 23.263143899378232, 23.263143899378232, -0.7028450267439558, 39.25317887825825, 39.50421894583921, 34.022747004200454, 34.27378707178142, 32.68691698282691, 32.937957050407874, 23.19071889709791, 23.44175896467886, 23.19071889709791, 23.44175896467886, 26.005882927147738, 26.25692299472869, 22.943256358123815, 23.194296425704767, 22.943256358123815, 23.194296425704767, 22.943256358123815, 23.194296425704767, 0.8762265624622697, 2.216396524812487, 41.53192502543022, 36.301493151372426, 34.96566312999888, 25.469465044269896, 25.469465044269896, 28.284629074319724, 25.2220025052958, 25.2220025052958, 25.2220025052958, 30.398938830442585, 30.637197362569907, 29.271597148515827, 16.743230493602063, 16.85899797104009, 16.57490282759301, 16.990693032576157, -3.329841603705237, 50.84634564528519, 45.95319566058574, 44.58759544653169, 32.05922879161791, 32.17499626905593, 34.53066596429334, 32.306691330592, 13.539308787870432, 28.36912418770543, 29.986746354393144, 29.986746354393144, 32.136963902498636, 28.607382719832735, 30.22500488652044, 30.22500488652044, 32.37522243462591, 27.24178250577868, 28.859404672466386, 28.859404672466386, 31.009622220571867, 14.713415850864909, 16.331038017552608, 16.331038017552608, 18.48125556565809, 14.829183328302936, 16.446805494990635, 16.446805494990635, 18.597023043096115, 17.184853023540335, 18.80247519022804, 18.80247519022804, 20.95269273833352, 14.960878389839003, 16.578500556526702, 16.578500556526702, 18.728718104632183, -4.847513483919985, -3.229891317232276, -3.229891317232276, -1.5785602264784597, 38.30475436926259, 38.03241653172605, 33.0743224952048, 32.80198465766826, 31.738492473831247, 31.466154636294696, 22.242294388102252, 21.969956550565694, 22.242294388102252, 21.969956550565694, 25.05745841815208, 24.785120580615523, 21.994831849128158, 21.7224940115916, 21.994831849128158, 21.7224940115916, 21.994831849128158, 21.7224940115916, 0.18634802993349495, -0.08598980760305888, 29.986746354393144, 29.986746354393144, 33.616339648162935, 30.22500488652044, 30.22500488652044, 33.85459818029023, 28.859404672466386, 28.859404672466386, 32.48899796623618, 16.331038017552608, 16.331038017552608, 19.960631311322402, 16.446805494990635, 16.446805494990635, 20.07639878876043, 18.80247519022804, 18.80247519022804, 22.432068483997835, 16.578500556526702, 16.578500556526702, 20.208093850296496, -0.8522695729352652, -0.8522695729352652, 2.2784372634828647, 37.137227023617456, 36.27496716302088, 34.90936694896683, 25.094581439805022, 23.72898122575097, 23.481518686776877, 24.53366577746578, 24.847118900830928, 25.70549332047821, 23.481518686776877, 3.564609007875455]\n",
            "GT:  [70.0, 70.0, 70.0, 61.0, 61.0, 61.0, 60.0, 60.0, 60.0, 46.0, 46.0, 46.0, 46.0, 46.0, 46.0, 46.0, 46.0, 46.0, 21.0, 21.0, 21.0, 68.0, 65.0, 65.0, 53.0, 52.0, 52.0, 19.0, 31.0, 31.0, 28.0, 28.0, 28.0, 28.0, 16.0, 16.0, 15.0, 15.0, 15.0, 15.0, 5.0, 5.0, 59.0, 56.0, 56.0, 44.0, 43.0, 43.0, 9.0, 27.0, 24.0, 24.0, 12.0, 12.0, 12.0, 3.0, 62.0, 59.0, 59.0, 47.0, 47.0, 47.0, 13.0, 26.0, 26.0, 26.0, 26.0, 24.0, 24.0, 24.0, 24.0, 23.0, 23.0, 23.0, 23.0, 11.0, 11.0, 11.0, 11.0, 11.0, 11.0, 11.0, 11.0, 11.0, 11.0, 11.0, 11.0, 26.0, 26.0, 23.0, 23.0, 23.0, 23.0, 11.0, 11.0, 11.0, 11.0, 10.0, 10.0, 1.0, 1.0, 69.0, 67.0, 67.0, 54.0, 54.0, 54.0, 21.0, 31.0, 31.0, 23.0, 23.0, 22.0, 22.0, 9.0, 9.0, 9.0, 9.0, 8.0, 8.0, 2.0, 2.0, 30.0, 22.0, 22.0, 8.0, 8.0, 8.0, 1.0, 31.0, 23.0, 23.0, 9.0, 9.0, 9.0, 2.0, 31.0, 31.0, 23.0, 23.0, 22.0, 22.0, 9.0, 9.0, 9.0, 9.0, 8.0, 8.0, 1.0, 1.0, 45.0, 45.0, 45.0, 37.0, 37.0, 37.0, 36.0, 36.0, 36.0, 23.0, 23.0, 23.0, 22.0, 22.0, 22.0, 22.0, 22.0, 22.0, 15.0, 15.0, 15.0, 49.0, 41.0, 41.0, 27.0, 27.0, 27.0, 4.0, 46.0, 38.0, 37.0, 24.0, 24.0, 23.0, 28.0, 20.0, 20.0, 8.0, 8.0, 6.0, 1.0, 30.0, 30.0, 30.0, 22.0, 22.0, 22.0, 21.0, 21.0, 21.0, 10.0, 10.0, 10.0, 9.0, 9.0, 9.0, 8.0, 8.0, 8.0, 1.0, 1.0, 1.0, 60.0, 52.0, 52.0, 38.0, 38.0, 38.0, 9.0, 31.0, 23.0, 22.0, 9.0, 8.0, 8.0, 1.0, 32.0, 32.0, 32.0, 32.0, 23.0, 23.0, 23.0, 23.0, 23.0, 23.0, 23.0, 23.0, 12.0, 12.0, 12.0, 12.0, 11.0, 11.0, 11.0, 11.0, 9.0, 9.0, 9.0, 9.0, 1.0, 1.0, 1.0, 1.0, 29.0, 29.0, 29.0, 24.0, 24.0, 24.0, 23.0, 23.0, 23.0, 9.0, 9.0, 9.0, 9.0, 9.0, 9.0, 9.0, 9.0, 9.0, 2.0, 2.0, 2.0, 42.0, 42.0, 42.0, 37.0, 37.0, 37.0, 36.0, 36.0, 36.0, 23.0, 23.0, 23.0, 22.0, 22.0, 22.0, 22.0, 22.0, 22.0, 30.0, 22.0, 22.0, 10.0, 9.0, 8.0, 1.0, 47.0, 28.0, 27.0, 18.0, 17.0, 16.0, 15.0, 15.0, 13.0, 13.0, 3.0, 67.0, 67.0, 67.0, 67.0, 59.0, 59.0, 59.0, 59.0, 58.0, 58.0, 58.0, 58.0, 47.0, 47.0, 47.0, 47.0, 46.0, 46.0, 46.0, 46.0, 45.0, 45.0, 45.0, 45.0, 17.0, 17.0, 17.0, 17.0, 84.0, 84.0, 65.0, 65.0, 65.0, 65.0, 55.0, 55.0, 54.0, 54.0, 53.0, 53.0, 52.0, 52.0, 52.0, 52.0, 50.0, 50.0, 50.0, 50.0, 40.0, 40.0, 31.0, 31.0, 31.0, 31.0, 25.0, 25.0, 25.0, 25.0, 24.0, 24.0, 24.0, 24.0, 13.0, 13.0, 13.0, 13.0, 12.0, 12.0, 12.0, 12.0, 11.0, 11.0, 11.0, 11.0, 24.0, 24.0, 17.0, 17.0, 17.0, 17.0, 5.0, 5.0, 5.0, 5.0, 3.0, 3.0, 48.0, 39.0, 38.0, 26.0, 26.0, 26.0, 25.0, 2.0, 54.0, 44.0, 44.0, 31.0, 31.0, 31.0, 30.0, 10.0, 46.0, 46.0, 36.0, 36.0, 36.0, 36.0, 23.0, 23.0, 23.0, 23.0, 23.0, 23.0, 23.0, 23.0, 51.0, 51.0, 51.0, 41.0, 41.0, 41.0, 41.0, 41.0, 41.0, 28.0, 28.0, 28.0, 28.0, 28.0, 28.0, 28.0, 28.0, 28.0, 27.0, 27.0, 27.0, 3.0, 3.0, 3.0, 86.0, 79.0, 79.0, 67.0, 67.0, 65.0, 40.0, 48.0, 39.0, 38.0, 26.0, 25.0, 25.0, 25.0, 2.0, 68.0, 63.0, 63.0, 51.0, 51.0, 49.0, 14.0, 28.0, 23.0, 23.0, 11.0, 11.0, 9.0, 3.0, 48.0, 48.0, 48.0, 48.0, 43.0, 43.0, 43.0, 43.0, 43.0, 43.0, 43.0, 43.0, 31.0, 31.0, 31.0, 31.0, 30.0, 30.0, 30.0, 30.0, 29.0, 29.0, 29.0, 29.0, 5.0, 5.0, 5.0, 5.0, 101.0, 94.0, 94.0, 82.0, 82.0, 80.0, 44.0, 45.0, 39.0, 39.0, 27.0, 26.0, 25.0, 14.0, 46.0, 35.0, 35.0, 22.0, 22.0, 22.0, 21.0, 2.0, 42.0, 42.0, 42.0, 37.0, 37.0, 37.0, 37.0, 37.0, 37.0, 25.0, 25.0, 25.0, 25.0, 25.0, 25.0, 23.0, 23.0, 23.0, 61.0, 50.0, 49.0, 37.0, 37.0, 37.0, 36.0, 17.0, 43.0, 43.0, 38.0, 38.0, 38.0, 38.0, 26.0, 26.0, 26.0, 26.0, 24.0, 24.0, 47.0, 47.0, 47.0, 42.0, 42.0, 42.0, 41.0, 41.0, 41.0, 28.0, 28.0, 28.0, 27.0, 27.0, 27.0, 27.0, 27.0, 27.0, 3.0, 3.0, 3.0, 43.0, 43.0, 43.0, 31.0, 31.0, 31.0, 31.0, 31.0, 31.0, 19.0, 19.0, 19.0, 19.0, 19.0, 19.0, 18.0, 18.0, 18.0, 18.0, 18.0, 18.0, 45.0, 45.0, 45.0, 34.0, 34.0, 34.0, 34.0, 34.0, 34.0, 21.0, 21.0, 21.0, 21.0, 21.0, 21.0, 21.0, 21.0, 21.0, 20.0, 20.0, 20.0, 2.0, 2.0, 2.0, 55.0, 55.0, 44.0, 44.0, 43.0, 43.0, 31.0, 31.0, 31.0, 31.0, 30.0, 30.0, 30.0, 30.0, 7.0, 7.0, 55.0, 44.0, 44.0, 32.0, 31.0, 31.0, 31.0, 12.0, 48.0, 37.0, 37.0, 24.0, 24.0, 24.0, 23.0, 3.0, 49.0, 38.0, 38.0, 25.0, 25.0, 25.0, 24.0, 6.0, 42.0, 42.0, 38.0, 38.0, 37.0, 37.0, 25.0, 25.0, 25.0, 25.0, 23.0, 23.0, 53.0, 53.0, 53.0, 53.0, 49.0, 49.0, 49.0, 49.0, 48.0, 48.0, 48.0, 48.0, 36.0, 36.0, 36.0, 36.0, 36.0, 36.0, 36.0, 36.0, 34.0, 34.0, 34.0, 34.0, 5.0, 5.0, 5.0, 5.0, 50.0, 45.0, 45.0, 33.0, 33.0, 31.0, 1.0, 43.0, 38.0, 38.0, 26.0, 25.0, 24.0, 62.0, 62.0, 62.0, 50.0, 50.0, 50.0, 49.0, 49.0, 49.0, 37.0, 37.0, 37.0, 37.0, 37.0, 37.0, 37.0, 37.0, 37.0, 36.0, 36.0, 36.0, 17.0, 17.0, 17.0, 50.0, 50.0, 50.0, 45.0, 45.0, 45.0, 44.0, 44.0, 44.0, 33.0, 33.0, 33.0, 32.0, 32.0, 32.0, 31.0, 31.0, 31.0, 6.0, 6.0, 6.0, 55.0, 50.0, 49.0, 38.0, 37.0, 36.0, 25.0, 25.0, 25.0, 25.0, 25.0, 25.0, 21.0, 21.0, 21.0, 21.0, 21.0, 21.0, 21.0, 21.0, 21.0, 21.0, 21.0, 21.0, 9.0, 9.0, 9.0, 9.0, 9.0, 9.0, 9.0, 9.0, 9.0, 9.0, 9.0, 9.0, 7.0, 7.0, 7.0, 7.0, 7.0, 7.0, 3.0, 3.0, 3.0, 3.0, 3.0, 3.0, 25.0, 25.0, 25.0, 21.0, 21.0, 21.0, 21.0, 21.0, 21.0, 9.0, 9.0, 9.0, 8.0, 8.0, 8.0, 7.0, 7.0, 7.0, 1.0, 1.0, 1.0, 45.0, 45.0, 45.0, 35.0, 35.0, 35.0, 35.0, 35.0, 35.0, 23.0, 23.0, 23.0, 23.0, 23.0, 23.0, 22.0, 22.0, 22.0, 22.0, 22.0, 22.0, 4.0, 4.0, 4.0, 46.0, 36.0, 36.0, 24.0, 24.0, 23.0, 23.0, 2.0, 54.0, 54.0, 54.0, 43.0, 43.0, 43.0, 43.0, 43.0, 43.0, 30.0, 30.0, 30.0, 30.0, 30.0, 30.0, 30.0, 30.0, 30.0, 29.0, 29.0, 29.0, 9.0, 9.0, 9.0, 47.0, 35.0, 35.0, 23.0, 23.0, 22.0, 22.0, 63.0, 60.0, 59.0, 47.0, 47.0, 45.0, 17.0, 44.0, 44.0, 35.0, 35.0, 35.0, 35.0, 22.0, 22.0, 22.0, 22.0, 22.0, 22.0, 21.0, 21.0, 28.0, 28.0, 24.0, 24.0, 23.0, 23.0, 12.0, 12.0, 11.0, 11.0, 10.0, 10.0, 2.0, 2.0, 45.0, 45.0, 45.0, 35.0, 35.0, 35.0, 35.0, 35.0, 35.0, 23.0, 23.0, 23.0, 23.0, 23.0, 23.0, 22.0, 22.0, 22.0, 22.0, 22.0, 22.0, 4.0, 4.0, 4.0, 58.0, 42.0, 41.0, 31.0, 30.0, 29.0, 29.0, 27.0, 27.0, 8.0, 59.0, 43.0, 42.0, 32.0, 31.0, 30.0, 30.0, 28.0, 28.0, 7.0, 40.0, 38.0, 38.0, 26.0, 26.0, 24.0, 14.0, 65.0, 65.0, 49.0, 49.0, 48.0, 48.0, 38.0, 38.0, 37.0, 37.0, 36.0, 36.0, 36.0, 36.0, 34.0, 34.0, 34.0, 34.0, 8.0, 8.0, 43.0, 43.0, 43.0, 34.0, 34.0, 34.0, 34.0, 34.0, 34.0, 21.0, 21.0, 21.0, 21.0, 21.0, 21.0, 21.0, 21.0, 21.0, 20.0, 20.0, 20.0, 2.0, 2.0, 2.0, 51.0, 34.0, 34.0, 24.0, 23.0, 22.0, 22.0, 20.0, 19.0, 6.0, 59.0, 59.0, 42.0, 42.0, 42.0, 42.0, 32.0, 32.0, 31.0, 31.0, 30.0, 30.0, 30.0, 30.0, 28.0, 28.0, 28.0, 28.0, 9.0, 9.0, 44.0, 28.0, 27.0, 17.0, 16.0, 15.0, 15.0, 13.0, 13.0, 73.0, 63.0, 63.0, 50.0, 50.0, 50.0, 49.0, 27.0, 106.0, 97.0, 96.0, 84.0, 84.0, 84.0, 83.0, 59.0, 47.0, 47.0, 47.0, 47.0, 38.0, 38.0, 38.0, 38.0, 38.0, 38.0, 38.0, 38.0, 25.0, 25.0, 25.0, 25.0, 25.0, 25.0, 25.0, 25.0, 25.0, 25.0, 25.0, 25.0, 24.0, 24.0, 24.0, 24.0, 2.0, 2.0, 2.0, 2.0, 61.0, 61.0, 44.0, 44.0, 44.0, 44.0, 34.0, 34.0, 33.0, 33.0, 32.0, 32.0, 32.0, 32.0, 29.0, 29.0, 29.0, 29.0, 15.0, 15.0, 44.0, 44.0, 44.0, 35.0, 35.0, 35.0, 35.0, 35.0, 35.0, 22.0, 22.0, 22.0, 22.0, 22.0, 22.0, 22.0, 22.0, 22.0, 21.0, 21.0, 21.0, 4.0, 4.0, 4.0, 64.0, 48.0, 47.0, 37.0, 35.0, 33.0, 32.0, 32.0, 32.0, 31.0, 5.0]\n"
          ]
        }
      ]
    },
    {
      "cell_type": "markdown",
      "source": [
        "Percentage of predictions accurate within a week:"
      ],
      "metadata": {
        "id": "QVlXip2CWR2F"
      }
    },
    {
      "cell_type": "code",
      "source": [
        "sum(abs(yhat-y_test)<=7)/len(y_test)"
      ],
      "metadata": {
        "colab": {
          "base_uri": "https://localhost:8080/"
        },
        "id": "n3q6HHq_HI1U",
        "outputId": "61553105-d77d-400e-b836-80b1ae3c562c"
      },
      "execution_count": 52,
      "outputs": [
        {
          "output_type": "execute_result",
          "data": {
            "text/plain": [
              "0.3826530612244898"
            ]
          },
          "metadata": {},
          "execution_count": 52
        }
      ]
    },
    {
      "cell_type": "markdown",
      "source": [
        "**Try a simple Linear Regression**"
      ],
      "metadata": {
        "id": "UK8Wu6mpdLQc"
      }
    },
    {
      "cell_type": "code",
      "source": [
        "reg = LinearRegression().fit(X_train, y_train)\n",
        "reg.score(X_test, y_test)"
      ],
      "metadata": {
        "colab": {
          "base_uri": "https://localhost:8080/"
        },
        "id": "4KYMkSIxJUnk",
        "outputId": "16922acc-36bf-482f-d587-b1efe5e47107"
      },
      "execution_count": 53,
      "outputs": [
        {
          "output_type": "execute_result",
          "data": {
            "text/plain": [
              "-2.5927123909267364"
            ]
          },
          "metadata": {},
          "execution_count": 53
        }
      ]
    },
    {
      "cell_type": "markdown",
      "source": [
        "Percentage of predictions accurate within a week:"
      ],
      "metadata": {
        "id": "lH_dvKgMWd1L"
      }
    },
    {
      "cell_type": "code",
      "source": [
        "sum(abs(reg.predict(X_test)-y_test)<=7)/len(y_test)"
      ],
      "metadata": {
        "id": "ugflkpUNWlLU"
      },
      "execution_count": null,
      "outputs": []
    },
    {
      "cell_type": "markdown",
      "source": [
        "Much more to do and try out such as PCA..."
      ],
      "metadata": {
        "id": "dRVnSLAZdThI"
      }
    },
    {
      "cell_type": "code",
      "source": [
        "scaler = StandardScaler()\n",
        "scaler.fit(X_train)\n",
        "X_train_Scale = scaler.transform(X_train)\n",
        "X_test_Scale = scaler.transform(X_test)\n",
        "\n",
        "pca2 = PCA(n_components=2)\n",
        "principalComponents = pca2.fit_transform(X_train_Scale)\n",
        "print(principalComponents)\n",
        "\n",
        "pca = PCA(n_components=2)\n",
        "pca.fit(X_train)\n",
        "PCA(n_components=2)\n",
        "print(pca.explained_variance_ratio_)\n",
        "\n",
        "print(pca.singular_values_)\n"
      ],
      "metadata": {
        "colab": {
          "base_uri": "https://localhost:8080/"
        },
        "id": "eCxn5rVaJxlr",
        "outputId": "7d93ab4d-f3e4-4fa6-cdb9-949375b0255d"
      },
      "execution_count": 55,
      "outputs": [
        {
          "output_type": "stream",
          "name": "stdout",
          "text": [
            "[[ 4.33669717  3.73214844]\n",
            " [ 4.28715051  4.07241719]\n",
            " [ 4.3180929   4.20050414]\n",
            " ...\n",
            " [-0.64294256 -1.61966853]\n",
            " [-0.60877409 -1.02574121]\n",
            " [-0.5009316  -1.48355549]]\n",
            "[0.07430693 0.05282629]\n",
            "[126.61848749 106.75974051]\n"
          ]
        }
      ]
    },
    {
      "cell_type": "markdown",
      "source": [
        "Open questions/things to do:\n",
        "\n",
        "\n",
        "*   y_train auch normalisieren. Generell selber normalisieren\n",
        "*   Group based on how the transport method is\n",
        "*   New scheduling meaning? e.g. 5681685\n",
        "*   Which time to predict precisely -> define properly?\n",
        "*   Group shipments into single data point\n",
        "*   Time2arrival depends on last package in shipment?\n",
        "*   Missing/inconsistent data points, e.g. 4886163: arrival ship in charleston only appears once\n",
        "*   Visualizations about percentages of routes taken\n",
        "*   Develop on validation set\n",
        "*   Which success metric?\n",
        "*   Feature importance methods (PCA,..)\n",
        "*   Time2Arrival imputen?\n",
        "\n",
        "\n",
        "\n",
        "\n",
        "\n",
        "\n",
        "\n",
        "\n",
        "\n",
        "\n",
        "\n",
        "\n",
        "\n",
        "\n"
      ],
      "metadata": {
        "id": "RpLwYQKEW52T"
      }
    }
  ]
}
